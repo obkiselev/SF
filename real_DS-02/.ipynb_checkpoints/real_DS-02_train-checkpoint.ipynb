{
 "cells": [
  {
   "cell_type": "code",
   "execution_count": 19,
   "metadata": {},
   "outputs": [],
   "source": [
    "pA = 0    #вероятность встретить спам\n",
    "pNotA = 0 #вероятность НЕ встретить спам\n",
    "\n",
    "cntA = 0    #кол-во спам-писем\n",
    "cntNotA = 0\n",
    "\n",
    "dctA = {}    #словарь для хранения количеств спам-слов\n",
    "dctNotA = {} #словарь для хранения количеств НЕспам-слов\n",
    "\n",
    "SPAM = 1\n",
    "NOT_SPAM = 0"
   ]
  },
  {
   "cell_type": "code",
   "execution_count": 20,
   "metadata": {},
   "outputs": [],
   "source": [
    "# Заполнение словаря\n",
    "def fill_dict(p_dict, p_word):\n",
    "    if p_word not in p_dict.keys():\n",
    "        p_dict[p_word] = 1\n",
    "    else:\n",
    "        p_dict[p_word] += 1"
   ]
  },
  {
   "cell_type": "code",
   "execution_count": 21,
   "metadata": {},
   "outputs": [],
   "source": [
    "# Вычислить словарь\n",
    "def get_dict(label):\n",
    "    if label == SPAM:\n",
    "#         print('get_dict. return dctA')\n",
    "        return dctA\n",
    "    else:\n",
    "#         print('get_dict. return dctNotA')\n",
    "        return dctNotA\n",
    "    \n",
    "def get_cnt(label):\n",
    "    if label == SPAM:\n",
    "#         print('get_cnt. return cntA')\n",
    "        return cntA\n",
    "    else:\n",
    "#         print('get_cnt. return cntNotA')\n",
    "        return cntNotA"
   ]
  },
  {
   "cell_type": "code",
   "execution_count": 22,
   "metadata": {},
   "outputs": [],
   "source": [
    "# Преобразование строки        \n",
    "def replace_symb(text):\n",
    "    txt = str(text).replace('!', '')\n",
    "    txt = txt.replace('?', '')\n",
    "    txt = txt.replace('.', '')\n",
    "    txt = txt.replace(',', '')\n",
    "    txt = txt.replace(':', '')\n",
    "    txt = txt.replace(';', '')\n",
    "    txt = txt.replace('\"', '')\n",
    "    return txt.lower()\n",
    "\n",
    "str_dig = '0123456789'\n",
    "\n",
    "#Ф-я заполнения словарей\n",
    "def calculate_word_frequencies(body, label):\n",
    "    txt = replace_symb(body)\n",
    "    for word in txt.split():\n",
    "        if label == SPAM:\n",
    "            fill_dict(dctA, word)\n",
    "        elif label == NOT_SPAM:\n",
    "            fill_dict(dctNotA, word)\n",
    "\n",
    "# calculate_word_frequencies('Приглашаем на конференцию Data Science', NOT_SPAM)\n",
    "# print('NOT_SPAM dict:\\n', dctNotA)"
   ]
  },
  {
   "cell_type": "code",
   "execution_count": 23,
   "metadata": {},
   "outputs": [],
   "source": [
    "#Функция обучения\n",
    "def train():\n",
    "    global pA, pNotA\n",
    "    global dctA, dctNotA\n",
    "    global cntA, cntNotA\n",
    "\n",
    "    dctA = {}\n",
    "    dctNotA = {}\n",
    "    cntA = 0\n",
    "    cntNotA = 0\n",
    "\n",
    "    train_data = [  \n",
    "        ['Купите новое чистящее средство', SPAM],   \n",
    "        ['Купи мою новую книгу', SPAM],  \n",
    "        ['Подари себе новый телефон', SPAM],\n",
    "        ['Добро пожаловать и купите новый телевизор', SPAM],\n",
    "        ['Довезем до аэропорта из пригорода всего за 399 рублей', SPAM], \n",
    "        ['Порадуй своего питомца новым костюмом', SPAM],\n",
    "\n",
    "        ['Привет давно не виделись', NOT_SPAM], \n",
    "        ['Добро пожаловать в Мой Круг', NOT_SPAM],  \n",
    "    #     ['Я все еще жду документы', NOT_SPAM],  \n",
    "        ['Я все еще жду документы для проверки', NOT_SPAM],  \n",
    "    #     ['Приглашаем на конференцию Data Science', NOT_SPAM],\n",
    "        ['Приглашаем на конференцию Data Science в вашем городе', NOT_SPAM],\n",
    "    #     ['Потерял твой телефон напомни', NOT_SPAM]\n",
    "        ['Потерял твой телефон напомни его номер', NOT_SPAM]\n",
    "\n",
    "    #     ,['Нам жаль что вы не здесь', SPAM]\n",
    "    #     ,['Выиграй миллион призов', SPAM]\n",
    "    #     ,['Просьба сообщить о результате проверки отчета', NOT_SPAM]\n",
    "    #     ,['Высылаю оценку и техническое задание на последнюю задачу', NOT_SPAM]\n",
    "    ]    \n",
    "    \n",
    "    for i in range(len(train_data)):\n",
    "        if train_data[i][1] == SPAM:\n",
    "            cntA += 1\n",
    "        else:\n",
    "            cntNotA += 1\n",
    "        calculate_word_frequencies(train_data[i][0], train_data[i][1])\n",
    "    pA = round(cntA / (cntA + cntNotA), 6)\n",
    "    pNotA = round(1 - pA, 6)\n",
    "    print('SPAM dict:\\n', dctA)\n",
    "    print('NOT_SPAM dict:\\n', dctNotA)\n",
    "    print('cntA =', cntA, ', pA =', pA, ', len(dctA) =', len(dctA))\n",
    "    print('cntNotA =', cntNotA, ', pNotA =', pNotA, ', len(dctNotA) =', len(dctNotA))"
   ]
  },
  {
   "cell_type": "code",
   "execution_count": 24,
   "metadata": {},
   "outputs": [
    {
     "name": "stdout",
     "output_type": "stream",
     "text": [
      "SPAM dict:\n",
      " {'купите': 2, 'новое': 1, 'чистящее': 1, 'средство': 1, 'купи': 1, 'мою': 1, 'новую': 1, 'книгу': 1, 'подари': 1, 'себе': 1, 'новый': 2, 'телефон': 1, 'добро': 1, 'пожаловать': 1, 'и': 1, 'телевизор': 1, 'довезем': 1, 'до': 1, 'аэропорта': 1, 'из': 1, 'пригорода': 1, 'всего': 1, 'за': 1, '399': 1, 'рублей': 1, 'порадуй': 1, 'своего': 1, 'питомца': 1, 'новым': 1, 'костюмом': 1}\n",
      "NOT_SPAM dict:\n",
      " {'привет': 1, 'давно': 1, 'не': 1, 'виделись': 1, 'добро': 1, 'пожаловать': 1, 'в': 2, 'мой': 1, 'круг': 1, 'я': 1, 'все': 1, 'еще': 1, 'жду': 1, 'документы': 1, 'для': 1, 'проверки': 1, 'приглашаем': 1, 'на': 1, 'конференцию': 1, 'data': 1, 'science': 1, 'вашем': 1, 'городе': 1, 'потерял': 1, 'твой': 1, 'телефон': 1, 'напомни': 1, 'его': 1, 'номер': 1}\n",
      "cntA = 6 , pA = 0.545455 , len(dctA) = 30\n",
      "cntNotA = 5 , pNotA = 0.454545 , len(dctNotA) = 29\n"
     ]
    }
   ],
   "source": [
    "train()"
   ]
  },
  {
   "cell_type": "code",
   "execution_count": 25,
   "metadata": {},
   "outputs": [],
   "source": [
    "# Проверка слова/части слова в словаре. Возвращает подходящий ключ\n",
    "def get_key_by_word(p_dict, p_word):\n",
    "#     #print('get_key_by_word. p_word =', p_word)\n",
    "    for key in p_dict.keys():\n",
    "#         #print('get_key_by_word. loop: key =', key)\n",
    "        if len(p_word) <= 3:\n",
    "            if p_word in p_dict.keys():\n",
    "                return key\n",
    "        else:\n",
    "            if ((len(p_word) > 3 and p_word in str(key)) | #в точности такое слово или часть слова\n",
    "            (len(p_word) > 3 and str(p_word)[:-2] == str(key)) |\n",
    "            (len(p_word) > 1 and str(p_word)[:-1] == str(key)[:-1]) | #один корень, разные окончания\n",
    "            (len(p_word) > 2 and str(p_word)[:-2] == str(key)[:-2]) | #один корень, разные окончания\n",
    "            (len(p_word) > 3 and str(p_word)[:-3] == str(key)[:-3]) #один корень, разные окончания\n",
    "           ): \n",
    "                return key\n",
    "    return None\n",
    "\n",
    "#     if p_word in p_dict.keys():\n",
    "#         return p_word\n",
    "#     else:\n",
    "#         return None"
   ]
  },
  {
   "cell_type": "code",
   "execution_count": 26,
   "metadata": {},
   "outputs": [],
   "source": [
    "# Для отдельного слова\n",
    "def calculate_P_Bi_A(word, label):\n",
    "    d = get_dict(label)\n",
    "    key = get_key_by_word(d, word)\n",
    "    if key == None:\n",
    "#         fill_dict(dctA, word)\n",
    "#         fill_dict(dctNotA, word)\n",
    "#         key = word\n",
    "#         d = get_dict(label)\n",
    "        #print('calculate_P_Bi_A. word =', word, ', key =', key)\n",
    "        return 1 / len(d)\n",
    "    else:\n",
    "#         print('calculate_P_Bi_A. key =', key)\n",
    "#         pass\n",
    "        return (d[key] + 1) / len(d)\n"
   ]
  },
  {
   "cell_type": "code",
   "execution_count": 27,
   "metadata": {},
   "outputs": [],
   "source": [
    "# Для всего предложения\n",
    "def calculate_P_B_A(text, label):\n",
    "    P = 1\n",
    "    txt = replace_symb(text)\n",
    "    for word in txt.split():\n",
    "        prb = calculate_P_Bi_A(word, label)\n",
    "        P *= prb\n",
    "        #print('calculate_P_B_A. prb =',round(prb,6),', P =',P,', word =',word)\n",
    "    return P"
   ]
  },
  {
   "cell_type": "code",
   "execution_count": 28,
   "metadata": {},
   "outputs": [
    {
     "name": "stdout",
     "output_type": "stream",
     "text": [
      "0.03333333333333333 / 0.034482758620689655\n",
      "1.274654218129974e-33\n",
      "=====\n",
      "9.26629323864495e-34\n"
     ]
    }
   ],
   "source": [
    "# for s in train_data:\n",
    "#     print(s[1],':',s[0])\n",
    "# Проверка\n",
    "word = 'сообщение'\n",
    "print(calculate_P_Bi_A(word, SPAM), '/', calculate_P_Bi_A(word, NOT_SPAM))\n",
    "email = 'Мы получили ваше сообщение о пропаже багажа и домашнего питомца в здании аэропорта. Конечно, нам жаль. Но что мы можем с этим сделать?'\n",
    "print(calculate_P_B_A(email, SPAM))\n",
    "print('=====')\n",
    "print(calculate_P_B_A(email, NOT_SPAM))"
   ]
  },
  {
   "cell_type": "code",
   "execution_count": 29,
   "metadata": {},
   "outputs": [],
   "source": [
    "# Итоговая ф-я\n",
    "def classify(email):\n",
    "    global pA, pNotA\n",
    "    P_B_A_SPAM = calculate_P_B_A(email, SPAM)\n",
    "    P_B_A_notSPAM = calculate_P_B_A(email, NOT_SPAM)\n",
    "    print('len(dctA) =',len(dctA),', pA =',pA,', P_B_A_SPAM =',P_B_A_SPAM,', pA * P_B_A_SPAM =',pA * P_B_A_SPAM)\n",
    "    print('len(dctNotA) =',len(dctNotA),', pNotA =',pNotA,', P_B_A_notSPAM =',P_B_A_notSPAM,', pNotA * P_B_A_notSPAM =',pNotA * P_B_A_notSPAM)\n",
    "    if pA * P_B_A_SPAM > pNotA * P_B_A_notSPAM:\n",
    "        return 'SPAM'\n",
    "    else:\n",
    "        return 'NOT_SPAM'"
   ]
  },
  {
   "cell_type": "markdown",
   "metadata": {},
   "source": [
    "### 2.3.1 Вопросы к заданию\n",
    "Проверьте эти сообщения. Что говорит наш классификатор спама?"
   ]
  },
  {
   "cell_type": "code",
   "execution_count": 30,
   "metadata": {},
   "outputs": [
    {
     "name": "stdout",
     "output_type": "stream",
     "text": [
      "len(dctA) = 30 , pA = 0.545455 , P_B_A_SPAM = 3.048315805517452e-12 , pA * P_B_A_SPAM = 1.6627190976985217e-12\n",
      "len(dctNotA) = 29 , pNotA = 0.454545 , P_B_A_notSPAM = 3.998029667343008e-12 , pNotA * P_B_A_notSPAM = 1.8172843951424275e-12\n"
     ]
    },
    {
     "data": {
      "text/plain": [
       "'NOT_SPAM'"
      ]
     },
     "execution_count": 30,
     "metadata": {},
     "output_type": "execute_result"
    }
   ],
   "source": [
    "email = 'Развивай бизнес на дому с услугой \"Безлимитный Интернет\"'\n",
    "classify(email)"
   ]
  },
  {
   "cell_type": "code",
   "execution_count": 31,
   "metadata": {},
   "outputs": [
    {
     "name": "stdout",
     "output_type": "stream",
     "text": [
      "len(dctA) = 30 , pA = 0.545455 , P_B_A_SPAM = 1.274654218129974e-33 , pA * P_B_A_SPAM = 6.952665165500851e-34\n",
      "len(dctNotA) = 29 , pNotA = 0.454545 , P_B_A_notSPAM = 9.26629323864495e-34 , pNotA * P_B_A_notSPAM = 4.211947260159869e-34\n"
     ]
    },
    {
     "data": {
      "text/plain": [
       "'SPAM'"
      ]
     },
     "execution_count": 31,
     "metadata": {},
     "output_type": "execute_result"
    }
   ],
   "source": [
    "email = 'Мы получили ваше сообщение о пропаже багажа и домашнего питомца в здании аэропорта. Конечно, нам жаль. Но что мы можем с этим сделать?'\n",
    "classify(email)"
   ]
  },
  {
   "cell_type": "code",
   "execution_count": 32,
   "metadata": {},
   "outputs": [
    {
     "name": "stdout",
     "output_type": "stream",
     "text": [
      "len(dctA) = 30 , pA = 0.545455 , P_B_A_SPAM = 1.1290058538953524e-17 , pA * P_B_A_SPAM = 6.158218880364894e-18\n",
      "len(dctNotA) = 29 , pNotA = 0.454545 , P_B_A_notSPAM = 5.652675057499082e-18 , pNotA * P_B_A_notSPAM = 2.56939518401092e-18\n"
     ]
    },
    {
     "data": {
      "text/plain": [
       "'SPAM'"
      ]
     },
     "execution_count": 32,
     "metadata": {},
     "output_type": "execute_result"
    }
   ],
   "source": [
    "email = 'Перезвони по номеру +799999999 в течение 6 секунд и выиграй миллион рублей!'\n",
    "classify(email)"
   ]
  },
  {
   "cell_type": "code",
   "execution_count": 33,
   "metadata": {},
   "outputs": [
    {
     "name": "stdout",
     "output_type": "stream",
     "text": [
      "len(dctA) = 30 , pA = 0.545455 , P_B_A_SPAM = 1.234567901234568e-07 , pA * P_B_A_SPAM = 6.734012345679013e-08\n",
      "len(dctNotA) = 29 , pNotA = 0.454545 , P_B_A_notSPAM = 4.875397277841431e-08 , pNotA * P_B_A_notSPAM = 2.216087455656433e-08\n"
     ]
    },
    {
     "data": {
      "text/plain": [
       "'SPAM'"
      ]
     },
     "execution_count": 33,
     "metadata": {},
     "output_type": "execute_result"
    }
   ],
   "source": [
    "email = 'Купите три по цене двух'\n",
    "classify(email)"
   ]
  },
  {
   "cell_type": "code",
   "execution_count": 34,
   "metadata": {},
   "outputs": [
    {
     "name": "stdout",
     "output_type": "stream",
     "text": [
      "===== SPAM\n",
      " len(dctA) = 30 \n",
      " dict:\n",
      " {'купите': 2, 'новое': 1, 'чистящее': 1, 'средство': 1, 'купи': 1, 'мою': 1, 'новую': 1, 'книгу': 1, 'подари': 1, 'себе': 1, 'новый': 2, 'телефон': 1, 'добро': 1, 'пожаловать': 1, 'и': 1, 'телевизор': 1, 'довезем': 1, 'до': 1, 'аэропорта': 1, 'из': 1, 'пригорода': 1, 'всего': 1, 'за': 1, '399': 1, 'рублей': 1, 'порадуй': 1, 'своего': 1, 'питомца': 1, 'новым': 1, 'костюмом': 1}\n"
     ]
    }
   ],
   "source": [
    "print('===== SPAM\\n', 'len(dctA) =', len(dctA),'\\n dict:\\n', dctA)"
   ]
  },
  {
   "cell_type": "code",
   "execution_count": 35,
   "metadata": {},
   "outputs": [
    {
     "name": "stdout",
     "output_type": "stream",
     "text": [
      "===== NOT_SPAM\n",
      " len(dctNotA) = 29 dict:\n",
      " {'привет': 1, 'давно': 1, 'не': 1, 'виделись': 1, 'добро': 1, 'пожаловать': 1, 'в': 2, 'мой': 1, 'круг': 1, 'я': 1, 'все': 1, 'еще': 1, 'жду': 1, 'документы': 1, 'для': 1, 'проверки': 1, 'приглашаем': 1, 'на': 1, 'конференцию': 1, 'data': 1, 'science': 1, 'вашем': 1, 'городе': 1, 'потерял': 1, 'твой': 1, 'телефон': 1, 'напомни': 1, 'его': 1, 'номер': 1}\n"
     ]
    }
   ],
   "source": [
    "print('===== NOT_SPAM\\n', 'len(dctNotA) =', len(dctNotA),'dict:\\n', dctNotA)"
   ]
  },
  {
   "cell_type": "code",
   "execution_count": null,
   "metadata": {},
   "outputs": [],
   "source": []
  }
 ],
 "metadata": {
  "kernelspec": {
   "display_name": "Python 3",
   "language": "python",
   "name": "python3"
  },
  "language_info": {
   "codemirror_mode": {
    "name": "ipython",
    "version": 3
   },
   "file_extension": ".py",
   "mimetype": "text/x-python",
   "name": "python",
   "nbconvert_exporter": "python",
   "pygments_lexer": "ipython3",
   "version": "3.7.4"
  }
 },
 "nbformat": 4,
 "nbformat_minor": 2
}
