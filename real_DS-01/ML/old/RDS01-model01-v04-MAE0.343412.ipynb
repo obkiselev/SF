{
 "cells": [
  {
   "cell_type": "markdown",
   "metadata": {},
   "source": [
    "# Загрузка Pandas и очистка данных"
   ]
  },
  {
   "cell_type": "code",
   "execution_count": 491,
   "metadata": {},
   "outputs": [],
   "source": [
    "# Импорт необходимых библиотек\n",
    "import pandas as pd\n",
    "import re\n",
    "import datetime as dt"
   ]
  },
  {
   "cell_type": "code",
   "execution_count": 492,
   "metadata": {},
   "outputs": [],
   "source": [
    "df = pd.read_csv('data/main_task.csv')"
   ]
  },
  {
   "cell_type": "code",
   "execution_count": 493,
   "metadata": {},
   "outputs": [],
   "source": [
    "def prn_info(p_col):\n",
    "    global df\n",
    "    print('    *** value_counts of ['+p_col+']:')\n",
    "    print(df[p_col].value_counts())\n",
    "    print('    ***    rows qnty of ['+p_col+']:',df[p_col].value_counts().sum())"
   ]
  },
  {
   "cell_type": "markdown",
   "metadata": {},
   "source": [
    "## ===== Генерация новых признаков"
   ]
  },
  {
   "cell_type": "markdown",
   "metadata": {},
   "source": [
    "## //--> *** Цены"
   ]
  },
  {
   "cell_type": "markdown",
   "metadata": {},
   "source": [
    "### Новый признак ['newPriceLevel'] - кодировка уровня цен в ресторане (0=min / 1=middle / 2=max)"
   ]
  },
  {
   "cell_type": "code",
   "execution_count": 494,
   "metadata": {},
   "outputs": [
    {
     "name": "stdout",
     "output_type": "stream",
     "text": [
      "    *** value_counts of [Price Range]:\n",
      "$$ - $$$    18412\n",
      "$            6279\n",
      "$$$$         1423\n",
      "Name: Price Range, dtype: int64\n",
      "    ***    rows qnty of [Price Range]: 26114\n",
      "    *** value_counts of [newPriceLevel]:\n",
      " 1    18412\n",
      "-1    13886\n",
      " 0     6279\n",
      " 2     1423\n",
      "Name: newPriceLevel, dtype: int64\n",
      "    ***    rows qnty of [newPriceLevel]: 40000\n"
     ]
    }
   ],
   "source": [
    "df['newPriceLevel'] = 0\n",
    "df.loc[df['Price Range'].isna(), ['newPriceLevel']] = -1 #переопределение ниже\n",
    "df.loc[df['Price Range'] == '$', ['newPriceLevel']] = 0\n",
    "df.loc[df['Price Range'] == '$$ - $$$', ['newPriceLevel']] = 1\n",
    "df.loc[df['Price Range'] == '$$$$', ['newPriceLevel']] = 2\n",
    "\n",
    "prn_info('Price Range')\n",
    "prn_info('newPriceLevel')"
   ]
  },
  {
   "cell_type": "markdown",
   "metadata": {},
   "source": [
    "## *** <--//"
   ]
  },
  {
   "cell_type": "markdown",
   "metadata": {},
   "source": [
    "## //--> *** Города"
   ]
  },
  {
   "cell_type": "markdown",
   "metadata": {},
   "source": [
    "### Новый признак ['newIsCapital'] - является ли город нахождения ресторана столицей (1=Да / 0=Нет)"
   ]
  },
  {
   "cell_type": "code",
   "execution_count": 495,
   "metadata": {},
   "outputs": [
    {
     "name": "stdout",
     "output_type": "stream",
     "text": [
      "    *** value_counts of [newIsCapital]:\n",
      "1    30424\n",
      "0     9576\n",
      "Name: newIsCapital, dtype: int64\n",
      "    ***    rows qnty of [newIsCapital]: 40000\n"
     ]
    },
    {
     "name": "stderr",
     "output_type": "stream",
     "text": [
      "C:\\Users\\OKiselev\\Miniconda3\\lib\\site-packages\\pandas\\core\\indexing.py:205: SettingWithCopyWarning: \n",
      "A value is trying to be set on a copy of a slice from a DataFrame\n",
      "\n",
      "See the caveats in the documentation: http://pandas.pydata.org/pandas-docs/stable/user_guide/indexing.html#returning-a-view-versus-a-copy\n",
      "  self._setitem_with_indexer(indexer, value)\n"
     ]
    }
   ],
   "source": [
    "df['newIsCapital'] = None\n",
    "df['newIsCapital'] = df['newIsCapital'].fillna(1) #сначала записываем везде 1\n",
    "#теперь определяем НЕстолицы:\n",
    "df['newIsCapital'].loc[(df['City']=='Munich') | (df['City']=='Oporto') | (df['City']=='Milan') | \n",
    "           (df['City']=='Barcelona') | (df['City']=='Zurich') | (df['City']=='Lyon') | \n",
    "           (df['City']=='Hamburg') | (df['City']=='Geneva') | (df['City']=='Krakow')] = 0\n",
    "\n",
    "prn_info('newIsCapital')"
   ]
  },
  {
   "cell_type": "markdown",
   "metadata": {},
   "source": [
    "## *** <--//"
   ]
  },
  {
   "cell_type": "markdown",
   "metadata": {},
   "source": [
    "## //--> *** Кухни"
   ]
  },
  {
   "cell_type": "markdown",
   "metadata": {},
   "source": [
    "### Новый признак ['newQntyCS'] - кол-во представленных в ресторане кухонь"
   ]
  },
  {
   "cell_type": "code",
   "execution_count": 496,
   "metadata": {},
   "outputs": [
    {
     "name": "stdout",
     "output_type": "stream",
     "text": [
      "    *** value_counts of [Cuisine Style]:\n",
      "['Italian']                                                                                                                1032\n",
      "['French']                                                                                                                  805\n",
      "['Spanish']                                                                                                                 695\n",
      "['French', 'European']                                                                                                      405\n",
      "['Cafe']                                                                                                                    403\n",
      "                                                                                                                           ... \n",
      "['Asian', 'Thai', 'Malaysian', 'Vegetarian Friendly', 'Gluten Free Options']                                                  1\n",
      "['European', 'Thai']                                                                                                          1\n",
      "['European', 'Healthy']                                                                                                       1\n",
      "['Fast Food', 'Asian', 'Healthy', 'Vegetarian Friendly', 'Vegan Options', 'Gluten Free Options']                              1\n",
      "['Italian', 'Seafood', 'Mediterranean', 'International', 'Vegan Options', 'Vegetarian Friendly', 'Gluten Free Options']       1\n",
      "Name: Cuisine Style, Length: 9007, dtype: int64\n",
      "    ***    rows qnty of [Cuisine Style]: 30717\n",
      "    *** value_counts of [newQntyCS]:\n",
      "1     16547\n",
      "2      6294\n",
      "3      5306\n",
      "4      4799\n",
      "5      3606\n",
      "6      2043\n",
      "7      1022\n",
      "8       283\n",
      "9        76\n",
      "10       19\n",
      "11        3\n",
      "21        1\n",
      "13        1\n",
      "Name: newQntyCS, dtype: int64\n",
      "    ***    rows qnty of [newQntyCS]: 40000\n"
     ]
    }
   ],
   "source": [
    "df['newQntyCS'] = 0 #для нового признака\n",
    "idx = -1\n",
    "\n",
    "for v in df['Cuisine Style'].apply(lambda x: str(x).strip('[]')):\n",
    "    idx += 1\n",
    "    if pd.isna(str(v)) or str(v).lower() == 'nan':\n",
    "        df['newQntyCS'].iloc[idx] = 1\n",
    "    elif ',' not in v:\n",
    "        df['newQntyCS'].iloc[idx] = 1\n",
    "    else:\n",
    "        for cs in v.split(','):\n",
    "            df['newQntyCS'].iloc[idx] += 1\n",
    "            \n",
    "prn_info('Cuisine Style')\n",
    "prn_info('newQntyCS')"
   ]
  },
  {
   "cell_type": "markdown",
   "metadata": {},
   "source": [
    "### Новые признаки ['newQntyCS01-05'], ['newQntyCS06-10'], ['newQntyCS10-15'], ['newQntyCS16-20'], ['newQntyCSgrt20']:\n",
    " - разбить по колонкам \"Кол-во от 1 до 5\", \"Кол-во от 6 до 10\", \"Кол-во от 11 до 15\", \"Кол-во от 16 до 20\", \"Кол-во более 20\""
   ]
  },
  {
   "cell_type": "code",
   "execution_count": 497,
   "metadata": {},
   "outputs": [
    {
     "name": "stdout",
     "output_type": "stream",
     "text": [
      "    *** value_counts of [newIsQntyCS01-05]:\n",
      "1    36552\n",
      "0     3448\n",
      "Name: newIsQntyCS01-05, dtype: int64\n",
      "    ***    rows qnty of [newIsQntyCS01-05]: 40000\n",
      "    *** value_counts of [newIsQntyCS06-10]:\n",
      "0    36557\n",
      "1     3443\n",
      "Name: newIsQntyCS06-10, dtype: int64\n",
      "    ***    rows qnty of [newIsQntyCS06-10]: 40000\n",
      "    *** value_counts of [newIsQntyCS11-15]:\n",
      "0    39996\n",
      "1        4\n",
      "Name: newIsQntyCS11-15, dtype: int64\n",
      "    ***    rows qnty of [newIsQntyCS11-15]: 40000\n",
      "    *** value_counts of [newIsQntyCSgrt15]:\n",
      "0    39999\n",
      "1        1\n",
      "Name: newIsQntyCSgrt15, dtype: int64\n",
      "    ***    rows qnty of [newIsQntyCSgrt15]: 40000\n"
     ]
    }
   ],
   "source": [
    "df['newIsQntyCS01-05'] = 0\n",
    "df['newIsQntyCS06-10'] = 0\n",
    "df['newIsQntyCS11-15'] = 0\n",
    "df['newIsQntyCSgrt15'] = 0\n",
    "idx = -1\n",
    "\n",
    "for v in df['newQntyCS']:\n",
    "    idx += 1\n",
    "#     if idx>5:\n",
    "#         break\n",
    "    #print(v)\n",
    "    if 1 <= v <= 5:\n",
    "        df['newIsQntyCS01-05'].iloc[idx] = 1\n",
    "    elif 6 <= v <= 10:\n",
    "        df['newIsQntyCS06-10'].iloc[idx] = 1\n",
    "    elif 11 <= v <= 15:\n",
    "        df['newIsQntyCS11-15'].iloc[idx] = 1\n",
    "    elif 16 <= v:\n",
    "        df['newIsQntyCSgrt15'].iloc[idx] = 1\n",
    "    \n",
    "prn_info('newIsQntyCS01-05')\n",
    "prn_info('newIsQntyCS06-10')\n",
    "prn_info('newIsQntyCS11-15')\n",
    "prn_info('newIsQntyCSgrt15')\n"
   ]
  },
  {
   "cell_type": "markdown",
   "metadata": {},
   "source": [
    "### Новый признак ['newIsUniqueCS'] - присутствует ли в ресторане тип кухни в единственном экземпляре среди всех ресторанов (1=Да / 0=Нет)"
   ]
  },
  {
   "cell_type": "code",
   "execution_count": 498,
   "metadata": {},
   "outputs": [
    {
     "name": "stdout",
     "output_type": "stream",
     "text": [
      "    *** value_counts of [newIsUniqueCS]:\n",
      "0    39995\n",
      "1        5\n",
      "Name: newIsUniqueCS, dtype: int64\n",
      "    ***    rows qnty of [newIsUniqueCS]: 40000\n"
     ]
    }
   ],
   "source": [
    "df['newIsUniqueCS'] = 0 #для нового признака\n",
    "# Ручное заполнение\n",
    "\n",
    "# Список кухонь, встречающихся по 1 разу:\n",
    "# ['Mexican', 'Latin', 'Salvadoran', 'Central American', 'Spanish']\n",
    "# ['Asian', 'Thai', 'Yunnan', 'Vegetarian Friendly', 'Vegan Options']\n",
    "# ['Chinese', 'Xinjiang']\n",
    "# ['Chinese', 'Asian', 'Thai', 'Burmese']\n",
    "# ['Mexican', 'American', 'European', 'Latvian', 'Eastern European', 'Hungarian']\n",
    "\n",
    "idxList = df.index[(df['Cuisine Style'] == \n",
    "   \"['Mexican', 'Latin', 'Salvadoran', 'Central American', 'Spanish']\") |\n",
    "   (df['Cuisine Style'] == \n",
    "    \"['Asian', 'Thai', 'Yunnan', 'Vegetarian Friendly', 'Vegan Options']\") |\n",
    "   (df['Cuisine Style'] == \"['Chinese', 'Xinjiang']\") |\n",
    "   (df['Cuisine Style'] == \"['Chinese', 'Asian', 'Thai', 'Burmese']\") |\n",
    "   (df['Cuisine Style'] == \n",
    "    \"['Mexican', 'American', 'European', 'Latvian', 'Eastern European', 'Hungarian']\")\n",
    "      ].to_list()\n",
    "df.newIsUniqueCS.iloc[idxList] = 1\n",
    "\n",
    "prn_info('newIsUniqueCS')"
   ]
  },
  {
   "cell_type": "markdown",
   "metadata": {},
   "source": [
    "## *** <--//"
   ]
  },
  {
   "cell_type": "markdown",
   "metadata": {},
   "source": [
    "## //--> *** Отзывы"
   ]
  },
  {
   "cell_type": "markdown",
   "metadata": {},
   "source": [
    "### Новый признак ['newQntyLastReview'] - кол-во свежих отзывов (0=Нет отзывов / 1 / 2)\n",
    "# ---\n",
    "### Новый признак ['newIsPositiveRev']\n",
    " - newIsPositiveRev - явно позитивный отзыв (1=Да / 0=Нет)\n",
    "\n",
    "# ---\n",
    "### Новые признаки ['newLastRevYear'], ['newLastRevMonth'], ['newLastRevDofM'], ['newLastRevDofW']\n",
    " - самый свежий отзыв: год, месяц, день месяца, день недели, час суток, когда оставлен отзыв"
   ]
  },
  {
   "cell_type": "code",
   "execution_count": 499,
   "metadata": {},
   "outputs": [
    {
     "name": "stdout",
     "output_type": "stream",
     "text": [
      "    *** value_counts of [Reviews]:\n",
      "[[], []]                                                                                                                              6471\n",
      "[['Very good all around', 'Our first Madrid restaurant'], ['11/20/2017', '10/11/2017']]                                                  2\n",
      "[['The real codido madrileño'], ['03/31/2017']]                                                                                          2\n",
      "[['Whenever in Madrid, we never miss this gem...', 'Underrated sushi restaurant with very good...'], ['04/11/2017', '12/02/2016']]       2\n",
      "[['Thursday snack', 'Good value for money & good food!'], ['03/13/2017', '06/20/2016']]                                                  2\n",
      "                                                                                                                                      ... \n",
      "[['Delicious lunch', 'Hokejka'], ['11/13/2017', '08/20/2016']]                                                                           1\n",
      "[['Good food, awesome staff', 'Excellent Steaks'], ['10/12/2017', '10/03/2017']]                                                         1\n",
      "[['Delicious, friendly, cool'], ['12/24/2017']]                                                                                          1\n",
      "[['WOW , lovely Food', 'Nice find'], ['10/24/2016', '09/18/2016']]                                                                       1\n",
      "[['Genuine Turkish food, lovingly prepared'], ['10/02/2017']]                                                                            1\n",
      "Name: Reviews, Length: 33516, dtype: int64\n",
      "    ***    rows qnty of [Reviews]: 40000\n",
      "    *** value_counts of [newQntyLastReview]:\n",
      "2    28973\n",
      "0     6471\n",
      "1     4556\n",
      "Name: newQntyLastReview, dtype: int64\n",
      "    ***    rows qnty of [newQntyLastReview]: 40000\n",
      "    *** value_counts of [newIsPositiveRev]:\n",
      "0    27299\n",
      "1    12701\n",
      "Name: newIsPositiveRev, dtype: int64\n",
      "    ***    rows qnty of [newIsPositiveRev]: 40000\n",
      "    *** value_counts of [newLastRevYear]:\n",
      "2017    22292\n",
      "1900     6471\n",
      "2018     4467\n",
      "2016     4018\n",
      "2015     1520\n",
      "2014      646\n",
      "2013      301\n",
      "2012      164\n",
      "2011       50\n",
      "2008       30\n",
      "2010       21\n",
      "2009       15\n",
      "2007        4\n",
      "2004        1\n",
      "Name: newLastRevYear, dtype: int64\n",
      "    ***    rows qnty of [newLastRevYear]: 40000\n",
      "    *** value_counts of [newLastRevMonth]:\n",
      "1     11258\n",
      "12     5878\n",
      "11     4412\n",
      "10     4029\n",
      "9      2839\n",
      "8      2329\n",
      "7      2237\n",
      "6      1714\n",
      "5      1598\n",
      "2      1413\n",
      "4      1277\n",
      "3      1016\n",
      "Name: newLastRevMonth, dtype: int64\n",
      "    ***    rows qnty of [newLastRevMonth]: 40000\n",
      "    *** value_counts of [newLastRevDofM]:\n",
      "1     7631\n",
      "7     1446\n",
      "6     1438\n",
      "3     1374\n",
      "8     1317\n",
      "4     1272\n",
      "2     1259\n",
      "9     1258\n",
      "5     1191\n",
      "11    1082\n",
      "29    1079\n",
      "30    1067\n",
      "22    1066\n",
      "19    1050\n",
      "10    1045\n",
      "16    1022\n",
      "28    1022\n",
      "23    1018\n",
      "26    1008\n",
      "25     999\n",
      "17     995\n",
      "21     993\n",
      "27     993\n",
      "13     982\n",
      "24     980\n",
      "20     973\n",
      "18     972\n",
      "15     962\n",
      "14     920\n",
      "12     920\n",
      "31     666\n",
      "Name: newLastRevDofM, dtype: int64\n",
      "    ***    rows qnty of [newLastRevDofM]: 40000\n",
      "    *** value_counts of [newLastRevDofW]:\n",
      "1    11367\n",
      "6     5135\n",
      "2     5028\n",
      "5     4870\n",
      "0     4806\n",
      "3     4422\n",
      "4     4372\n",
      "Name: newLastRevDofW, dtype: int64\n",
      "    ***    rows qnty of [newLastRevDofW]: 40000\n"
     ]
    }
   ],
   "source": [
    "df['newQntyLastReview'] = 0\n",
    "df['newIsPositiveRev'] = 0\n",
    "df['newLastRevYear'] = 1900\n",
    "df['newLastRevMonth'] = 1\n",
    "df['newLastRevDofM'] = 1\n",
    "df['newLastRevDofW'] = 1\n",
    "\n",
    "cnt = 0\n",
    "idxList = df.index[df['Reviews'] != '[[], []]'].to_list()\n",
    "for idx in idxList:\n",
    "    cnt += 1\n",
    "#     if cnt>5:\n",
    "#         break\n",
    "    \n",
    "    #newQntyLastReview\n",
    "    lst = re.findall(r'\\d\\d\\/\\d\\d\\/\\d{4}', df['Reviews'].iloc[idx])\n",
    "    df['newQntyLastReview'].iloc[idx] = len(lst)\n",
    "\n",
    "    #newLastRevYear, newLastRevMonth, newLastRevDofM, newLastRevDofW\n",
    "    t = None\n",
    "    if len(lst) == 1:\n",
    "        t = pd.to_datetime(lst[0])\n",
    "    elif len(lst) == 2:\n",
    "        t1 = pd.to_datetime(lst[0])\n",
    "        t2 = pd.to_datetime(lst[1])\n",
    "        if t1>t2:\n",
    "            t = t1\n",
    "        else:\n",
    "            t = t2\n",
    "    if not pd.isnull(t):\n",
    "        #print(t, ',', t.hour)\n",
    "        df['newLastRevYear'].iloc[idx] = t.year\n",
    "        df['newLastRevMonth'].iloc[idx] = t.month\n",
    "        df['newLastRevDofM'].iloc[idx] = t.day\n",
    "        df['newLastRevDofW'].iloc[idx] = t.weekday()\n",
    "    \n",
    "    #newIsPositiveRev\n",
    "    lst = re.findall(r'good|delic|lovin|wonderf|awesom|best', str(df['Reviews'].iloc[idx]).lower())\n",
    "    if len(lst) > 0:\n",
    "         df['newIsPositiveRev'].iloc[idx] = 1\n",
    "\n",
    "prn_info('Reviews')\n",
    "prn_info('newQntyLastReview')\n",
    "prn_info('newIsPositiveRev')\n",
    "prn_info('newLastRevYear')\n",
    "prn_info('newLastRevMonth')\n",
    "prn_info('newLastRevDofM')\n",
    "prn_info('newLastRevDofW')"
   ]
  },
  {
   "cell_type": "markdown",
   "metadata": {},
   "source": [
    "### Новый признак ['newQntyDaysBetwRev'] - кол-во дней между двумя последними отзывами (365x200=73000 - нет ни одного отзыва /  365x100=36500 - есть только 1 отзыв / N - кол-во дней между двумя последними отзывами)"
   ]
  },
  {
   "cell_type": "code",
   "execution_count": 500,
   "metadata": {},
   "outputs": [
    {
     "name": "stdout",
     "output_type": "stream",
     "text": [
      "    *** value_counts of [Reviews]:\n",
      "[[], []]                                                                                                                              6471\n",
      "[['Very good all around', 'Our first Madrid restaurant'], ['11/20/2017', '10/11/2017']]                                                  2\n",
      "[['The real codido madrileño'], ['03/31/2017']]                                                                                          2\n",
      "[['Whenever in Madrid, we never miss this gem...', 'Underrated sushi restaurant with very good...'], ['04/11/2017', '12/02/2016']]       2\n",
      "[['Thursday snack', 'Good value for money & good food!'], ['03/13/2017', '06/20/2016']]                                                  2\n",
      "                                                                                                                                      ... \n",
      "[['Delicious lunch', 'Hokejka'], ['11/13/2017', '08/20/2016']]                                                                           1\n",
      "[['Good food, awesome staff', 'Excellent Steaks'], ['10/12/2017', '10/03/2017']]                                                         1\n",
      "[['Delicious, friendly, cool'], ['12/24/2017']]                                                                                          1\n",
      "[['WOW , lovely Food', 'Nice find'], ['10/24/2016', '09/18/2016']]                                                                       1\n",
      "[['Genuine Turkish food, lovingly prepared'], ['10/02/2017']]                                                                            1\n",
      "Name: Reviews, Length: 33516, dtype: int64\n",
      "    ***    rows qnty of [Reviews]: 40000\n",
      "    *** value_counts of [newQntyDaysBetwRev]:\n",
      "73000    6471\n",
      "36500    4556\n",
      "1         664\n",
      "2         523\n",
      "3         496\n",
      "         ... \n",
      "1455        1\n",
      "1391        1\n",
      "1359        1\n",
      "1327        1\n",
      "1167        1\n",
      "Name: newQntyDaysBetwRev, Length: 1230, dtype: int64\n",
      "    ***    rows qnty of [newQntyDaysBetwRev]: 40000\n"
     ]
    }
   ],
   "source": [
    "df['newQntyDaysBetwRev'] = 365 * 200\n",
    "cnt = 0\n",
    "    \n",
    "idxList = df.index[df['Reviews'] != '[[], []]'].to_list()\n",
    "for idx in idxList:\n",
    "    cnt += 1\n",
    "#     if cnt>5:\n",
    "#         break\n",
    "    Tdiff = dt.timedelta(days=0)\n",
    "    lst = re.findall(r'\\d\\d\\/\\d\\d\\/\\d{4}', df['Reviews'].iloc[idx])\n",
    "    if len(lst) == 1:\n",
    "        df['newQntyDaysBetwRev'].iloc[idx] = 365 * 100\n",
    "    else:\n",
    "        t1 = pd.to_datetime(lst[0])\n",
    "        t2 = pd.to_datetime(lst[1])\n",
    "        if t1 > t2:\n",
    "            Tdiff = t1 - t2\n",
    "        else:\n",
    "            Tdiff = t2 - t1\n",
    "        df['newQntyDaysBetwRev'].iloc[idx] = Tdiff.days\n",
    "        #print(Tdiff, Tdiff.days)\n",
    "\n",
    "prn_info('Reviews')\n",
    "prn_info('newQntyDaysBetwRev')"
   ]
  },
  {
   "cell_type": "code",
   "execution_count": null,
   "metadata": {},
   "outputs": [],
   "source": []
  },
  {
   "cell_type": "markdown",
   "metadata": {},
   "source": [
    "## *** <--//"
   ]
  },
  {
   "cell_type": "markdown",
   "metadata": {},
   "source": [
    "## //--> *** Рестораны"
   ]
  },
  {
   "cell_type": "markdown",
   "metadata": {},
   "source": [
    "### Новый признак ['newIsChain'] - сетевой ресторан (1=Да / 0=Нет)"
   ]
  },
  {
   "cell_type": "code",
   "execution_count": 501,
   "metadata": {},
   "outputs": [
    {
     "name": "stdout",
     "output_type": "stream",
     "text": [
      "    *** value_counts of [newIsChain]:\n",
      "1    35295\n",
      "0     4705\n",
      "Name: newIsChain, dtype: int64\n",
      "    ***    rows qnty of [newIsChain]: 40000\n"
     ]
    }
   ],
   "source": [
    "df['newIsChain'] = 1\n",
    "df_chain = pd.DataFrame(df.groupby(df['Restaurant_id']).newIsChain.count())\n",
    "df_chain.columns = ['cnt']\n",
    "idxList = df_chain.index[df_chain['cnt'] == 1].to_list() #это НЕсетевые рестораны\n",
    "# len(idxList)\n",
    "cnt=0\n",
    "for idx in idxList:\n",
    "    cnt += 1\n",
    "#     if cnt>5:\n",
    "#         break\n",
    "    df['newIsChain'].iloc[df.index[df['Restaurant_id'] == idx]] = 0\n",
    "\n",
    "prn_info('newIsChain')"
   ]
  },
  {
   "cell_type": "markdown",
   "metadata": {},
   "source": [
    "## *** <--//"
   ]
  },
  {
   "cell_type": "code",
   "execution_count": null,
   "metadata": {},
   "outputs": [],
   "source": []
  },
  {
   "cell_type": "markdown",
   "metadata": {},
   "source": []
  },
  {
   "cell_type": "code",
   "execution_count": null,
   "metadata": {},
   "outputs": [],
   "source": []
  },
  {
   "cell_type": "markdown",
   "metadata": {},
   "source": [
    "## //--> =====  Очистка данных ====="
   ]
  },
  {
   "cell_type": "markdown",
   "metadata": {},
   "source": [
    "### Очистка ['Cuisine Style'] - ??? надо ли делать ???"
   ]
  },
  {
   "cell_type": "markdown",
   "metadata": {},
   "source": [
    "## ===== <--//"
   ]
  },
  {
   "cell_type": "markdown",
   "metadata": {},
   "source": [
    "## //--> ===== Заполнение пропусков ====="
   ]
  },
  {
   "cell_type": "markdown",
   "metadata": {},
   "source": [
    "### ['Number of Reviews']\n",
    "Определить ['Number of Reviews']=NaN по кол-ву ['Reviews'] ('[[], []]' = 0/1/2)"
   ]
  },
  {
   "cell_type": "code",
   "execution_count": 502,
   "metadata": {},
   "outputs": [
    {
     "name": "stdout",
     "output_type": "stream",
     "text": [
      "    *** value_counts of [Number of Reviews]:\n",
      "2.0       1916\n",
      "3.0       1636\n",
      "0.0       1597\n",
      "4.0       1370\n",
      "5.0       1181\n",
      "          ... \n",
      "3015.0       1\n",
      "1119.0       1\n",
      "1606.0       1\n",
      "1363.0       1\n",
      "2800.0       1\n",
      "Name: Number of Reviews, Length: 1461, dtype: int64\n",
      "    ***    rows qnty of [Number of Reviews]: 40000\n"
     ]
    }
   ],
   "source": [
    "cnt=0\n",
    "idxList = df.index[df['Number of Reviews'].isna()].to_list()\n",
    "for idx in idxList:\n",
    "    cnt += 1\n",
    "#     if cnt>5:\n",
    "#         break\n",
    "    df['Number of Reviews'].iloc[idx] = df['newQntyLastReview'].iloc[idx]\n",
    "\n",
    "prn_info('Number of Reviews')"
   ]
  },
  {
   "cell_type": "markdown",
   "metadata": {},
   "source": [
    "### ['newPriceLevel']\n",
    "Среднее знач-е при фиксированных City, Rating, 'Number of Reviews', newQntyCS"
   ]
  },
  {
   "cell_type": "code",
   "execution_count": 503,
   "metadata": {},
   "outputs": [
    {
     "name": "stdout",
     "output_type": "stream",
     "text": [
      "    *** value_counts of [newPriceLevel]:\n",
      "1.0    27468\n",
      "0.0    10886\n",
      "2.0     1646\n",
      "Name: newPriceLevel, dtype: int64\n",
      "    ***    rows qnty of [newPriceLevel]: 40000\n"
     ]
    }
   ],
   "source": [
    "cnt=0\n",
    "idxList = df.index[df['newPriceLevel'] == -1].to_list()\n",
    "for idx in idxList:\n",
    "    cnt += 1\n",
    "    #print(idx)\n",
    "#     if cnt>5:\n",
    "#         break\n",
    "#     print(df['newPriceLevel'].iloc[idx])\n",
    "    mean_val = df.loc[(df['City'] == df['City'].iloc[idx]) & \n",
    "                         (df['Rating']==df['Rating'].iloc[idx]) &\n",
    "                         (df['Number of Reviews']==df['Number of Reviews'].iloc[idx]) &\n",
    "                         (df['newQntyCS']==df['newQntyCS'].iloc[idx]) & \n",
    "                         (df['newPriceLevel'] != -1)\n",
    "                        ].newPriceLevel.mean()\n",
    "    if pd.isna(mean_val):\n",
    "        #расширяем границы - убираем условие (df['Number of Reviews']==df['Number of Reviews'].iloc[idx])\n",
    "        mean_val = df.loc[(df['City'] == df['City'].iloc[idx]) & \n",
    "                             (df['Rating']==df['Rating'].iloc[idx]) &\n",
    "                             (df['newQntyCS']==df['newQntyCS'].iloc[idx]) & \n",
    "                             (df['newPriceLevel'] != -1)\n",
    "                        ].newPriceLevel.mean()\n",
    "        if pd.isna(mean_val):\n",
    "            #расширяем границы - убираем условие (df['Rating']==df['Rating'].iloc[idx])\n",
    "            mean_val = df.loc[(df['City'] == df['City'].iloc[idx]) & \n",
    "                                 (df['newQntyCS']==df['newQntyCS'].iloc[idx]) & \n",
    "                                 (df['newPriceLevel'] != -1)\n",
    "                            ].newPriceLevel.mean()\n",
    "        \n",
    "    df['newPriceLevel'].iloc[idx] = round(mean_val)\n",
    "    #print(idx,':',df['newPriceLevel'].iloc[idx])\n",
    "\n",
    "prn_info('newPriceLevel')"
   ]
  },
  {
   "cell_type": "markdown",
   "metadata": {},
   "source": [
    "## ===== <--//"
   ]
  },
  {
   "cell_type": "code",
   "execution_count": null,
   "metadata": {},
   "outputs": [],
   "source": []
  },
  {
   "cell_type": "markdown",
   "metadata": {},
   "source": [
    "# ========================================="
   ]
  },
  {
   "cell_type": "markdown",
   "metadata": {},
   "source": [
    "# Разбиваем датафрейм на части, необходимые для обучения и тестирования модели"
   ]
  },
  {
   "cell_type": "code",
   "execution_count": 504,
   "metadata": {},
   "outputs": [],
   "source": [
    "# Х - данные с информацией о ресторанах, у - целевая переменная (рейтинги ресторанов)\n",
    "#X = df.drop(['Restaurant_id', 'Rating'], axis = 1)\n",
    "X = df.drop(['Restaurant_id','City', 'Cuisine Style', 'Price Range', \n",
    "             'Reviews','URL_TA','ID_TA','Rating'], axis=1)\n",
    "y = df['Rating']"
   ]
  },
  {
   "cell_type": "code",
   "execution_count": 505,
   "metadata": {},
   "outputs": [
    {
     "data": {
      "text/html": [
       "<div>\n",
       "<style scoped>\n",
       "    .dataframe tbody tr th:only-of-type {\n",
       "        vertical-align: middle;\n",
       "    }\n",
       "\n",
       "    .dataframe tbody tr th {\n",
       "        vertical-align: top;\n",
       "    }\n",
       "\n",
       "    .dataframe thead th {\n",
       "        text-align: right;\n",
       "    }\n",
       "</style>\n",
       "<table border=\"1\" class=\"dataframe\">\n",
       "  <thead>\n",
       "    <tr style=\"text-align: right;\">\n",
       "      <th></th>\n",
       "      <th>Ranking</th>\n",
       "      <th>Number of Reviews</th>\n",
       "      <th>newPriceLevel</th>\n",
       "      <th>newIsCapital</th>\n",
       "      <th>newQntyCS</th>\n",
       "      <th>newIsQntyCS01-05</th>\n",
       "      <th>newIsQntyCS06-10</th>\n",
       "      <th>newIsQntyCS11-15</th>\n",
       "      <th>newIsQntyCSgrt15</th>\n",
       "      <th>newIsUniqueCS</th>\n",
       "      <th>newQntyLastReview</th>\n",
       "      <th>newIsPositiveRev</th>\n",
       "      <th>newLastRevYear</th>\n",
       "      <th>newLastRevMonth</th>\n",
       "      <th>newLastRevDofM</th>\n",
       "      <th>newLastRevDofW</th>\n",
       "      <th>newQntyDaysBetwRev</th>\n",
       "      <th>newIsChain</th>\n",
       "    </tr>\n",
       "  </thead>\n",
       "  <tbody>\n",
       "    <tr>\n",
       "      <th>0</th>\n",
       "      <td>5570.0</td>\n",
       "      <td>194.0</td>\n",
       "      <td>1.0</td>\n",
       "      <td>1</td>\n",
       "      <td>3</td>\n",
       "      <td>1</td>\n",
       "      <td>0</td>\n",
       "      <td>0</td>\n",
       "      <td>0</td>\n",
       "      <td>0</td>\n",
       "      <td>2</td>\n",
       "      <td>1</td>\n",
       "      <td>2017</td>\n",
       "      <td>12</td>\n",
       "      <td>31</td>\n",
       "      <td>6</td>\n",
       "      <td>41</td>\n",
       "      <td>1</td>\n",
       "    </tr>\n",
       "    <tr>\n",
       "      <th>1</th>\n",
       "      <td>1537.0</td>\n",
       "      <td>10.0</td>\n",
       "      <td>1.0</td>\n",
       "      <td>1</td>\n",
       "      <td>1</td>\n",
       "      <td>1</td>\n",
       "      <td>0</td>\n",
       "      <td>0</td>\n",
       "      <td>0</td>\n",
       "      <td>0</td>\n",
       "      <td>2</td>\n",
       "      <td>1</td>\n",
       "      <td>2017</td>\n",
       "      <td>7</td>\n",
       "      <td>6</td>\n",
       "      <td>3</td>\n",
       "      <td>382</td>\n",
       "      <td>1</td>\n",
       "    </tr>\n",
       "    <tr>\n",
       "      <th>2</th>\n",
       "      <td>353.0</td>\n",
       "      <td>688.0</td>\n",
       "      <td>2.0</td>\n",
       "      <td>1</td>\n",
       "      <td>7</td>\n",
       "      <td>0</td>\n",
       "      <td>1</td>\n",
       "      <td>0</td>\n",
       "      <td>0</td>\n",
       "      <td>0</td>\n",
       "      <td>2</td>\n",
       "      <td>0</td>\n",
       "      <td>2018</td>\n",
       "      <td>1</td>\n",
       "      <td>8</td>\n",
       "      <td>0</td>\n",
       "      <td>2</td>\n",
       "      <td>1</td>\n",
       "    </tr>\n",
       "    <tr>\n",
       "      <th>3</th>\n",
       "      <td>3458.0</td>\n",
       "      <td>3.0</td>\n",
       "      <td>1.0</td>\n",
       "      <td>1</td>\n",
       "      <td>1</td>\n",
       "      <td>1</td>\n",
       "      <td>0</td>\n",
       "      <td>0</td>\n",
       "      <td>0</td>\n",
       "      <td>0</td>\n",
       "      <td>0</td>\n",
       "      <td>0</td>\n",
       "      <td>1900</td>\n",
       "      <td>1</td>\n",
       "      <td>1</td>\n",
       "      <td>1</td>\n",
       "      <td>73000</td>\n",
       "      <td>1</td>\n",
       "    </tr>\n",
       "    <tr>\n",
       "      <th>4</th>\n",
       "      <td>621.0</td>\n",
       "      <td>84.0</td>\n",
       "      <td>1.0</td>\n",
       "      <td>0</td>\n",
       "      <td>3</td>\n",
       "      <td>1</td>\n",
       "      <td>0</td>\n",
       "      <td>0</td>\n",
       "      <td>0</td>\n",
       "      <td>0</td>\n",
       "      <td>2</td>\n",
       "      <td>1</td>\n",
       "      <td>2017</td>\n",
       "      <td>11</td>\n",
       "      <td>18</td>\n",
       "      <td>5</td>\n",
       "      <td>272</td>\n",
       "      <td>1</td>\n",
       "    </tr>\n",
       "    <tr>\n",
       "      <th>...</th>\n",
       "      <td>...</td>\n",
       "      <td>...</td>\n",
       "      <td>...</td>\n",
       "      <td>...</td>\n",
       "      <td>...</td>\n",
       "      <td>...</td>\n",
       "      <td>...</td>\n",
       "      <td>...</td>\n",
       "      <td>...</td>\n",
       "      <td>...</td>\n",
       "      <td>...</td>\n",
       "      <td>...</td>\n",
       "      <td>...</td>\n",
       "      <td>...</td>\n",
       "      <td>...</td>\n",
       "      <td>...</td>\n",
       "      <td>...</td>\n",
       "      <td>...</td>\n",
       "    </tr>\n",
       "    <tr>\n",
       "      <th>39995</th>\n",
       "      <td>500.0</td>\n",
       "      <td>79.0</td>\n",
       "      <td>1.0</td>\n",
       "      <td>0</td>\n",
       "      <td>4</td>\n",
       "      <td>1</td>\n",
       "      <td>0</td>\n",
       "      <td>0</td>\n",
       "      <td>0</td>\n",
       "      <td>0</td>\n",
       "      <td>2</td>\n",
       "      <td>1</td>\n",
       "      <td>2017</td>\n",
       "      <td>12</td>\n",
       "      <td>16</td>\n",
       "      <td>5</td>\n",
       "      <td>34</td>\n",
       "      <td>1</td>\n",
       "    </tr>\n",
       "    <tr>\n",
       "      <th>39996</th>\n",
       "      <td>6341.0</td>\n",
       "      <td>542.0</td>\n",
       "      <td>1.0</td>\n",
       "      <td>1</td>\n",
       "      <td>5</td>\n",
       "      <td>1</td>\n",
       "      <td>0</td>\n",
       "      <td>0</td>\n",
       "      <td>0</td>\n",
       "      <td>0</td>\n",
       "      <td>2</td>\n",
       "      <td>1</td>\n",
       "      <td>2017</td>\n",
       "      <td>12</td>\n",
       "      <td>21</td>\n",
       "      <td>3</td>\n",
       "      <td>9</td>\n",
       "      <td>1</td>\n",
       "    </tr>\n",
       "    <tr>\n",
       "      <th>39997</th>\n",
       "      <td>1652.0</td>\n",
       "      <td>4.0</td>\n",
       "      <td>0.0</td>\n",
       "      <td>1</td>\n",
       "      <td>2</td>\n",
       "      <td>1</td>\n",
       "      <td>0</td>\n",
       "      <td>0</td>\n",
       "      <td>0</td>\n",
       "      <td>0</td>\n",
       "      <td>2</td>\n",
       "      <td>1</td>\n",
       "      <td>2016</td>\n",
       "      <td>11</td>\n",
       "      <td>3</td>\n",
       "      <td>3</td>\n",
       "      <td>3127</td>\n",
       "      <td>1</td>\n",
       "    </tr>\n",
       "    <tr>\n",
       "      <th>39998</th>\n",
       "      <td>641.0</td>\n",
       "      <td>70.0</td>\n",
       "      <td>1.0</td>\n",
       "      <td>1</td>\n",
       "      <td>5</td>\n",
       "      <td>1</td>\n",
       "      <td>0</td>\n",
       "      <td>0</td>\n",
       "      <td>0</td>\n",
       "      <td>0</td>\n",
       "      <td>2</td>\n",
       "      <td>0</td>\n",
       "      <td>2017</td>\n",
       "      <td>7</td>\n",
       "      <td>11</td>\n",
       "      <td>1</td>\n",
       "      <td>23</td>\n",
       "      <td>1</td>\n",
       "    </tr>\n",
       "    <tr>\n",
       "      <th>39999</th>\n",
       "      <td>4827.0</td>\n",
       "      <td>260.0</td>\n",
       "      <td>1.0</td>\n",
       "      <td>0</td>\n",
       "      <td>1</td>\n",
       "      <td>1</td>\n",
       "      <td>0</td>\n",
       "      <td>0</td>\n",
       "      <td>0</td>\n",
       "      <td>0</td>\n",
       "      <td>2</td>\n",
       "      <td>0</td>\n",
       "      <td>2016</td>\n",
       "      <td>1</td>\n",
       "      <td>31</td>\n",
       "      <td>6</td>\n",
       "      <td>1306</td>\n",
       "      <td>1</td>\n",
       "    </tr>\n",
       "  </tbody>\n",
       "</table>\n",
       "<p>40000 rows × 18 columns</p>\n",
       "</div>"
      ],
      "text/plain": [
       "       Ranking  Number of Reviews  newPriceLevel  newIsCapital  newQntyCS  \\\n",
       "0       5570.0              194.0            1.0             1          3   \n",
       "1       1537.0               10.0            1.0             1          1   \n",
       "2        353.0              688.0            2.0             1          7   \n",
       "3       3458.0                3.0            1.0             1          1   \n",
       "4        621.0               84.0            1.0             0          3   \n",
       "...        ...                ...            ...           ...        ...   \n",
       "39995    500.0               79.0            1.0             0          4   \n",
       "39996   6341.0              542.0            1.0             1          5   \n",
       "39997   1652.0                4.0            0.0             1          2   \n",
       "39998    641.0               70.0            1.0             1          5   \n",
       "39999   4827.0              260.0            1.0             0          1   \n",
       "\n",
       "       newIsQntyCS01-05  newIsQntyCS06-10  newIsQntyCS11-15  newIsQntyCSgrt15  \\\n",
       "0                     1                 0                 0                 0   \n",
       "1                     1                 0                 0                 0   \n",
       "2                     0                 1                 0                 0   \n",
       "3                     1                 0                 0                 0   \n",
       "4                     1                 0                 0                 0   \n",
       "...                 ...               ...               ...               ...   \n",
       "39995                 1                 0                 0                 0   \n",
       "39996                 1                 0                 0                 0   \n",
       "39997                 1                 0                 0                 0   \n",
       "39998                 1                 0                 0                 0   \n",
       "39999                 1                 0                 0                 0   \n",
       "\n",
       "       newIsUniqueCS  newQntyLastReview  newIsPositiveRev  newLastRevYear  \\\n",
       "0                  0                  2                 1            2017   \n",
       "1                  0                  2                 1            2017   \n",
       "2                  0                  2                 0            2018   \n",
       "3                  0                  0                 0            1900   \n",
       "4                  0                  2                 1            2017   \n",
       "...              ...                ...               ...             ...   \n",
       "39995              0                  2                 1            2017   \n",
       "39996              0                  2                 1            2017   \n",
       "39997              0                  2                 1            2016   \n",
       "39998              0                  2                 0            2017   \n",
       "39999              0                  2                 0            2016   \n",
       "\n",
       "       newLastRevMonth  newLastRevDofM  newLastRevDofW  newQntyDaysBetwRev  \\\n",
       "0                   12              31               6                  41   \n",
       "1                    7               6               3                 382   \n",
       "2                    1               8               0                   2   \n",
       "3                    1               1               1               73000   \n",
       "4                   11              18               5                 272   \n",
       "...                ...             ...             ...                 ...   \n",
       "39995               12              16               5                  34   \n",
       "39996               12              21               3                   9   \n",
       "39997               11               3               3                3127   \n",
       "39998                7              11               1                  23   \n",
       "39999                1              31               6                1306   \n",
       "\n",
       "       newIsChain  \n",
       "0               1  \n",
       "1               1  \n",
       "2               1  \n",
       "3               1  \n",
       "4               1  \n",
       "...           ...  \n",
       "39995           1  \n",
       "39996           1  \n",
       "39997           1  \n",
       "39998           1  \n",
       "39999           1  \n",
       "\n",
       "[40000 rows x 18 columns]"
      ]
     },
     "execution_count": 505,
     "metadata": {},
     "output_type": "execute_result"
    }
   ],
   "source": [
    "X"
   ]
  },
  {
   "cell_type": "code",
   "execution_count": 506,
   "metadata": {},
   "outputs": [],
   "source": [
    "# Загружаем специальный инструмент для разбивки:\n",
    "from sklearn.model_selection import train_test_split"
   ]
  },
  {
   "cell_type": "code",
   "execution_count": 507,
   "metadata": {},
   "outputs": [],
   "source": [
    "# Наборы данных с меткой \"train\" будут использоваться для обучения модели, \"test\" - для тестирования.\n",
    "# Для тестирования мы будем использовать 25% от исходного датасета.\n",
    "X_train, X_test, y_train, y_test = train_test_split(X, y, test_size=0.25)"
   ]
  },
  {
   "cell_type": "markdown",
   "metadata": {},
   "source": [
    "# Создаём, обучаем и тестируем модель"
   ]
  },
  {
   "cell_type": "code",
   "execution_count": 508,
   "metadata": {},
   "outputs": [],
   "source": [
    "# Импортируем необходимые библиотеки:\n",
    "from sklearn.ensemble import RandomForestRegressor # инструмент для создания и обучения модели\n",
    "from sklearn import metrics # инструменты для оценки точности модели"
   ]
  },
  {
   "cell_type": "code",
   "execution_count": 509,
   "metadata": {},
   "outputs": [],
   "source": [
    "# Создаём модель\n",
    "regr = RandomForestRegressor(n_estimators=100)\n",
    "\n",
    "# Обучаем модель на тестовом наборе данных\n",
    "regr.fit(X_train, y_train)\n",
    "\n",
    "# Используем обученную модель для предсказания рейтинга ресторанов в тестовой выборке.\n",
    "# Предсказанные значения записываем в переменную y_pred\n",
    "y_pred = regr.predict(X_test)"
   ]
  },
  {
   "cell_type": "code",
   "execution_count": 510,
   "metadata": {},
   "outputs": [
    {
     "name": "stdout",
     "output_type": "stream",
     "text": [
      "MAE: 0.34369832023809516\n"
     ]
    }
   ],
   "source": [
    "# Сравниваем предсказанные значения (y_pred) с реальными (y_test), и смотрим насколько они в среднем отличаются\n",
    "# Метрика называется Mean Absolute Error (MAE) и показывает среднее отклонение предсказанных значений от фактических.\n",
    "print('MAE:', metrics.mean_absolute_error(y_test, y_pred))\n",
    "#0 - MAE: 0.42803726567460315\n",
    "#1 - MAE: 0.3444311738095238 / 0.35086609166666666\n",
    "#2 - MAE: 0.34706674175824176 / 0.3427020345238095\n",
    "#3 - MAE: 0.3475678107142857 / 0.3453844226190476\n",
    "#4 - MAE: 0.3434115404761905 / 0.34369832023809516"
   ]
  },
  {
   "cell_type": "code",
   "execution_count": null,
   "metadata": {},
   "outputs": [],
   "source": []
  }
 ],
 "metadata": {
  "kernelspec": {
   "display_name": "Python 3",
   "language": "python",
   "name": "python3"
  },
  "language_info": {
   "codemirror_mode": {
    "name": "ipython",
    "version": 3
   },
   "file_extension": ".py",
   "mimetype": "text/x-python",
   "name": "python",
   "nbconvert_exporter": "python",
   "pygments_lexer": "ipython3",
   "version": "3.7.4"
  }
 },
 "nbformat": 4,
 "nbformat_minor": 2
}
