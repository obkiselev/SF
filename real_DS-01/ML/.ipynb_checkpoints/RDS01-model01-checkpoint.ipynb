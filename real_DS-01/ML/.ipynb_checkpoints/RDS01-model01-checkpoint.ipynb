{
 "cells": [
  {
   "cell_type": "markdown",
   "metadata": {},
   "source": [
    "# Загрузка Pandas и очистка данных"
   ]
  },
  {
   "cell_type": "code",
   "execution_count": 1,
   "metadata": {},
   "outputs": [],
   "source": [
    "# Импорт необходимых библиотек\n",
    "import pandas as pd\n",
    "import re\n",
    "import datetime as dt\n",
    "\n",
    "RANDOM_SEED = 124680\n",
    "df = pd.read_csv('../data/main_task.csv')"
   ]
  },
  {
   "cell_type": "code",
   "execution_count": 2,
   "metadata": {},
   "outputs": [
    {
     "name": "stdout",
     "output_type": "stream",
     "text": [
      "Importing Jupyter notebook from RDS01_ML01_func.ipynb\n"
     ]
    }
   ],
   "source": [
    "# Импорт собственных функций\n",
    "import nbimporter\n",
    "from RDS01_ML01_func import *"
   ]
  },
  {
   "cell_type": "code",
   "execution_count": 3,
   "metadata": {},
   "outputs": [
    {
     "name": "stdout",
     "output_type": "stream",
     "text": [
      "<class 'pandas.core.frame.DataFrame'>\n",
      "RangeIndex: 40000 entries, 0 to 39999\n",
      "Data columns (total 2 columns):\n",
      "Ranking              40000 non-null float64\n",
      "Number of Reviews    37457 non-null float64\n",
      "dtypes: float64(2)\n",
      "memory usage: 625.1 KB\n"
     ]
    }
   ],
   "source": [
    "try:\n",
    "    X_all_cols = pd.read_csv('../data/all_cols.csv')\n",
    "except:\n",
    "    # Создаем копию датафрейма и оставляем только необходимые числовые колонки\n",
    "    X_all_cols = df.copy()\n",
    "    X_all_cols = df.drop(['Restaurant_id', 'City', 'Cuisine Style', 'Price Range', \n",
    "                 'Reviews', 'URL_TA', 'ID_TA', 'Rating'], axis=1)\n",
    "\n",
    "    # Сбрасываем данные в файл. Потом этот файл будем дополнять новыми признаками\n",
    "    X_all_cols.to_csv('../data/all_cols.csv', index=False)\n",
    "\n",
    "    '''После создания всех придуманных признаков, будем экспериментировать с ними: какие оставить \n",
    "    в датафрейме X, а какие убрать для получения наилучшего результата MAE'''\n",
    "\n",
    "X_all_cols.info() #проверка"
   ]
  },
  {
   "cell_type": "markdown",
   "metadata": {},
   "source": [
    "- Запускаем функцию ЗАПОЛНЕНИЯ / ГЕНЕРАЦИИ НОВЫХ ПРИЗНАКОВ по одному разу и комментируем ее вызов\n",
    "- После этого проверяем корректность полученных данных\n",
    "- При необходимости правим код и повторяем запуск"
   ]
  },
  {
   "cell_type": "markdown",
   "metadata": {},
   "source": [
    "## ===== Заполнение пропусков ====="
   ]
  },
  {
   "cell_type": "code",
   "execution_count": 4,
   "metadata": {},
   "outputs": [
    {
     "name": "stdout",
     "output_type": "stream",
     "text": [
      "<class 'pandas.core.frame.DataFrame'>\n",
      "RangeIndex: 40000 entries, 0 to 39999\n",
      "Data columns (total 2 columns):\n",
      "Ranking              40000 non-null float64\n",
      "Number of Reviews    40000 non-null float64\n",
      "dtypes: float64(2)\n",
      "memory usage: 625.1 KB\n",
      "None\n",
      "Wall time: 2.06 s\n"
     ]
    }
   ],
   "source": [
    "# %%time\n",
    "# X_all_cols = fill_NumberOfReviews(df, X_all_cols)"
   ]
  },
  {
   "cell_type": "code",
   "execution_count": null,
   "metadata": {},
   "outputs": [],
   "source": []
  },
  {
   "cell_type": "markdown",
   "metadata": {},
   "source": [
    "## ===== Генерация новых признаков ====="
   ]
  },
  {
   "cell_type": "code",
   "execution_count": 4,
   "metadata": {},
   "outputs": [
    {
     "name": "stdout",
     "output_type": "stream",
     "text": [
      "<class 'pandas.core.frame.DataFrame'>\n",
      "RangeIndex: 40000 entries, 0 to 39999\n",
      "Data columns (total 5 columns):\n",
      "Ranking              40000 non-null float64\n",
      "Number of Reviews    37457 non-null float64\n",
      "newIsPriceLevMin     40000 non-null int64\n",
      "newIsPriceLevMdl     40000 non-null int64\n",
      "newIsPriceLevMax     40000 non-null int64\n",
      "dtypes: float64(2), int64(3)\n",
      "memory usage: 1.5 MB\n",
      "None\n"
     ]
    }
   ],
   "source": [
    "X_all_cols = create_IsPriceLev(df, X_all_cols) #Попадание ур. цен в ресторане в определ. диапазон"
   ]
  },
  {
   "cell_type": "markdown",
   "metadata": {},
   "source": [
    "## //--> *** Города"
   ]
  },
  {
   "cell_type": "markdown",
   "metadata": {},
   "source": [
    "### Новый признак ['newIsCapital'] - является ли город нахождения ресторана столицей (1=Да / 0=Нет)"
   ]
  },
  {
   "cell_type": "code",
   "execution_count": 321,
   "metadata": {},
   "outputs": [
    {
     "name": "stdout",
     "output_type": "stream",
     "text": [
      "    *** value_counts of [newIsCapital]:\n",
      "1    30424\n",
      "0     9576\n",
      "Name: newIsCapital, dtype: int64\n",
      "    ***    rows qnty of [newIsCapital]: 40000\n"
     ]
    }
   ],
   "source": [
    "df['newIsCapital'] = None\n",
    "df['newIsCapital'] = df['newIsCapital'].fillna(1) #сначала записываем везде 1\n",
    "#теперь определяем НЕстолицы:\n",
    "df.loc[(df['City']=='Munich') | (df['City']=='Oporto') | (df['City']=='Milan') | \n",
    "   (df['City']=='Barcelona') | (df['City']=='Zurich') | (df['City']=='Lyon') | \n",
    "   (df['City']=='Hamburg') | (df['City']=='Geneva') | (df['City']=='Krakow'), 'newIsCapital'] = 0\n",
    "\n",
    "write_to_csv(df, 'newIsCapital')\n",
    "\n",
    "prn_info(df, 'newIsCapital')"
   ]
  },
  {
   "cell_type": "markdown",
   "metadata": {},
   "source": [
    "## *** <--//"
   ]
  },
  {
   "cell_type": "markdown",
   "metadata": {},
   "source": [
    "## //--> *** Кухни"
   ]
  },
  {
   "cell_type": "markdown",
   "metadata": {},
   "source": [
    "### Новый признак ['newQntyCS'] - кол-во представленных в ресторане кухонь\n",
    "# ---\n",
    "### Новые признаки ['newQntyCSeql01'], ['newQntyCS02-05'], ['newQntyCSgrt05']:\n",
    " - для каждого ресторана кол-во представленных в нем кухонь разбить по колонкам \"Кол-во кухонь = 1\", \"Кол-во кухонь от 2 до 5\", \"Кол-во кухонь более 5\""
   ]
  },
  {
   "cell_type": "code",
   "execution_count": 284,
   "metadata": {},
   "outputs": [
    {
     "name": "stdout",
     "output_type": "stream",
     "text": [
      "    *** value_counts of [Cuisine Style]:\n",
      "['Italian']                                                                                  1032\n",
      "['French']                                                                                    805\n",
      "['Spanish']                                                                                   695\n",
      "['French', 'European']                                                                        405\n",
      "['Cafe']                                                                                      403\n",
      "                                                                                             ... \n",
      "['Italian', 'Steakhouse', 'Mediterranean', 'Barbecue', 'European', 'Gluten Free Options']       1\n",
      "['Mediterranean', 'Cafe', 'European', 'Vegetarian Friendly', 'Vegan Options']                   1\n",
      "['American', 'Delicatessen', 'Contemporary']                                                    1\n",
      "['French', 'Contemporary', 'Fusion', 'Gastropub']                                               1\n",
      "['American', 'Fast Food', 'International', 'European', 'Hungarian']                             1\n",
      "Name: Cuisine Style, Length: 9007, dtype: int64\n",
      "    ***    rows qnty of [Cuisine Style]: 30717\n",
      "    *** value_counts of [newQntyCS]:\n",
      "1     16547\n",
      "2      6294\n",
      "3      5306\n",
      "4      4799\n",
      "5      3606\n",
      "6      2043\n",
      "7      1022\n",
      "8       283\n",
      "9        76\n",
      "10       19\n",
      "11        3\n",
      "21        1\n",
      "13        1\n",
      "Name: newQntyCS, dtype: int64\n",
      "    ***    rows qnty of [newQntyCS]: 40000\n",
      "    *** value_counts of [newIsQntyCSeql01]:\n",
      "0    23453\n",
      "1    16547\n",
      "Name: newIsQntyCSeql01, dtype: int64\n",
      "    ***    rows qnty of [newIsQntyCSeql01]: 40000\n",
      "    *** value_counts of [newIsQntyCS02-05]:\n",
      "1    20005\n",
      "0    19995\n",
      "Name: newIsQntyCS02-05, dtype: int64\n",
      "    ***    rows qnty of [newIsQntyCS02-05]: 40000\n",
      "    *** value_counts of [newIsQntyCSgrt05]:\n",
      "0    36552\n",
      "1     3448\n",
      "Name: newIsQntyCSgrt05, dtype: int64\n",
      "    ***    rows qnty of [newIsQntyCSgrt05]: 40000\n"
     ]
    }
   ],
   "source": [
    "df['newQntyCS'] = 0\n",
    "df['newIsQntyCSeql01'] = 0\n",
    "df['newIsQntyCS02-05'] = 0\n",
    "df['newIsQntyCSgrt05'] = 0\n",
    "idx = -1\n",
    "\n",
    "for v in df['Cuisine Style'].apply(lambda x: str(x).strip('[]')):\n",
    "    idx += 1\n",
    "#     if idx>5:\n",
    "#         break\n",
    "    QntyCS = 0\n",
    "\n",
    "    if pd.isna(str(v)) or str(v).lower() == 'nan':\n",
    "        QntyCS = 1\n",
    "        df.loc[idx, 'newQntyCS'] = 1\n",
    "    elif ',' not in v:\n",
    "        QntyCS = 1\n",
    "        df.loc[idx, 'newQntyCS'] = 1\n",
    "    else:\n",
    "        for cs in v.split(','):\n",
    "            QntyCS += 1\n",
    "            df.loc[idx, 'newQntyCS'] += 1\n",
    "\n",
    "    if QntyCS == 1:\n",
    "        df.loc[idx, 'newIsQntyCSeql01'] = 1\n",
    "    if 2 <= QntyCS <= 5:\n",
    "        df.loc[idx, 'newIsQntyCS02-05'] = 1\n",
    "    elif 5 < QntyCS:\n",
    "        df.loc[idx, 'newIsQntyCSgrt05'] = 1\n",
    "\n",
    "write_to_csv('newQntyCS')\n",
    "write_to_csv('newIsQntyCSeql01')\n",
    "write_to_csv('newIsQntyCS02-05')\n",
    "write_to_csv('newIsQntyCSgrt05')\n",
    "\n",
    "prn_info('Cuisine Style')\n",
    "prn_info('newQntyCS')\n",
    "prn_info('newIsQntyCSeql01')\n",
    "prn_info('newIsQntyCS02-05')\n",
    "prn_info('newIsQntyCSgrt05')"
   ]
  },
  {
   "cell_type": "markdown",
   "metadata": {},
   "source": [
    "### Новый признак ['newIsUniqueCS'] - присутствует ли в ресторане тип кухни в единственном экземпляре среди всех ресторанов (1=Да / 0=Нет)"
   ]
  },
  {
   "cell_type": "code",
   "execution_count": 286,
   "metadata": {},
   "outputs": [
    {
     "ename": "SyntaxError",
     "evalue": "invalid syntax (<ipython-input-286-dfc5c76710f6>, line 4)",
     "output_type": "error",
     "traceback": [
      "\u001b[1;36m  File \u001b[1;32m\"<ipython-input-286-dfc5c76710f6>\"\u001b[1;36m, line \u001b[1;32m4\u001b[0m\n\u001b[1;33m    Список кухонь, встречающихся по 1 разу:\u001b[0m\n\u001b[1;37m                ^\u001b[0m\n\u001b[1;31mSyntaxError\u001b[0m\u001b[1;31m:\u001b[0m invalid syntax\n"
     ]
    }
   ],
   "source": [
    "df['newIsUniqueCS'] = 0 #для нового признака\n",
    "#Ручное заполнение\n",
    "\n",
    "Список кухонь, встречающихся по 1 разу:\n",
    "['Mexican', 'Latin', 'Salvadoran', 'Central American', 'Spanish']\n",
    "['Asian', 'Thai', 'Yunnan', 'Vegetarian Friendly', 'Vegan Options']\n",
    "['Chinese', 'Xinjiang']\n",
    "['Chinese', 'Asian', 'Thai', 'Burmese']\n",
    "['Mexican', 'American', 'European', 'Latvian', 'Eastern European', 'Hungarian']\n",
    "\n",
    "idxList = df.index[(df['Cuisine Style'] == \n",
    "   \"['Mexican', 'Latin', 'Salvadoran', 'Central American', 'Spanish']\") |\n",
    "   (df['Cuisine Style'] == \n",
    "    \"['Asian', 'Thai', 'Yunnan', 'Vegetarian Friendly', 'Vegan Options']\") |\n",
    "   (df['Cuisine Style'] == \"['Chinese', 'Xinjiang']\") |\n",
    "   (df['Cuisine Style'] == \"['Chinese', 'Asian', 'Thai', 'Burmese']\") |\n",
    "   (df['Cuisine Style'] == \n",
    "    \"['Mexican', 'American', 'European', 'Latvian', 'Eastern European', 'Hungarian']\")\n",
    "      ].to_list()\n",
    "df.loc[idxList, 'newIsUniqueCS'] = 1\n",
    "\n",
    "write_to_csv('newIsUniqueCS')\n",
    "\n",
    "prn_info('newIsUniqueCS')"
   ]
  },
  {
   "cell_type": "markdown",
   "metadata": {},
   "source": [
    "## *** <--//"
   ]
  },
  {
   "cell_type": "markdown",
   "metadata": {},
   "source": [
    "## //--> *** Отзывы"
   ]
  },
  {
   "cell_type": "markdown",
   "metadata": {},
   "source": [
    "### Новый признак ['newQntyLastReview'] - кол-во свежих отзывов (0=Нет отзывов / 1 / 2)\n",
    "# ---\n",
    "### Новый признак ['newIsPositiveRev']\n",
    " - newIsPositiveRev - явно позитивный отзыв (1=Да / 0=Нет)\n",
    "\n",
    "# ---\n",
    "### Новые признаки ['newLastRevYear'], ['newLastRevMonth'], ['newLastRevDofM'], ['newLastRevDofW']\n",
    " - самый свежий отзыв: год, месяц, день месяца, день недели, час суток, когда оставлен отзыв"
   ]
  },
  {
   "cell_type": "code",
   "execution_count": null,
   "metadata": {},
   "outputs": [],
   "source": [
    "# df['newQntyLastReview'] = 0\n",
    "df['newIsPositiveRev'] = 0\n",
    "# df['newLastRevYear'] = 1900\n",
    "# df['newLastRevMonth'] = 1\n",
    "# df['newLastRevDofM'] = 1\n",
    "# df['newLastRevDofW'] = 1\n",
    "\n",
    "cnt = 0\n",
    "idxList = df.index[df['Reviews'] != '[[], []]'].to_list()\n",
    "for idx in idxList:\n",
    "    cnt += 1\n",
    "#     if cnt>5:\n",
    "#         break\n",
    "    \n",
    "    #newQntyLastReview\n",
    "#     lst = re.findall(r'\\d\\d\\/\\d\\d\\/\\d{4}', df['Reviews'].iloc[idx])\n",
    "#     df.loc[idx, 'newQntyLastReview'] = len(lst)\n",
    "\n",
    "    #newLastRevYear, newLastRevMonth, newLastRevDofM, newLastRevDofW\n",
    "#     t = None\n",
    "#     if len(lst) == 1:\n",
    "#         t = pd.to_datetime(lst[0])\n",
    "#     elif len(lst) == 2:\n",
    "#         t1 = pd.to_datetime(lst[0])\n",
    "#         t2 = pd.to_datetime(lst[1])\n",
    "#         if t1>t2:\n",
    "#             t = t1\n",
    "#         else:\n",
    "#             t = t2\n",
    "#     if not pd.isnull(t):\n",
    "#         #print(t, ',', t.hour)\n",
    "#         df.loc[idx, 'newLastRevYear'] = t.year\n",
    "#         df.loc[idx, 'newLastRevMonth'] = t.month\n",
    "#         df.loc[idx, 'newLastRevDofM'] = t.day\n",
    "#         df.loc[idx, 'newLastRevDofW'] = t.weekday()\n",
    "    \n",
    "    #newIsPositiveRev\n",
    "    lst = re.findall(r'good|delic|lovin|wonderf|awesom|best|great|fantast|pleasan', \n",
    "                     str(df['Reviews'].iloc[idx]).lower())\n",
    "    if len(lst) > 0:\n",
    "         df.loc[idx, 'newIsPositiveRev'] = 1\n",
    "\n",
    "write_to_csv('newIsPositiveRev')\n",
    "\n",
    "prn_info('Reviews')\n",
    "# prn_info('newQntyLastReview')\n",
    "prn_info('newIsPositiveRev')\n",
    "# prn_info('newLastRevYear')\n",
    "# prn_info('newLastRevMonth')\n",
    "# prn_info('newLastRevDofM')\n",
    "# prn_info('newLastRevDofW')"
   ]
  },
  {
   "cell_type": "markdown",
   "metadata": {},
   "source": [
    "### Новый признак ['newQntyDaysBetwRev'] - кол-во дней между двумя последними отзывами (365x200=73000 - нет ни одного отзыва /  365x100=36500 - есть только 1 отзыв / N - кол-во дней между двумя последними отзывами)"
   ]
  },
  {
   "cell_type": "code",
   "execution_count": null,
   "metadata": {},
   "outputs": [],
   "source": []
  },
  {
   "cell_type": "code",
   "execution_count": null,
   "metadata": {},
   "outputs": [],
   "source": [
    "df['newQntyDaysBetwRev'] = 365 * 200\n",
    "cnt = 0\n",
    "    \n",
    "idxList = df.index[df['Reviews'] != '[[], []]'].to_list()\n",
    "for idx in idxList:\n",
    "    cnt += 1\n",
    "#     if cnt>5:\n",
    "#         break\n",
    "    Tdiff = dt.timedelta(days=0)\n",
    "    lst = re.findall(r'\\d\\d\\/\\d\\d\\/\\d{4}', df['Reviews'].iloc[idx])\n",
    "    if len(lst) == 1:\n",
    "        df.loc[idx, 'newQntyDaysBetwRev'] = 365 * 100\n",
    "    else:\n",
    "        t1 = pd.to_datetime(lst[0])\n",
    "        t2 = pd.to_datetime(lst[1])\n",
    "        if t1 > t2:\n",
    "            Tdiff = t1 - t2\n",
    "        else:\n",
    "            Tdiff = t2 - t1\n",
    "        df.loc[idx, 'newQntyDaysBetwRev'] = Tdiff.days\n",
    "        #print(Tdiff, Tdiff.days)\n",
    "\n",
    "write_to_csv('newQntyDaysBetwRev')\n",
    "\n",
    "prn_info('Reviews')\n",
    "prn_info('newQntyDaysBetwRev')"
   ]
  },
  {
   "cell_type": "code",
   "execution_count": null,
   "metadata": {},
   "outputs": [],
   "source": []
  },
  {
   "cell_type": "markdown",
   "metadata": {},
   "source": [
    "## *** <--//"
   ]
  },
  {
   "cell_type": "markdown",
   "metadata": {},
   "source": [
    "## //--> *** Рестораны"
   ]
  },
  {
   "cell_type": "markdown",
   "metadata": {},
   "source": [
    "### Новый признак ['newIsChain'] - сетевой ресторан (1=Да / 0=Нет)"
   ]
  },
  {
   "cell_type": "code",
   "execution_count": null,
   "metadata": {},
   "outputs": [],
   "source": [
    "df['newIsChain'] = 1\n",
    "df_chain = pd.DataFrame(df.groupby(df['Restaurant_id']).newIsChain.count())\n",
    "df_chain.columns = ['cnt']\n",
    "idxList = df_chain.index[df_chain['cnt'] == 1].to_list() #это НЕсетевые рестораны\n",
    "# len(idxList)\n",
    "cnt=0\n",
    "for idx in idxList:\n",
    "    cnt += 1\n",
    "#     if cnt>5:\n",
    "#         break\n",
    "    df['newIsChain'].iloc[df.index[df['Restaurant_id'] == idx]] = 0\n",
    "\n",
    "write_to_csv('newIsChain')\n",
    "\n",
    "prn_info('newIsChain')"
   ]
  },
  {
   "cell_type": "markdown",
   "metadata": {},
   "source": [
    "## *** <--//"
   ]
  },
  {
   "cell_type": "code",
   "execution_count": null,
   "metadata": {},
   "outputs": [],
   "source": []
  },
  {
   "cell_type": "markdown",
   "metadata": {},
   "source": []
  },
  {
   "cell_type": "markdown",
   "metadata": {},
   "source": []
  },
  {
   "cell_type": "code",
   "execution_count": null,
   "metadata": {},
   "outputs": [],
   "source": []
  },
  {
   "cell_type": "markdown",
   "metadata": {},
   "source": []
  },
  {
   "cell_type": "code",
   "execution_count": 288,
   "metadata": {},
   "outputs": [],
   "source": []
  },
  {
   "cell_type": "markdown",
   "metadata": {},
   "source": []
  },
  {
   "cell_type": "code",
   "execution_count": null,
   "metadata": {},
   "outputs": [],
   "source": []
  },
  {
   "cell_type": "markdown",
   "metadata": {},
   "source": [
    "# ========================================="
   ]
  },
  {
   "cell_type": "markdown",
   "metadata": {},
   "source": [
    "# Разбиваем датафрейм на части, необходимые для обучения и тестирования модели"
   ]
  },
  {
   "cell_type": "code",
   "execution_count": 289,
   "metadata": {},
   "outputs": [],
   "source": [
    "# Х - данные с информацией о ресторанах, у - целевая переменная (рейтинги ресторанов)\n",
    "X = df.drop(['Restaurant_id','City', 'Cuisine Style', 'Price Range', \n",
    "             'Reviews','URL_TA','ID_TA','Rating'], axis=1)\n",
    "y = df['Rating']"
   ]
  },
  {
   "cell_type": "code",
   "execution_count": 290,
   "metadata": {},
   "outputs": [
    {
     "data": {
      "text/plain": [
       "Ranking              1242.0\n",
       "Number of Reviews       6.0\n",
       "newIsPriceLevMin        1.0\n",
       "newIsPriceLevMdl        0.0\n",
       "newIsPriceLevMax        0.0\n",
       "newIsCapital            1.0\n",
       "newQntyCS               1.0\n",
       "newIsQntyCSeql01        1.0\n",
       "newIsQntyCS02-05        0.0\n",
       "newIsQntyCSgrt05        0.0\n",
       "Name: 29591, dtype: float64"
      ]
     },
     "execution_count": 290,
     "metadata": {},
     "output_type": "execute_result"
    }
   ],
   "source": [
    "X.iloc[29591]#[15290]"
   ]
  },
  {
   "cell_type": "code",
   "execution_count": 291,
   "metadata": {},
   "outputs": [
    {
     "name": "stdout",
     "output_type": "stream",
     "text": [
      "<class 'pandas.core.frame.DataFrame'>\n",
      "RangeIndex: 40000 entries, 0 to 39999\n",
      "Data columns (total 10 columns):\n",
      "Ranking              40000 non-null float64\n",
      "Number of Reviews    40000 non-null float64\n",
      "newIsPriceLevMin     40000 non-null int64\n",
      "newIsPriceLevMdl     40000 non-null int64\n",
      "newIsPriceLevMax     40000 non-null int64\n",
      "newIsCapital         40000 non-null int64\n",
      "newQntyCS            40000 non-null int64\n",
      "newIsQntyCSeql01     40000 non-null int64\n",
      "newIsQntyCS02-05     40000 non-null int64\n",
      "newIsQntyCSgrt05     40000 non-null int64\n",
      "dtypes: float64(2), int64(8)\n",
      "memory usage: 3.1 MB\n"
     ]
    }
   ],
   "source": [
    "X.info()"
   ]
  },
  {
   "cell_type": "code",
   "execution_count": 292,
   "metadata": {},
   "outputs": [
    {
     "data": {
      "text/html": [
       "<div>\n",
       "<style scoped>\n",
       "    .dataframe tbody tr th:only-of-type {\n",
       "        vertical-align: middle;\n",
       "    }\n",
       "\n",
       "    .dataframe tbody tr th {\n",
       "        vertical-align: top;\n",
       "    }\n",
       "\n",
       "    .dataframe thead th {\n",
       "        text-align: right;\n",
       "    }\n",
       "</style>\n",
       "<table border=\"1\" class=\"dataframe\">\n",
       "  <thead>\n",
       "    <tr style=\"text-align: right;\">\n",
       "      <th></th>\n",
       "      <th>Ranking</th>\n",
       "      <th>Number of Reviews</th>\n",
       "      <th>newIsPriceLevMin</th>\n",
       "      <th>newIsPriceLevMdl</th>\n",
       "      <th>newIsPriceLevMax</th>\n",
       "      <th>newIsCapital</th>\n",
       "      <th>newQntyCS</th>\n",
       "      <th>newIsQntyCSeql01</th>\n",
       "      <th>newIsQntyCS02-05</th>\n",
       "      <th>newIsQntyCSgrt05</th>\n",
       "    </tr>\n",
       "  </thead>\n",
       "  <tbody>\n",
       "    <tr>\n",
       "      <th>0</th>\n",
       "      <td>5570.0</td>\n",
       "      <td>194.0</td>\n",
       "      <td>0</td>\n",
       "      <td>1</td>\n",
       "      <td>0</td>\n",
       "      <td>1</td>\n",
       "      <td>3</td>\n",
       "      <td>0</td>\n",
       "      <td>1</td>\n",
       "      <td>0</td>\n",
       "    </tr>\n",
       "    <tr>\n",
       "      <th>1</th>\n",
       "      <td>1537.0</td>\n",
       "      <td>10.0</td>\n",
       "      <td>1</td>\n",
       "      <td>0</td>\n",
       "      <td>0</td>\n",
       "      <td>1</td>\n",
       "      <td>1</td>\n",
       "      <td>1</td>\n",
       "      <td>0</td>\n",
       "      <td>0</td>\n",
       "    </tr>\n",
       "    <tr>\n",
       "      <th>2</th>\n",
       "      <td>353.0</td>\n",
       "      <td>688.0</td>\n",
       "      <td>0</td>\n",
       "      <td>0</td>\n",
       "      <td>1</td>\n",
       "      <td>1</td>\n",
       "      <td>7</td>\n",
       "      <td>0</td>\n",
       "      <td>0</td>\n",
       "      <td>1</td>\n",
       "    </tr>\n",
       "    <tr>\n",
       "      <th>3</th>\n",
       "      <td>3458.0</td>\n",
       "      <td>3.0</td>\n",
       "      <td>1</td>\n",
       "      <td>0</td>\n",
       "      <td>0</td>\n",
       "      <td>1</td>\n",
       "      <td>1</td>\n",
       "      <td>1</td>\n",
       "      <td>0</td>\n",
       "      <td>0</td>\n",
       "    </tr>\n",
       "    <tr>\n",
       "      <th>4</th>\n",
       "      <td>621.0</td>\n",
       "      <td>84.0</td>\n",
       "      <td>0</td>\n",
       "      <td>1</td>\n",
       "      <td>0</td>\n",
       "      <td>0</td>\n",
       "      <td>3</td>\n",
       "      <td>0</td>\n",
       "      <td>1</td>\n",
       "      <td>0</td>\n",
       "    </tr>\n",
       "    <tr>\n",
       "      <th>...</th>\n",
       "      <td>...</td>\n",
       "      <td>...</td>\n",
       "      <td>...</td>\n",
       "      <td>...</td>\n",
       "      <td>...</td>\n",
       "      <td>...</td>\n",
       "      <td>...</td>\n",
       "      <td>...</td>\n",
       "      <td>...</td>\n",
       "      <td>...</td>\n",
       "    </tr>\n",
       "    <tr>\n",
       "      <th>39995</th>\n",
       "      <td>500.0</td>\n",
       "      <td>79.0</td>\n",
       "      <td>0</td>\n",
       "      <td>1</td>\n",
       "      <td>0</td>\n",
       "      <td>0</td>\n",
       "      <td>4</td>\n",
       "      <td>0</td>\n",
       "      <td>1</td>\n",
       "      <td>0</td>\n",
       "    </tr>\n",
       "    <tr>\n",
       "      <th>39996</th>\n",
       "      <td>6341.0</td>\n",
       "      <td>542.0</td>\n",
       "      <td>0</td>\n",
       "      <td>1</td>\n",
       "      <td>0</td>\n",
       "      <td>1</td>\n",
       "      <td>5</td>\n",
       "      <td>0</td>\n",
       "      <td>1</td>\n",
       "      <td>0</td>\n",
       "    </tr>\n",
       "    <tr>\n",
       "      <th>39997</th>\n",
       "      <td>1652.0</td>\n",
       "      <td>4.0</td>\n",
       "      <td>1</td>\n",
       "      <td>0</td>\n",
       "      <td>0</td>\n",
       "      <td>1</td>\n",
       "      <td>2</td>\n",
       "      <td>0</td>\n",
       "      <td>1</td>\n",
       "      <td>0</td>\n",
       "    </tr>\n",
       "    <tr>\n",
       "      <th>39998</th>\n",
       "      <td>641.0</td>\n",
       "      <td>70.0</td>\n",
       "      <td>0</td>\n",
       "      <td>1</td>\n",
       "      <td>0</td>\n",
       "      <td>1</td>\n",
       "      <td>5</td>\n",
       "      <td>0</td>\n",
       "      <td>1</td>\n",
       "      <td>0</td>\n",
       "    </tr>\n",
       "    <tr>\n",
       "      <th>39999</th>\n",
       "      <td>4827.0</td>\n",
       "      <td>260.0</td>\n",
       "      <td>0</td>\n",
       "      <td>1</td>\n",
       "      <td>0</td>\n",
       "      <td>0</td>\n",
       "      <td>1</td>\n",
       "      <td>1</td>\n",
       "      <td>0</td>\n",
       "      <td>0</td>\n",
       "    </tr>\n",
       "  </tbody>\n",
       "</table>\n",
       "<p>40000 rows × 10 columns</p>\n",
       "</div>"
      ],
      "text/plain": [
       "       Ranking  Number of Reviews  newIsPriceLevMin  newIsPriceLevMdl  \\\n",
       "0       5570.0              194.0                 0                 1   \n",
       "1       1537.0               10.0                 1                 0   \n",
       "2        353.0              688.0                 0                 0   \n",
       "3       3458.0                3.0                 1                 0   \n",
       "4        621.0               84.0                 0                 1   \n",
       "...        ...                ...               ...               ...   \n",
       "39995    500.0               79.0                 0                 1   \n",
       "39996   6341.0              542.0                 0                 1   \n",
       "39997   1652.0                4.0                 1                 0   \n",
       "39998    641.0               70.0                 0                 1   \n",
       "39999   4827.0              260.0                 0                 1   \n",
       "\n",
       "       newIsPriceLevMax  newIsCapital  newQntyCS  newIsQntyCSeql01  \\\n",
       "0                     0             1          3                 0   \n",
       "1                     0             1          1                 1   \n",
       "2                     1             1          7                 0   \n",
       "3                     0             1          1                 1   \n",
       "4                     0             0          3                 0   \n",
       "...                 ...           ...        ...               ...   \n",
       "39995                 0             0          4                 0   \n",
       "39996                 0             1          5                 0   \n",
       "39997                 0             1          2                 0   \n",
       "39998                 0             1          5                 0   \n",
       "39999                 0             0          1                 1   \n",
       "\n",
       "       newIsQntyCS02-05  newIsQntyCSgrt05  \n",
       "0                     1                 0  \n",
       "1                     0                 0  \n",
       "2                     0                 1  \n",
       "3                     0                 0  \n",
       "4                     1                 0  \n",
       "...                 ...               ...  \n",
       "39995                 1                 0  \n",
       "39996                 1                 0  \n",
       "39997                 1                 0  \n",
       "39998                 1                 0  \n",
       "39999                 0                 0  \n",
       "\n",
       "[40000 rows x 10 columns]"
      ]
     },
     "execution_count": 292,
     "metadata": {},
     "output_type": "execute_result"
    }
   ],
   "source": [
    "X"
   ]
  },
  {
   "cell_type": "code",
   "execution_count": 293,
   "metadata": {},
   "outputs": [],
   "source": [
    "# Загружаем специальный инструмент для разбивки:\n",
    "from sklearn.model_selection import train_test_split"
   ]
  },
  {
   "cell_type": "code",
   "execution_count": 294,
   "metadata": {},
   "outputs": [],
   "source": [
    "# Наборы данных с меткой \"train\" будут использоваться для обучения модели, \"test\" - для тестирования.\n",
    "# Для тестирования мы будем использовать 25% от исходного датасета.\n",
    "X_train, X_test, y_train, y_test = train_test_split(X, y, test_size=0.25, random_state=RANDOM_SEED)"
   ]
  },
  {
   "cell_type": "markdown",
   "metadata": {},
   "source": [
    "# Создаём, обучаем и тестируем модель"
   ]
  },
  {
   "cell_type": "code",
   "execution_count": 295,
   "metadata": {},
   "outputs": [],
   "source": [
    "# Импортируем необходимые библиотеки:\n",
    "from sklearn.ensemble import RandomForestRegressor # инструмент для создания и обучения модели\n",
    "from sklearn import metrics # инструменты для оценки точности модели"
   ]
  },
  {
   "cell_type": "code",
   "execution_count": 296,
   "metadata": {},
   "outputs": [],
   "source": [
    "# Создаём модель\n",
    "regr = RandomForestRegressor(n_estimators=100, #число деревьев в \"лесу\" (по дефолту – 10)\n",
    "                             n_jobs=-1, #количество ядер для построения модели и предсказаний (по дефолту 1, если поставить -1, то будут использоваться все ядра)\n",
    "                             random_state=RANDOM_SEED #начальное значение для генерации случайных чисел (по дефолту его нет, если хотите воспроизводимые результаты, то нужно указать любое число типа int\n",
    "                            )\n",
    "\n",
    "# Обучаем модель на тестовом наборе данных\n",
    "regr.fit(X_train, y_train)\n",
    "\n",
    "# Используем обученную модель для предсказания рейтинга ресторанов в тестовой выборке.\n",
    "# Предсказанные значения записываем в переменную y_pred\n",
    "y_pred = regr.predict(X_test)"
   ]
  },
  {
   "cell_type": "code",
   "execution_count": 297,
   "metadata": {},
   "outputs": [
    {
     "name": "stdout",
     "output_type": "stream",
     "text": [
      "MAE: 0.3817714027777777\n"
     ]
    }
   ],
   "source": [
    "# Сравниваем предсказанные значения (y_pred) с реальными (y_test), и смотрим насколько они в среднем отличаются\n",
    "# Метрика называется Mean Absolute Error (MAE) и показывает среднее отклонение предсказанных значений от фактических.\n",
    "print('MAE:', metrics.mean_absolute_error(y_test, y_pred))\n",
    "#0 - MAE: 0.42803726567460315\n",
    "#1 - MAE: 0.3444311738095238 / 0.35086609166666666\n",
    "#2 - MAE: 0.34706674175824176 / 0.3427020345238095\n",
    "#3 - MAE: 0.3475678107142857 / 0.3453844226190476\n",
    "#4 - MAE: 0.3434115404761905 / 0.34369832023809516\n",
    "#5 - MAE: 0.37630070396825394\n",
    "#         0.3817714027777777"
   ]
  },
  {
   "cell_type": "code",
   "execution_count": null,
   "metadata": {},
   "outputs": [],
   "source": []
  }
 ],
 "metadata": {
  "kernelspec": {
   "display_name": "Python 3",
   "language": "python",
   "name": "python3"
  },
  "language_info": {
   "codemirror_mode": {
    "name": "ipython",
    "version": 3
   },
   "file_extension": ".py",
   "mimetype": "text/x-python",
   "name": "python",
   "nbconvert_exporter": "python",
   "pygments_lexer": "ipython3",
   "version": "3.7.4"
  }
 },
 "nbformat": 4,
 "nbformat_minor": 2
}
