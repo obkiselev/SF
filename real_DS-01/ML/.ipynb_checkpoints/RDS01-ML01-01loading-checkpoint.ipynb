{
 "cells": [
  {
   "cell_type": "code",
   "execution_count": 2,
   "metadata": {},
   "outputs": [
    {
     "data": {
      "text/plain": [
       "'RDS01-model01.ipynb'"
      ]
     },
     "execution_count": 2,
     "metadata": {},
     "output_type": "execute_result"
    }
   ],
   "source": [
    "# Импорт необходимых библиотек\n",
    "import pandas as pd\n",
    "import re\n",
    "import datetime as dt\n",
    "\n",
    "RANDOM_SEED = 124680\n",
    "\n",
    "# Загрузка датасета\n",
    "df = pd.read_csv('../data/main_task.csv')"
   ]
  },
  {
   "cell_type": "code",
   "execution_count": 4,
   "metadata": {},
   "outputs": [],
   "source": [
    "# Функция отображения вспомогательной информации\n",
    "def prn_info(p_col):\n",
    "    global df\n",
    "    print('    *** value_counts of ['+p_col+']:')\n",
    "    print(df[p_col].value_counts())\n",
    "    print('    ***    rows qnty of ['+p_col+']:',df[p_col].value_counts().sum())"
   ]
  },
  {
   "cell_type": "code",
   "execution_count": 5,
   "metadata": {},
   "outputs": [],
   "source": [
    "# Функция записи колонки с новой фичей в файл\n",
    "# Для последующего merge используется колонка ID_TA\n",
    "def write_to_csv(p_col):\n",
    "    idxLst = df.index.to_list()\n",
    "    header = 'ID_TA,'+p_col+'\\n'\n",
    "\n",
    "    ouf = open('new_cols/'+p_col+'.csv', 'w')\n",
    "    ouf.write(header)\n",
    "    for idx in idxLst:\n",
    "        s = str(df['ID_TA'].iloc[idx])+','+str(df[p_col].iloc[idx])+'\\n'\n",
    "        ouf.write(s)\n",
    "    ouf.close()"
   ]
  },
  {
   "cell_type": "code",
   "execution_count": null,
   "metadata": {},
   "outputs": [],
   "source": []
  }
 ],
 "metadata": {
  "kernelspec": {
   "display_name": "Python 3",
   "language": "python",
   "name": "python3"
  },
  "language_info": {
   "codemirror_mode": {
    "name": "ipython",
    "version": 3
   },
   "file_extension": ".py",
   "mimetype": "text/x-python",
   "name": "python",
   "nbconvert_exporter": "python",
   "pygments_lexer": "ipython3",
   "version": "3.7.4"
  }
 },
 "nbformat": 4,
 "nbformat_minor": 2
}
