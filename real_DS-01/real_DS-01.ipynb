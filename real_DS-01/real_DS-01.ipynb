{
 "cells": [
  {
   "cell_type": "markdown",
   "metadata": {},
   "source": [
    "# Модуль 1. О вкусной и здоровой пище"
   ]
  },
  {
   "cell_type": "markdown",
   "metadata": {},
   "source": [
    "## 1.1. Война войной, а обед по расписанию!"
   ]
  },
  {
   "cell_type": "markdown",
   "metadata": {},
   "source": [
    "### Что вы получите в результате работы?\n",
    " - создадите свою первую модель, основанную на алгоритмах машинного обучения.\n",
    " - примете участие в соревновании на Kaggle.\n",
    " - опубликуете решение на Kaggle, Github и (при желании) в личном блоге или на других ресурсах, посвященных IT."
   ]
  },
  {
   "cell_type": "markdown",
   "metadata": {},
   "source": [
    "### Сколько шагов нужно будет пройти на пути к цели?\n",
    "\n",
    "6 шагов.\n",
    "\n",
    "Сколько времени выделяется на весь путь?\n",
    "\n",
    "4 недели.\n",
    "\n",
    "Что нужно сделать на этом шаге?\n",
    "\n",
    "- разобраться с подробным описанием того, как будет организовано изучение модуля;\n",
    "- скачать датасет для работы;\n",
    "- загрузить датасет и проанализировать содержащиеся в нём данные;\n",
    "- ответить на вопросы о данных.\n",
    "\n",
    "Сколько времени мы рекомендуем потратить на этот шаг?\n",
    "\n",
    "1 день."
   ]
  },
  {
   "cell_type": "markdown",
   "metadata": {},
   "source": [
    "### Чем мы будем заниматься?\n",
    "\n",
    "В этом модуле вы попробуете решить свой первый настоящий кейс и создадите первую модель, использующую алгоритмы машинного обучения.\n",
    "\n",
    "Не пугайтесь, вам не придётся совершать академический подвиг и изучать машинное обучение в экстремально короткие сроки! На самом деле код для создания и обучения модели мы вам предоставим в готовом виде, и этот код будет довольно простым: в нём не будет предусмотрен подбор параметров и тонкая настройка модели (всему этому вы научитесь позже, в курсе по ML). Пока ваша задача будет состоять в том, чтобы качественно подготовить данные для обучения модели. В ближайшие 2-3 недели вы убедитесь, что тщательная очистка данных и генерация новых признаков (Feature Engineering ) способны повысить точность модели в 2 и более раз, и владение этими навыками играют в машинном обучении не меньшую роль, чем умение выбрать алгоритм и настроить модель.\n",
    "\n",
    "Итак, факт остается фактом: свою первую модель вы создадите уже через пару недель, а после этого, в следующие две недели, используете свои наработки для участия в первом в вашей жизни соревновании на платформе Kaggle.com, создадите репозиторий на GitHub и начнёте работать над созданием своего личного бренда в онлайн-сообществе специалистов по Data Science.\n",
    "\n",
    "Изучение сквозного курса временами будет существенно отличаться от изучения остальных учебных модулей."
   ]
  },
  {
   "cell_type": "markdown",
   "metadata": {},
   "source": [
    "### Чем сквозной курс отличается от других?\n",
    "\n",
    "- Способы решения задач, которые рассматриваются в курсе, могут кардинально отличаться у разных студентов, и это абсолютно нормально, а до некоторой степени даже запланировано авторами курса ).\n",
    "- В курсе мы практически не будем уделять внимание изучению новых инструментов (хотя никто не запрещает вам этим заниматься!), но будем концентрироваться на применении уже знакомых вам инструментов в условиях, приближенных к реальным. Мы надеемся, что такой подход позволит вам глубже понять и прочнее запомнить материал.\n",
    "- Часть заданий вы будете выполнять в парах или группах с другими студентами. Работа в команде — это то, что делает современную IT-индустрию такой сильной и быстро развивающейся.\n",
    "- Некоторые задания будут представлять собой соревнования. Data Science — это очень конкурентная среда, и нужно быть готовым к работе в ней!\n",
    "- Оценки за самые главные задания вам будет ставить не платформа, а наставник, который будет отслеживать ваши успехи и давать обратную связь.\n",
    "- В модулях сквозного курса не предусмотрена помощь технической поддержки, а наставникам запрещено помогать студентам писать код или искать ошибки в уже написанном коде. Задача наставника — подсказать направление работы, дать обратную связь, но в остальном условия работы будут приближены к реальной работе в индустрии. При этом, конечно, никто не запрещает вам советоваться друг с другом )"
   ]
  },
  {
   "cell_type": "markdown",
   "metadata": {},
   "source": [
    "### А при чём здесь еда?\n",
    "На самом деле все предельно просто: в этом модуле вы будете работать с датасетом, содержащим сведения о 40 000 ресторанах Европы, а модель, которую вы будете обучать, должна будет предсказывать рейтинг ресторана по данным сайта TripAdvisor на основе имеющихся в датасете данных.\n",
    "\n",
    "Первоначальная версия датасета состоит из десяти столбцов, содержащих следующую информацию:\n",
    "- Restaurant_id — идентификационный номер ресторана;\n",
    "- City — город, в котором находится ресторан;\n",
    "- Cuisine Style — стиль или стили, к которым можно отнести блюда, предлагаемые в ресторане;\n",
    "- Ranking — место, которое занимает данный ресторан среди всех ресторанов своего города;\n",
    "- Rating — рейтинг ресторана по данным TripAdvisor (именно это значение должна будет предсказывать модель);\n",
    "- Price Range — диапазон цен в ресторане;\n",
    "- Number of Reviews — количество отзывов о ресторане;\n",
    "- Reviews — данные о двух отзывах, которые отображаются на сайте ресторана;\n",
    "- URL_TA — URL страницы ресторана на TripAdvosor;\n",
    "- ID_TA — идентификатор ресторана в базе данных TripAdvisor."
   ]
  },
  {
   "cell_type": "markdown",
   "metadata": {},
   "source": [
    "## ТРЕНИРОВКА\n",
    "Давайте попробуем загрузить датасет и ознакомиться с данными, форматами и особенностями хранения информации в файле. Ответы на вопросы ниже помогут вам лучше сориентироваться в файле, а также покажут некоторые важные особенности, которые нужно будет учесть при создании модели."
   ]
  },
  {
   "cell_type": "code",
   "execution_count": 1,
   "metadata": {},
   "outputs": [
    {
     "data": {
      "text/html": [
       "<div>\n",
       "<style scoped>\n",
       "    .dataframe tbody tr th:only-of-type {\n",
       "        vertical-align: middle;\n",
       "    }\n",
       "\n",
       "    .dataframe tbody tr th {\n",
       "        vertical-align: top;\n",
       "    }\n",
       "\n",
       "    .dataframe thead th {\n",
       "        text-align: right;\n",
       "    }\n",
       "</style>\n",
       "<table border=\"1\" class=\"dataframe\">\n",
       "  <thead>\n",
       "    <tr style=\"text-align: right;\">\n",
       "      <th></th>\n",
       "      <th>Restaurant_id</th>\n",
       "      <th>City</th>\n",
       "      <th>Cuisine Style</th>\n",
       "      <th>Ranking</th>\n",
       "      <th>Rating</th>\n",
       "      <th>Price Range</th>\n",
       "      <th>Number of Reviews</th>\n",
       "      <th>Reviews</th>\n",
       "      <th>URL_TA</th>\n",
       "      <th>ID_TA</th>\n",
       "    </tr>\n",
       "  </thead>\n",
       "  <tbody>\n",
       "    <tr>\n",
       "      <th>0</th>\n",
       "      <td>id_5569</td>\n",
       "      <td>Paris</td>\n",
       "      <td>['European', 'French', 'International']</td>\n",
       "      <td>5570.0</td>\n",
       "      <td>3.5</td>\n",
       "      <td>$$ - $$$</td>\n",
       "      <td>194.0</td>\n",
       "      <td>[['Good food at your doorstep', 'A good hotel ...</td>\n",
       "      <td>/Restaurant_Review-g187147-d1912643-Reviews-R_...</td>\n",
       "      <td>d1912643</td>\n",
       "    </tr>\n",
       "    <tr>\n",
       "      <th>1</th>\n",
       "      <td>id_1535</td>\n",
       "      <td>Stockholm</td>\n",
       "      <td>NaN</td>\n",
       "      <td>1537.0</td>\n",
       "      <td>4.0</td>\n",
       "      <td>NaN</td>\n",
       "      <td>10.0</td>\n",
       "      <td>[['Unique cuisine', 'Delicious Nepalese food']...</td>\n",
       "      <td>/Restaurant_Review-g189852-d7992032-Reviews-Bu...</td>\n",
       "      <td>d7992032</td>\n",
       "    </tr>\n",
       "    <tr>\n",
       "      <th>2</th>\n",
       "      <td>id_352</td>\n",
       "      <td>London</td>\n",
       "      <td>['Japanese', 'Sushi', 'Asian', 'Grill', 'Veget...</td>\n",
       "      <td>353.0</td>\n",
       "      <td>4.5</td>\n",
       "      <td>$$$$</td>\n",
       "      <td>688.0</td>\n",
       "      <td>[['Catch up with friends', 'Not exceptional'],...</td>\n",
       "      <td>/Restaurant_Review-g186338-d8632781-Reviews-RO...</td>\n",
       "      <td>d8632781</td>\n",
       "    </tr>\n",
       "    <tr>\n",
       "      <th>3</th>\n",
       "      <td>id_3456</td>\n",
       "      <td>Berlin</td>\n",
       "      <td>NaN</td>\n",
       "      <td>3458.0</td>\n",
       "      <td>5.0</td>\n",
       "      <td>NaN</td>\n",
       "      <td>3.0</td>\n",
       "      <td>[[], []]</td>\n",
       "      <td>/Restaurant_Review-g187323-d1358776-Reviews-Es...</td>\n",
       "      <td>d1358776</td>\n",
       "    </tr>\n",
       "    <tr>\n",
       "      <th>4</th>\n",
       "      <td>id_615</td>\n",
       "      <td>Munich</td>\n",
       "      <td>['German', 'Central European', 'Vegetarian Fri...</td>\n",
       "      <td>621.0</td>\n",
       "      <td>4.0</td>\n",
       "      <td>$$ - $$$</td>\n",
       "      <td>84.0</td>\n",
       "      <td>[['Best place to try a Bavarian food', 'Nice b...</td>\n",
       "      <td>/Restaurant_Review-g187309-d6864963-Reviews-Au...</td>\n",
       "      <td>d6864963</td>\n",
       "    </tr>\n",
       "  </tbody>\n",
       "</table>\n",
       "</div>"
      ],
      "text/plain": [
       "  Restaurant_id       City                                      Cuisine Style  \\\n",
       "0       id_5569      Paris            ['European', 'French', 'International']   \n",
       "1       id_1535  Stockholm                                                NaN   \n",
       "2        id_352     London  ['Japanese', 'Sushi', 'Asian', 'Grill', 'Veget...   \n",
       "3       id_3456     Berlin                                                NaN   \n",
       "4        id_615     Munich  ['German', 'Central European', 'Vegetarian Fri...   \n",
       "\n",
       "   Ranking  Rating Price Range  Number of Reviews  \\\n",
       "0   5570.0     3.5    $$ - $$$              194.0   \n",
       "1   1537.0     4.0         NaN               10.0   \n",
       "2    353.0     4.5        $$$$              688.0   \n",
       "3   3458.0     5.0         NaN                3.0   \n",
       "4    621.0     4.0    $$ - $$$               84.0   \n",
       "\n",
       "                                             Reviews  \\\n",
       "0  [['Good food at your doorstep', 'A good hotel ...   \n",
       "1  [['Unique cuisine', 'Delicious Nepalese food']...   \n",
       "2  [['Catch up with friends', 'Not exceptional'],...   \n",
       "3                                           [[], []]   \n",
       "4  [['Best place to try a Bavarian food', 'Nice b...   \n",
       "\n",
       "                                              URL_TA     ID_TA  \n",
       "0  /Restaurant_Review-g187147-d1912643-Reviews-R_...  d1912643  \n",
       "1  /Restaurant_Review-g189852-d7992032-Reviews-Bu...  d7992032  \n",
       "2  /Restaurant_Review-g186338-d8632781-Reviews-RO...  d8632781  \n",
       "3  /Restaurant_Review-g187323-d1358776-Reviews-Es...  d1358776  \n",
       "4  /Restaurant_Review-g187309-d6864963-Reviews-Au...  d6864963  "
      ]
     },
     "execution_count": 1,
     "metadata": {},
     "output_type": "execute_result"
    }
   ],
   "source": [
    "import pandas as pd\n",
    "df = pd.read_csv('data/main_task.csv')\n",
    "df.head()"
   ]
  },
  {
   "cell_type": "code",
   "execution_count": 2,
   "metadata": {},
   "outputs": [
    {
     "data": {
      "text/html": [
       "<div>\n",
       "<style scoped>\n",
       "    .dataframe tbody tr th:only-of-type {\n",
       "        vertical-align: middle;\n",
       "    }\n",
       "\n",
       "    .dataframe tbody tr th {\n",
       "        vertical-align: top;\n",
       "    }\n",
       "\n",
       "    .dataframe thead th {\n",
       "        text-align: right;\n",
       "    }\n",
       "</style>\n",
       "<table border=\"1\" class=\"dataframe\">\n",
       "  <thead>\n",
       "    <tr style=\"text-align: right;\">\n",
       "      <th></th>\n",
       "      <th>Restaurant_id</th>\n",
       "      <th>City</th>\n",
       "      <th>Cuisine Style</th>\n",
       "      <th>Ranking</th>\n",
       "      <th>Rating</th>\n",
       "      <th>Price Range</th>\n",
       "      <th>Number of Reviews</th>\n",
       "      <th>Reviews</th>\n",
       "      <th>URL_TA</th>\n",
       "      <th>ID_TA</th>\n",
       "    </tr>\n",
       "  </thead>\n",
       "  <tbody>\n",
       "    <tr>\n",
       "      <th>9826</th>\n",
       "      <td>id_1246</td>\n",
       "      <td>Stockholm</td>\n",
       "      <td>['Indian']</td>\n",
       "      <td>1247.0</td>\n",
       "      <td>4.5</td>\n",
       "      <td>$$ - $$$</td>\n",
       "      <td>21.0</td>\n",
       "      <td>[['Great tasting food', 'Very good!'], ['07/09...</td>\n",
       "      <td>/Restaurant_Review-g189852-d2048996-Reviews-Ra...</td>\n",
       "      <td>d2048996</td>\n",
       "    </tr>\n",
       "    <tr>\n",
       "      <th>12803</th>\n",
       "      <td>id_0</td>\n",
       "      <td>Stockholm</td>\n",
       "      <td>['European', 'Swedish', 'Scandinavian', 'Veget...</td>\n",
       "      <td>1.0</td>\n",
       "      <td>4.5</td>\n",
       "      <td>$$ - $$$</td>\n",
       "      <td>165.0</td>\n",
       "      <td>[['Fantastic Dinner', '30th birthday feast'], ...</td>\n",
       "      <td>/Restaurant_Review-g189852-d7345323-Reviews-Ad...</td>\n",
       "      <td>d7345323</td>\n",
       "    </tr>\n",
       "    <tr>\n",
       "      <th>15290</th>\n",
       "      <td>id_2459</td>\n",
       "      <td>Stockholm</td>\n",
       "      <td>NaN</td>\n",
       "      <td>2464.0</td>\n",
       "      <td>1.0</td>\n",
       "      <td>NaN</td>\n",
       "      <td>NaN</td>\n",
       "      <td>[[], []]</td>\n",
       "      <td>/Restaurant_Review-g189852-d7133658-Reviews-Sk...</td>\n",
       "      <td>d7133658</td>\n",
       "    </tr>\n",
       "    <tr>\n",
       "      <th>29591</th>\n",
       "      <td>id_1241</td>\n",
       "      <td>Stockholm</td>\n",
       "      <td>NaN</td>\n",
       "      <td>1242.0</td>\n",
       "      <td>4.0</td>\n",
       "      <td>NaN</td>\n",
       "      <td>6.0</td>\n",
       "      <td>[['Pleasant...', 'Traditional Swedish menu'], ...</td>\n",
       "      <td>/Restaurant_Review-g189852-d11841511-Reviews-R...</td>\n",
       "      <td>d11841511</td>\n",
       "    </tr>\n",
       "    <tr>\n",
       "      <th>35142</th>\n",
       "      <td>id_1239</td>\n",
       "      <td>Stockholm</td>\n",
       "      <td>NaN</td>\n",
       "      <td>1240.0</td>\n",
       "      <td>4.0</td>\n",
       "      <td>NaN</td>\n",
       "      <td>12.0</td>\n",
       "      <td>[['Terrible food', 'OK'], ['08/15/2015', '05/2...</td>\n",
       "      <td>/Restaurant_Review-g189852-d5953104-Reviews-Pa...</td>\n",
       "      <td>d5953104</td>\n",
       "    </tr>\n",
       "  </tbody>\n",
       "</table>\n",
       "</div>"
      ],
      "text/plain": [
       "      Restaurant_id       City  \\\n",
       "9826        id_1246  Stockholm   \n",
       "12803          id_0  Stockholm   \n",
       "15290       id_2459  Stockholm   \n",
       "29591       id_1241  Stockholm   \n",
       "35142       id_1239  Stockholm   \n",
       "\n",
       "                                           Cuisine Style  Ranking  Rating  \\\n",
       "9826                                          ['Indian']   1247.0     4.5   \n",
       "12803  ['European', 'Swedish', 'Scandinavian', 'Veget...      1.0     4.5   \n",
       "15290                                                NaN   2464.0     1.0   \n",
       "29591                                                NaN   1242.0     4.0   \n",
       "35142                                                NaN   1240.0     4.0   \n",
       "\n",
       "      Price Range  Number of Reviews  \\\n",
       "9826     $$ - $$$               21.0   \n",
       "12803    $$ - $$$              165.0   \n",
       "15290         NaN                NaN   \n",
       "29591         NaN                6.0   \n",
       "35142         NaN               12.0   \n",
       "\n",
       "                                                 Reviews  \\\n",
       "9826   [['Great tasting food', 'Very good!'], ['07/09...   \n",
       "12803  [['Fantastic Dinner', '30th birthday feast'], ...   \n",
       "15290                                           [[], []]   \n",
       "29591  [['Pleasant...', 'Traditional Swedish menu'], ...   \n",
       "35142  [['Terrible food', 'OK'], ['08/15/2015', '05/2...   \n",
       "\n",
       "                                                  URL_TA      ID_TA  \n",
       "9826   /Restaurant_Review-g189852-d2048996-Reviews-Ra...   d2048996  \n",
       "12803  /Restaurant_Review-g189852-d7345323-Reviews-Ad...   d7345323  \n",
       "15290  /Restaurant_Review-g189852-d7133658-Reviews-Sk...   d7133658  \n",
       "29591  /Restaurant_Review-g189852-d11841511-Reviews-R...  d11841511  \n",
       "35142  /Restaurant_Review-g189852-d5953104-Reviews-Pa...   d5953104  "
      ]
     },
     "execution_count": 2,
     "metadata": {},
     "output_type": "execute_result"
    }
   ],
   "source": [
    "df.loc[(df['City']=='Stockholm') & \n",
    "       (df['Cuisine Style'].isna()) &\n",
    "       (df['Price Range'].isna()) &\n",
    "       (df['Number of Reviews'].isna())\n",
    "      ]\n",
    "city = 'Stockholm'\n",
    "df.loc[(df['City']==city) & \n",
    "   ((df['Ranking']==df.loc[(df['City']==city)].Ranking.min()) |\n",
    "    ((df.loc[(df['City']==city)].Ranking.mean()-5 <= df['Ranking']) &\n",
    "     (df['Ranking'] <= df.loc[(df['City']==city)].Ranking.mean()+5)) |\n",
    "    (df['Ranking']==df.loc[(df['City']==city)].Ranking.max()))\n",
    "  ]"
   ]
  },
  {
   "cell_type": "code",
   "execution_count": 3,
   "metadata": {},
   "outputs": [
    {
     "data": {
      "text/plain": [
       "(1643.0, 2464.0]    290\n",
       "(-1.464, 822.0]     276\n",
       "(822.0, 1643.0]     254\n",
       "Name: Ranking, dtype: int64"
      ]
     },
     "execution_count": 3,
     "metadata": {},
     "output_type": "execute_result"
    }
   ],
   "source": [
    "df.loc[df['City']=='Stockholm'].Ranking.value_counts(bins=3)"
   ]
  },
  {
   "cell_type": "code",
   "execution_count": 4,
   "metadata": {},
   "outputs": [
    {
     "data": {
      "text/plain": [
       "Restaurant_id                                                  id_2459\n",
       "City                                                         Stockholm\n",
       "Cuisine Style                                                      NaN\n",
       "Ranking                                                           2464\n",
       "Rating                                                               1\n",
       "Price Range                                                        NaN\n",
       "Number of Reviews                                                  NaN\n",
       "Reviews                                                       [[], []]\n",
       "URL_TA               /Restaurant_Review-g189852-d7133658-Reviews-Sk...\n",
       "ID_TA                                                         d7133658\n",
       "Name: 15290, dtype: object"
      ]
     },
     "execution_count": 4,
     "metadata": {},
     "output_type": "execute_result"
    }
   ],
   "source": [
    "df.iloc[15290]"
   ]
  },
  {
   "cell_type": "code",
   "execution_count": 5,
   "metadata": {},
   "outputs": [
    {
     "data": {
      "text/html": [
       "<div>\n",
       "<style scoped>\n",
       "    .dataframe tbody tr th:only-of-type {\n",
       "        vertical-align: middle;\n",
       "    }\n",
       "\n",
       "    .dataframe tbody tr th {\n",
       "        vertical-align: top;\n",
       "    }\n",
       "\n",
       "    .dataframe thead th {\n",
       "        text-align: right;\n",
       "    }\n",
       "</style>\n",
       "<table border=\"1\" class=\"dataframe\">\n",
       "  <thead>\n",
       "    <tr style=\"text-align: right;\">\n",
       "      <th></th>\n",
       "      <th>Restaurant_id</th>\n",
       "      <th>City</th>\n",
       "      <th>Cuisine Style</th>\n",
       "      <th>Ranking</th>\n",
       "      <th>Rating</th>\n",
       "      <th>Price Range</th>\n",
       "      <th>Number of Reviews</th>\n",
       "      <th>Reviews</th>\n",
       "      <th>URL_TA</th>\n",
       "      <th>ID_TA</th>\n",
       "    </tr>\n",
       "  </thead>\n",
       "  <tbody>\n",
       "    <tr>\n",
       "      <th>13446</th>\n",
       "      <td>id_2</td>\n",
       "      <td>Paris</td>\n",
       "      <td>['French', 'European', 'Contemporary']</td>\n",
       "      <td>3.0</td>\n",
       "      <td>5.0</td>\n",
       "      <td>$$$$</td>\n",
       "      <td>427.0</td>\n",
       "      <td>[['Second time and just as good', 'Best dinner...</td>\n",
       "      <td>/Restaurant_Review-g187147-d9806534-Reviews-AS...</td>\n",
       "      <td>d9806534</td>\n",
       "    </tr>\n",
       "    <tr>\n",
       "      <th>17304</th>\n",
       "      <td>id_13978</td>\n",
       "      <td>Paris</td>\n",
       "      <td>['French']</td>\n",
       "      <td>13986.0</td>\n",
       "      <td>1.0</td>\n",
       "      <td>NaN</td>\n",
       "      <td>NaN</td>\n",
       "      <td>[[], []]</td>\n",
       "      <td>/Restaurant_Review-g187147-d719135-Reviews-Le_...</td>\n",
       "      <td>d719135</td>\n",
       "    </tr>\n",
       "    <tr>\n",
       "      <th>20993</th>\n",
       "      <td>id_6933</td>\n",
       "      <td>Paris</td>\n",
       "      <td>['Vietnamese']</td>\n",
       "      <td>6934.0</td>\n",
       "      <td>4.0</td>\n",
       "      <td>$</td>\n",
       "      <td>23.0</td>\n",
       "      <td>[['Lovely dose of Vietnamese food', 'Nice ambi...</td>\n",
       "      <td>/Restaurant_Review-g187147-d8636407-Reviews-Ph...</td>\n",
       "      <td>d8636407</td>\n",
       "    </tr>\n",
       "    <tr>\n",
       "      <th>35252</th>\n",
       "      <td>id_6929</td>\n",
       "      <td>Paris</td>\n",
       "      <td>['French']</td>\n",
       "      <td>6930.0</td>\n",
       "      <td>4.5</td>\n",
       "      <td>$$$$</td>\n",
       "      <td>11.0</td>\n",
       "      <td>[['Meeting', 'Great venue for celebration.'], ...</td>\n",
       "      <td>/Restaurant_Review-g187147-d7913616-Reviews-Pa...</td>\n",
       "      <td>d7913616</td>\n",
       "    </tr>\n",
       "    <tr>\n",
       "      <th>37285</th>\n",
       "      <td>id_6936</td>\n",
       "      <td>Paris</td>\n",
       "      <td>['French', 'European', 'Spanish', 'Vegetarian ...</td>\n",
       "      <td>6937.0</td>\n",
       "      <td>3.5</td>\n",
       "      <td>$$ - $$$</td>\n",
       "      <td>189.0</td>\n",
       "      <td>[['mixed platter - asian fusion', 'Great for l...</td>\n",
       "      <td>/Restaurant_Review-g187147-d796610-Reviews-Lit...</td>\n",
       "      <td>d796610</td>\n",
       "    </tr>\n",
       "  </tbody>\n",
       "</table>\n",
       "</div>"
      ],
      "text/plain": [
       "      Restaurant_id   City                                      Cuisine Style  \\\n",
       "13446          id_2  Paris             ['French', 'European', 'Contemporary']   \n",
       "17304      id_13978  Paris                                         ['French']   \n",
       "20993       id_6933  Paris                                     ['Vietnamese']   \n",
       "35252       id_6929  Paris                                         ['French']   \n",
       "37285       id_6936  Paris  ['French', 'European', 'Spanish', 'Vegetarian ...   \n",
       "\n",
       "       Ranking  Rating Price Range  Number of Reviews  \\\n",
       "13446      3.0     5.0        $$$$              427.0   \n",
       "17304  13986.0     1.0         NaN                NaN   \n",
       "20993   6934.0     4.0           $               23.0   \n",
       "35252   6930.0     4.5        $$$$               11.0   \n",
       "37285   6937.0     3.5    $$ - $$$              189.0   \n",
       "\n",
       "                                                 Reviews  \\\n",
       "13446  [['Second time and just as good', 'Best dinner...   \n",
       "17304                                           [[], []]   \n",
       "20993  [['Lovely dose of Vietnamese food', 'Nice ambi...   \n",
       "35252  [['Meeting', 'Great venue for celebration.'], ...   \n",
       "37285  [['mixed platter - asian fusion', 'Great for l...   \n",
       "\n",
       "                                                  URL_TA     ID_TA  \n",
       "13446  /Restaurant_Review-g187147-d9806534-Reviews-AS...  d9806534  \n",
       "17304  /Restaurant_Review-g187147-d719135-Reviews-Le_...   d719135  \n",
       "20993  /Restaurant_Review-g187147-d8636407-Reviews-Ph...  d8636407  \n",
       "35252  /Restaurant_Review-g187147-d7913616-Reviews-Pa...  d7913616  \n",
       "37285  /Restaurant_Review-g187147-d796610-Reviews-Lit...   d796610  "
      ]
     },
     "execution_count": 5,
     "metadata": {},
     "output_type": "execute_result"
    }
   ],
   "source": [
    "city = 'Paris'\n",
    "df.loc[(df['City']==city) & \n",
    "   ((df['Ranking']==df.loc[(df['City']==city)].Ranking.min()) |\n",
    "    ((df.loc[(df['City']==city)].Ranking.mean()-5 <= df['Ranking']) &\n",
    "     (df['Ranking'] <= df.loc[(df['City']==city)].Ranking.mean()+5)) |\n",
    "   (df['Ranking']==df.loc[(df['City']==city)].Ranking.max()))\n",
    "  ]"
   ]
  },
  {
   "cell_type": "markdown",
   "metadata": {},
   "source": [
    "### 1.1.1 Задание 1\n",
    "Какие столбцы НЕ содержат пропущенных (None) значений?"
   ]
  },
  {
   "cell_type": "code",
   "execution_count": 6,
   "metadata": {},
   "outputs": [
    {
     "name": "stdout",
     "output_type": "stream",
     "text": [
      "<class 'pandas.core.frame.DataFrame'>\n",
      "RangeIndex: 40000 entries, 0 to 39999\n",
      "Data columns (total 10 columns):\n",
      "Restaurant_id        40000 non-null object\n",
      "City                 40000 non-null object\n",
      "Cuisine Style        30717 non-null object\n",
      "Ranking              40000 non-null float64\n",
      "Rating               40000 non-null float64\n",
      "Price Range          26114 non-null object\n",
      "Number of Reviews    37457 non-null float64\n",
      "Reviews              40000 non-null object\n",
      "URL_TA               40000 non-null object\n",
      "ID_TA                40000 non-null object\n",
      "dtypes: float64(3), object(7)\n",
      "memory usage: 3.1+ MB\n"
     ]
    }
   ],
   "source": [
    "#df.loc[df['ID_TA'].isna()]\n",
    "df.info()\n",
    "#содержат пропущенных (None) значений - для ответа надо инвертировать\n",
    "#Cuisine Style\n",
    "#Price Range\n",
    "#Number of Reviews"
   ]
  },
  {
   "cell_type": "markdown",
   "metadata": {},
   "source": [
    "### 1.1.2 Задание 2\n",
    "В каких столбцах данные хранятся в числовом формате?"
   ]
  },
  {
   "cell_type": "code",
   "execution_count": 7,
   "metadata": {},
   "outputs": [],
   "source": [
    "#df.info()\n",
    "#Ranking\n",
    "#Rating\n",
    "#Number of Reviews"
   ]
  },
  {
   "cell_type": "markdown",
   "metadata": {},
   "source": [
    "### 1.1.3 Задание 3\n",
    "В каких столбцах хранящиеся данные представляют собой список?"
   ]
  },
  {
   "cell_type": "code",
   "execution_count": 8,
   "metadata": {},
   "outputs": [
    {
     "data": {
      "text/plain": [
       "str"
      ]
     },
     "execution_count": 8,
     "metadata": {},
     "output_type": "execute_result"
    }
   ],
   "source": [
    "type(df['Reviews'].iloc[0])\n",
    "#c = df['Reviews'].iloc[0]\n",
    "#type(c)\n",
    "#ни в одном из перечисленных"
   ]
  },
  {
   "cell_type": "markdown",
   "metadata": {},
   "source": [
    "## 1.2. Машинное обучение для чайников"
   ]
  },
  {
   "cell_type": "markdown",
   "metadata": {},
   "source": [
    "### Что нужно сделать на этом шаге?\n",
    "Создать свою первую модель, основанную на алгоритмах машинного обучения. Код для создания модели мы предоставим, но чтобы модель заработала, в неё нужно загрузить правильные данные. Приведение данных в нужный вид и будет вашей задачей. \n",
    "### Сколько времени мы рекомендуем потратить на этот шаг?\n",
    "2 дня."
   ]
  },
  {
   "cell_type": "markdown",
   "metadata": {},
   "source": [
    "### Алиса, это пудинг. Пудинг, это Алиса\n",
    "Ну что же, настал момент истины. Сейчас вы попробуете создать свою первую модель, работающую на основе одного из довольно мощных алгоритмов машинного обучения — RandomForestRegression.\n",
    "\n",
    "Ноутбук с кодом для создания, обучения и тестирования модели можно скачать здесь. \n",
    "\n",
    "Давайте вкратце ознакомимся с тем, что будет происходить с вашими данными после их загрузки в датафрейм:"
   ]
  },
  {
   "cell_type": "markdown",
   "metadata": {},
   "source": [
    "### Разделение датафрейма\n",
    "Прежде всего для создания модели необходимо разделить датафрейм на набор данных, которые мы будем использовать для обучения модели (X), и на целевую переменную, т.е. величину, значение которой мы будем предсказывать (y).\n",
    "\n",
    "Далее каждый из полученных наборов мы делим на тренировочный (train, используется для обучения модели) и тестовый (test, используется для оценки точности модели).  Такое деление осуществляется с помощью специального метода, входящего в состав библиотеки Scikit-Learn (sklearn). В параметрах метода мы указываем, какую часть исходного датафрейма нужно оставить для тестирования модели. В нашем коде эта часть составляет 25% или 0.25."
   ]
  },
  {
   "cell_type": "code",
   "execution_count": 9,
   "metadata": {},
   "outputs": [],
   "source": [
    "# Разбиваем датафрейм на части, необходимые для обучения и тестирования модели  \n",
    "# Х - данные с информацией о ресторанах, у - целевая переменная (рейтинги ресторанов)  \n",
    "X = df.drop(['Restaurant_id', 'Rating'], axis = 1)  \n",
    "y = df['Rating']  \n",
    "  \n",
    "# Загружаем специальный инструмент для разбивки:  \n",
    "from sklearn.model_selection import train_test_split  \n",
    "  \n",
    "# Наборы данных с меткой \"train\" будут использоваться для обучения модели, \"test\" - для тестирования.  \n",
    "# Для тестирования мы будем использовать 25% от исходного датасета.  \n",
    "X_train, X_test, y_train, y_test = train_test_split(X, y, test_size=0.25)  "
   ]
  },
  {
   "cell_type": "markdown",
   "metadata": {},
   "source": [
    "### Создание, обучение и тестирование модели\n",
    "Сам процесс создания и тестирования модели занимает всего четыре строчки кода (при условии, что мы используем параметры по умолчанию):"
   ]
  },
  {
   "cell_type": "code",
   "execution_count": 10,
   "metadata": {},
   "outputs": [
    {
     "ename": "ValueError",
     "evalue": "could not convert string to float: 'Prague'",
     "output_type": "error",
     "traceback": [
      "\u001b[1;31m---------------------------------------------------------------------------\u001b[0m",
      "\u001b[1;31mValueError\u001b[0m                                Traceback (most recent call last)",
      "\u001b[1;32m<ipython-input-10-7403d9b6fd92>\u001b[0m in \u001b[0;36m<module>\u001b[1;34m\u001b[0m\n\u001b[0;32m      7\u001b[0m \u001b[1;33m\u001b[0m\u001b[0m\n\u001b[0;32m      8\u001b[0m \u001b[1;31m# Обучаем модель на тестовом наборе данных\u001b[0m\u001b[1;33m\u001b[0m\u001b[1;33m\u001b[0m\u001b[1;33m\u001b[0m\u001b[0m\n\u001b[1;32m----> 9\u001b[1;33m \u001b[0mregr\u001b[0m\u001b[1;33m.\u001b[0m\u001b[0mfit\u001b[0m\u001b[1;33m(\u001b[0m\u001b[0mX_train\u001b[0m\u001b[1;33m,\u001b[0m \u001b[0my_train\u001b[0m\u001b[1;33m)\u001b[0m\u001b[1;33m\u001b[0m\u001b[1;33m\u001b[0m\u001b[0m\n\u001b[0m\u001b[0;32m     10\u001b[0m \u001b[1;33m\u001b[0m\u001b[0m\n\u001b[0;32m     11\u001b[0m \u001b[1;31m# Используем обученную модель для предсказания рейтинга ресторанов в тестовой выборке.\u001b[0m\u001b[1;33m\u001b[0m\u001b[1;33m\u001b[0m\u001b[1;33m\u001b[0m\u001b[0m\n",
      "\u001b[1;32m~\\Miniconda3\\lib\\site-packages\\sklearn\\ensemble\\_forest.py\u001b[0m in \u001b[0;36mfit\u001b[1;34m(self, X, y, sample_weight)\u001b[0m\n\u001b[0;32m    293\u001b[0m         \"\"\"\n\u001b[0;32m    294\u001b[0m         \u001b[1;31m# Validate or convert input data\u001b[0m\u001b[1;33m\u001b[0m\u001b[1;33m\u001b[0m\u001b[1;33m\u001b[0m\u001b[0m\n\u001b[1;32m--> 295\u001b[1;33m         \u001b[0mX\u001b[0m \u001b[1;33m=\u001b[0m \u001b[0mcheck_array\u001b[0m\u001b[1;33m(\u001b[0m\u001b[0mX\u001b[0m\u001b[1;33m,\u001b[0m \u001b[0maccept_sparse\u001b[0m\u001b[1;33m=\u001b[0m\u001b[1;34m\"csc\"\u001b[0m\u001b[1;33m,\u001b[0m \u001b[0mdtype\u001b[0m\u001b[1;33m=\u001b[0m\u001b[0mDTYPE\u001b[0m\u001b[1;33m)\u001b[0m\u001b[1;33m\u001b[0m\u001b[1;33m\u001b[0m\u001b[0m\n\u001b[0m\u001b[0;32m    296\u001b[0m         \u001b[0my\u001b[0m \u001b[1;33m=\u001b[0m \u001b[0mcheck_array\u001b[0m\u001b[1;33m(\u001b[0m\u001b[0my\u001b[0m\u001b[1;33m,\u001b[0m \u001b[0maccept_sparse\u001b[0m\u001b[1;33m=\u001b[0m\u001b[1;34m'csc'\u001b[0m\u001b[1;33m,\u001b[0m \u001b[0mensure_2d\u001b[0m\u001b[1;33m=\u001b[0m\u001b[1;32mFalse\u001b[0m\u001b[1;33m,\u001b[0m \u001b[0mdtype\u001b[0m\u001b[1;33m=\u001b[0m\u001b[1;32mNone\u001b[0m\u001b[1;33m)\u001b[0m\u001b[1;33m\u001b[0m\u001b[1;33m\u001b[0m\u001b[0m\n\u001b[0;32m    297\u001b[0m         \u001b[1;32mif\u001b[0m \u001b[0msample_weight\u001b[0m \u001b[1;32mis\u001b[0m \u001b[1;32mnot\u001b[0m \u001b[1;32mNone\u001b[0m\u001b[1;33m:\u001b[0m\u001b[1;33m\u001b[0m\u001b[1;33m\u001b[0m\u001b[0m\n",
      "\u001b[1;32m~\\Miniconda3\\lib\\site-packages\\sklearn\\utils\\validation.py\u001b[0m in \u001b[0;36mcheck_array\u001b[1;34m(array, accept_sparse, accept_large_sparse, dtype, order, copy, force_all_finite, ensure_2d, allow_nd, ensure_min_samples, ensure_min_features, warn_on_dtype, estimator)\u001b[0m\n\u001b[0;32m    513\u001b[0m                     \u001b[0marray\u001b[0m \u001b[1;33m=\u001b[0m \u001b[0marray\u001b[0m\u001b[1;33m.\u001b[0m\u001b[0mastype\u001b[0m\u001b[1;33m(\u001b[0m\u001b[0mdtype\u001b[0m\u001b[1;33m,\u001b[0m \u001b[0mcasting\u001b[0m\u001b[1;33m=\u001b[0m\u001b[1;34m\"unsafe\"\u001b[0m\u001b[1;33m,\u001b[0m \u001b[0mcopy\u001b[0m\u001b[1;33m=\u001b[0m\u001b[1;32mFalse\u001b[0m\u001b[1;33m)\u001b[0m\u001b[1;33m\u001b[0m\u001b[1;33m\u001b[0m\u001b[0m\n\u001b[0;32m    514\u001b[0m                 \u001b[1;32melse\u001b[0m\u001b[1;33m:\u001b[0m\u001b[1;33m\u001b[0m\u001b[1;33m\u001b[0m\u001b[0m\n\u001b[1;32m--> 515\u001b[1;33m                     \u001b[0marray\u001b[0m \u001b[1;33m=\u001b[0m \u001b[0mnp\u001b[0m\u001b[1;33m.\u001b[0m\u001b[0masarray\u001b[0m\u001b[1;33m(\u001b[0m\u001b[0marray\u001b[0m\u001b[1;33m,\u001b[0m \u001b[0morder\u001b[0m\u001b[1;33m=\u001b[0m\u001b[0morder\u001b[0m\u001b[1;33m,\u001b[0m \u001b[0mdtype\u001b[0m\u001b[1;33m=\u001b[0m\u001b[0mdtype\u001b[0m\u001b[1;33m)\u001b[0m\u001b[1;33m\u001b[0m\u001b[1;33m\u001b[0m\u001b[0m\n\u001b[0m\u001b[0;32m    516\u001b[0m             \u001b[1;32mexcept\u001b[0m \u001b[0mComplexWarning\u001b[0m\u001b[1;33m:\u001b[0m\u001b[1;33m\u001b[0m\u001b[1;33m\u001b[0m\u001b[0m\n\u001b[0;32m    517\u001b[0m                 raise ValueError(\"Complex data not supported\\n\"\n",
      "\u001b[1;32m~\\Miniconda3\\lib\\site-packages\\numpy\\core\\_asarray.py\u001b[0m in \u001b[0;36masarray\u001b[1;34m(a, dtype, order)\u001b[0m\n\u001b[0;32m     83\u001b[0m \u001b[1;33m\u001b[0m\u001b[0m\n\u001b[0;32m     84\u001b[0m     \"\"\"\n\u001b[1;32m---> 85\u001b[1;33m     \u001b[1;32mreturn\u001b[0m \u001b[0marray\u001b[0m\u001b[1;33m(\u001b[0m\u001b[0ma\u001b[0m\u001b[1;33m,\u001b[0m \u001b[0mdtype\u001b[0m\u001b[1;33m,\u001b[0m \u001b[0mcopy\u001b[0m\u001b[1;33m=\u001b[0m\u001b[1;32mFalse\u001b[0m\u001b[1;33m,\u001b[0m \u001b[0morder\u001b[0m\u001b[1;33m=\u001b[0m\u001b[0morder\u001b[0m\u001b[1;33m)\u001b[0m\u001b[1;33m\u001b[0m\u001b[1;33m\u001b[0m\u001b[0m\n\u001b[0m\u001b[0;32m     86\u001b[0m \u001b[1;33m\u001b[0m\u001b[0m\n\u001b[0;32m     87\u001b[0m \u001b[1;33m\u001b[0m\u001b[0m\n",
      "\u001b[1;31mValueError\u001b[0m: could not convert string to float: 'Prague'"
     ]
    }
   ],
   "source": [
    "# Импортируем необходимые библиотеки:  \n",
    "from sklearn.ensemble import RandomForestRegressor # инструмент для создания и обучения модели  \n",
    "from sklearn import metrics # инструменты для оценки точности модели  \n",
    "  \n",
    "# Создаём модель  \n",
    "regr = RandomForestRegressor(n_estimators=100)  \n",
    "  \n",
    "# Обучаем модель на тестовом наборе данных  \n",
    "regr.fit(X_train, y_train)  \n",
    "  \n",
    "# Используем обученную модель для предсказания рейтинга ресторанов в тестовой выборке.  \n",
    "# Предсказанные значения записываем в переменную y_pred  \n",
    "y_pred = regr.predict(X_test)"
   ]
  },
  {
   "cell_type": "markdown",
   "metadata": {},
   "source": [
    "Попробуйте запустить этот код. Что происходит? Мы видим сообщение об ошибке ValueError. Что-то явно пошло не по плану... Давайте попробуем разобраться в причинах произошедшего."
   ]
  },
  {
   "cell_type": "markdown",
   "metadata": {},
   "source": [
    "### В цифровом качестве\n",
    "Итак, мы выяснили, что для корректной работы все данные в датафрейме, который вы будете использовать при обучении модели, должны быть в форматах int или float. Есть и ещё одно жёсткое ограничение: в столбцах не должно быть None-значений. В реальных проектах в индустрии используются разные подходы к работе с None-значениями. Если позволяют условия, то строки, содержащие неполные данные, просто удаляют из датасета. Однако в задачах по машинному обучению эта стратегия не используется никогда, потому что настоящие герои никогда не ищут лёгких путей :). Вместо каждого NaN вам нужно будет вычислить и поместить в ячейку максимально близкое к реальности значение.\n",
    "\n",
    "Таким образом, чтобы код, отвечающий за обучение модели, заработал, мы должны использовать в нём датафрейм, содержащий только количественные признаки и не содержащий None-значений. На первом этапе для создания такого датафрейма давайте просто удалим столбцы, содержащие данные типа object, и заполним пропущенные значения (None или NaN) каким-то одним значением (нулём или средним арифметическим) для  всего столбца.\n",
    "\n",
    "### Для выполнения этих операций вам понадобятся следующие методы библиотеки Pandas:\n",
    "\n",
    "- drop — метод для удаления ненужных строк и столбцов (обратите внимание, что в материалах данного модуля метод разрешается использовать только для удаления столбцов);\n",
    "\n",
    "- fillna — метод для заполнения пропущенных значений в столбце или во всём датафрейме."
   ]
  },
  {
   "cell_type": "markdown",
   "metadata": {},
   "source": [
    "#### После выполнения всех преобразований попробуйте заново запустить код, уже с очищенными данными."
   ]
  },
  {
   "cell_type": "code",
   "execution_count": 11,
   "metadata": {},
   "outputs": [
    {
     "name": "stdout",
     "output_type": "stream",
     "text": [
      "<class 'pandas.core.frame.DataFrame'>\n",
      "RangeIndex: 40000 entries, 0 to 39999\n",
      "Data columns (total 2 columns):\n",
      "Ranking              40000 non-null float64\n",
      "Number of Reviews    37457 non-null float64\n",
      "dtypes: float64(2)\n",
      "memory usage: 625.1 KB\n",
      "<class 'pandas.core.frame.DataFrame'>\n",
      "RangeIndex: 40000 entries, 0 to 39999\n",
      "Data columns (total 2 columns):\n",
      "Ranking              40000 non-null float64\n",
      "Number of Reviews    40000 non-null float64\n",
      "dtypes: float64(2)\n",
      "memory usage: 625.1 KB\n"
     ]
    },
    {
     "data": {
      "text/plain": [
       "4.0    13692\n",
       "4.5    10929\n",
       "3.5     6824\n",
       "5.0     3879\n",
       "3.0     2955\n",
       "2.5      915\n",
       "2.0      466\n",
       "1.0      201\n",
       "1.5      139\n",
       "Name: Rating, dtype: int64"
      ]
     },
     "execution_count": 11,
     "metadata": {},
     "output_type": "execute_result"
    }
   ],
   "source": [
    "#Удалим для X все нечисловые колонки\n",
    "X = df.drop(['Restaurant_id','City', 'Cuisine Style', 'Price Range', \n",
    "             'Reviews','URL_TA','ID_TA','Rating'], axis=1)\n",
    "X.info()\n",
    "\n",
    "#Заполним пропуски среднеарифметич.знач.\n",
    "X['Number of Reviews'] = X['Number of Reviews'].fillna(X['Number of Reviews'].mean())\n",
    "X\n",
    "X.info()\n",
    "\n",
    "y.value_counts()"
   ]
  },
  {
   "cell_type": "code",
   "execution_count": 12,
   "metadata": {},
   "outputs": [],
   "source": [
    "#Повторим действия кроме импорта библиотек\n",
    "\n",
    "# Наборы данных с меткой \"train\" будут использоваться для обучения модели, \"test\" - для тестирования.  \n",
    "# Для тестирования мы будем использовать 25% от исходного датасета.  \n",
    "X_train, X_test, y_train, y_test = train_test_split(X, y, test_size=0.25)\n",
    "\n",
    "# Создаём модель  \n",
    "regr = RandomForestRegressor(n_estimators=100)  \n",
    "  \n",
    "# Обучаем модель на тестовом наборе данных  \n",
    "regr.fit(X_train, y_train)  \n",
    "  \n",
    "# Используем обученную модель для предсказания рейтинга ресторанов в тестовой выборке.  \n",
    "# Предсказанные значения записываем в переменную y_pred  \n",
    "y_pred = regr.predict(X_test)"
   ]
  },
  {
   "cell_type": "markdown",
   "metadata": {},
   "source": [
    "### Как узнать, что моя модель хорошая?\n",
    "Прежде всего давайте скажем, что ваша модель в любом случае отличная, потому что она умеет обрабатывать данные и делать прогнозы по результатам этой обработки. Другой вопрос, насколько точны эти прогнозы и можно ли как-то управлять точностью предсказаний?\n",
    "\n",
    "Для оценки точности прогнозов, сделанных моделью, мы будем использовать метрику (показатель), которая называется Mean Absolute Error, и представляет собой среднее абсолютное значение отклонения предсказанных значений от фактических:"
   ]
  },
  {
   "cell_type": "markdown",
   "metadata": {},
   "source": [
    "![alt text](pic/DST_th1_MAE.png \"Title\")"
   ]
  },
  {
   "cell_type": "markdown",
   "metadata": {},
   "source": [
    "Иными словами, если у вас получился результат MAE = 0.5, то это значит, что модель при расчёте рейтинга ошибается в среднем на 0.5 баллов. \n",
    "\n",
    "В последней ячейке ноутбука, который вы скачали, прилагается код для расчёта MAE:"
   ]
  },
  {
   "cell_type": "code",
   "execution_count": 13,
   "metadata": {},
   "outputs": [
    {
     "name": "stdout",
     "output_type": "stream",
     "text": [
      "MAE: 0.4322717847222222\n"
     ]
    }
   ],
   "source": [
    "# Сравниваем предсказанные значения (y_pred) с реальными (y_test), и смотрим насколько они в среднем отличаются  \n",
    "# Метрика называется Mean Absolute Error (MAE) и показывает среднее отклонение предсказанных значений от фактических.  \n",
    "print('MAE:', metrics.mean_absolute_error(y_test, y_pred))  "
   ]
  },
  {
   "cell_type": "markdown",
   "metadata": {},
   "source": [
    "#### Попробуйте применить этот код для вычисления MAE вашей модели. Какой результат у вас получился?\n",
    "\n",
    "Автору этого модуля удалось очистить данные таким образом, что модель отработала с точностью MAE = 0.21. Как приблизиться к этому результату и по возможности улучшить его? Об этом вы узнаете на следующем шаге."
   ]
  },
  {
   "cell_type": "markdown",
   "metadata": {},
   "source": [
    "### \"Допиливание\" модели см. в \"RDS01-model01-...\""
   ]
  },
  {
   "cell_type": "markdown",
   "metadata": {},
   "source": [
    "## 1.3. Сделайте с этим что-нибудь!"
   ]
  },
  {
   "cell_type": "markdown",
   "metadata": {},
   "source": [
    "### Что нужно сделать на этом шаге?\n",
    "Повысить точность прогнозов, которые делает модель, с помощью более тщательной подготовки данных. При подготовке датасета нужно будет не только избавиться от пропущенных (None) значений и нечисловых признаков, но и сгенерировать новые признаки (добавить в датафрейм новые столбцы) на основе информации, уже содержащейся в данных.\n",
    "\n",
    "### Сколько времени мы рекомендуем потратить на этот шаг?\n",
    "1 неделя."
   ]
  },
  {
   "cell_type": "markdown",
   "metadata": {},
   "source": [
    "### А что делать-то?\n",
    "С одной стороны, всё просто. Задачу, которая стоит перед вами, можно свести к трём пунктам:\n",
    "1. Удалить из датафрейма столбцы, данные в которых представлены не числами (это вы уже сделали, и нужно просто повторить знакомые действия, но в этот раз выполнить данный шаг в последнюю очередь).\n",
    "2. Избавиться от пропущенных (None) значений (на предыдущем шаге мы делали это самым грубым из всех возможных способов; сейчас попробуем подойти к процессу более гибко).\n",
    "3. Создать новые столбцы с данными, используя для этого информацию, содержащуюся в других столбцах датафрейма (например, можно добавить столбец, сообщающий, сколько дней прошло со дня публикации последнего отзыва, отображённого на сайте).\n",
    "\n",
    "С другой стороны, в этом задании масса подводных камней."
   ]
  },
  {
   "cell_type": "markdown",
   "metadata": {},
   "source": [
    "### Строковые данные\n",
    "В исходном наборе данных всего три столбца содержат числовые данные, причём один из этих столбцов — это целевая переменная, значение которой должна предсказывать наша модель. Так что просто удалить все object-значения и считать задачу выполненной не получится. Для создания качественной модели нам сначала придётся очень основательно поработать со строковыми данными и извлечь из них как можно больше информации, которую можно представить в числовом виде."
   ]
  },
  {
   "cell_type": "markdown",
   "metadata": {},
   "source": [
    "### Пропущенные значения\n",
    "Мы уже говорили о том, что в задачах по машинному обучению принято не удалять строки с пустыми значениями, а заполнять их максимально близкими к реальности данными. Как найти такие данные — большой вопрос, требующий не только знания синтаксиса, но и креативности, изобретательности, хорошего понимания контента, а иногда ещё и интуиции. "
   ]
  },
  {
   "cell_type": "markdown",
   "metadata": {},
   "source": [
    "### Новые признаки\n",
    "Это, пожалуй, самая сложная, но и самая интригующая, увлекательная и творческая часть работы на данном шаге. Создание новых признаков (Feature Engineering) потребует от вас не только хорошего владения разными библиотеками Python, но и способность вникать в контент, умение подключать к работе интуицию, творческий подход и готовность к экспериментам.\n",
    "\n",
    "Попробуем? "
   ]
  },
  {
   "cell_type": "markdown",
   "metadata": {},
   "source": [
    "### Подсказки без подсказок\n",
    "По условию нашего курса при выполнении этого задания у каждого студента должен получиться свой уникальный датафрейм, содержащий уникальный набор признаков. Иными словами, мы не стремимся привести всех к единому результату и одинаковому, \"единственно правильному\" набору признаков. В то же время у нас есть определённое представление о том, какие признаки точно можно сгенерировать на основе набора данных, который вы получили для работы.\n",
    "\n",
    "Ниже мы разместили несколько вопросов, для ответов на которые вам нужно будет создать столбцы с теми самыми числовыми признаками, которые в дальнейшем могут быть полезны при обучении модели. Попробуйте начать работу с поиска ответов на эти вопросы, но постарайтесь на этом не ограничиваться. \n",
    "\n",
    "### Полезные методы\n",
    "Для удобства мы также предлагаем вам список ссылок на методы, которые наверняка понадобятся при работе с данными:\n",
    "- Библиотека Pandas\n",
    " - drop — метод для удаления ненужных строк и столбцов (обратите внимание, что в материалах данного модуля метод разрешается использовать только для удаления столбцов);\n",
    " - fillna — метод для заполнения пропущенных значений в столбце или во всём датафрейме;\n",
    " - isnull — функция, позволяющая определить, содержит ли переменная или структура данных, переданная в качестве параметра, None-значения;\n",
    " - apply — метод, позволяющий применить заданную функцию ко всему датафрейму или к отдельному столбцу;\n",
    " - pd.Series — конструктор для создания объекта Series (может пригодиться для одновременного заполнения нескольких новых столбцов);\n",
    " - unique — метод для получения всех уникальных значений, встречающихся в заданном столбце.\n",
    "- Дополнительные модули:\n",
    " - datetime — модуль для работы с датой и временем;\n",
    " - re — модуль для работу с регулярными выражениями."
   ]
  },
  {
   "cell_type": "markdown",
   "metadata": {},
   "source": [
    "### 1.3.1 Вопросы о ценах\n",
    "#### Сколько вариантов непустых значений встречается в столбце Price Range?\n",
    "#3"
   ]
  },
  {
   "cell_type": "code",
   "execution_count": 14,
   "metadata": {},
   "outputs": [
    {
     "data": {
      "text/plain": [
       "array(['$$ - $$$', nan, '$$$$', '$'], dtype=object)"
      ]
     },
     "execution_count": 14,
     "metadata": {},
     "output_type": "execute_result"
    }
   ],
   "source": [
    "#df.info()\n",
    "df['Price Range'].unique()"
   ]
  },
  {
   "cell_type": "markdown",
   "metadata": {},
   "source": [
    "#### Как в датафрейме обозначается самый низкий уровень цен?\n",
    "#$"
   ]
  },
  {
   "cell_type": "markdown",
   "metadata": {},
   "source": [
    "#### Как в датафрейме обозначается самый высокий уровень цен?"
   ]
  },
  {
   "cell_type": "code",
   "execution_count": 15,
   "metadata": {},
   "outputs": [],
   "source": [
    "#$$$$"
   ]
  },
  {
   "cell_type": "markdown",
   "metadata": {},
   "source": [
    "#### Сколько ресторанов относятся к среднему ценовому сегменту?\n",
    "#18412"
   ]
  },
  {
   "cell_type": "markdown",
   "metadata": {},
   "source": [
    "### 1.3.2 Вопросы о городах\n",
    "#### Сколько городов представлено в наборе данных?\n",
    "#31"
   ]
  },
  {
   "cell_type": "code",
   "execution_count": 16,
   "metadata": {},
   "outputs": [
    {
     "data": {
      "text/plain": [
       "array(['Paris', 'Stockholm', 'London', 'Berlin', 'Munich', 'Oporto',\n",
       "       'Milan', 'Bratislava', 'Vienna', 'Rome', 'Barcelona', 'Madrid',\n",
       "       'Dublin', 'Brussels', 'Zurich', 'Warsaw', 'Budapest', 'Copenhagen',\n",
       "       'Amsterdam', 'Lyon', 'Hamburg', 'Lisbon', 'Prague', 'Oslo',\n",
       "       'Helsinki', 'Edinburgh', 'Geneva', 'Ljubljana', 'Athens',\n",
       "       'Luxembourg', 'Krakow'], dtype=object)"
      ]
     },
     "execution_count": 16,
     "metadata": {},
     "output_type": "execute_result"
    }
   ],
   "source": [
    "df.City.unique()"
   ]
  },
  {
   "cell_type": "code",
   "execution_count": 17,
   "metadata": {},
   "outputs": [
    {
     "data": {
      "text/plain": [
       "31"
      ]
     },
     "execution_count": 17,
     "metadata": {},
     "output_type": "execute_result"
    }
   ],
   "source": [
    "len(df.City.unique())"
   ]
  },
  {
   "cell_type": "markdown",
   "metadata": {},
   "source": [
    "#### Сколько ресторанов расположены в столичных городах?\n",
    "#30424\n",
    "###### Необходимо создать новый признак Capital = 0/1"
   ]
  },
  {
   "cell_type": "code",
   "execution_count": 18,
   "metadata": {},
   "outputs": [
    {
     "data": {
      "text/plain": [
       "City\n",
       "False    30424\n",
       "True      9576\n",
       "Name: Restaurant_id, dtype: int64"
      ]
     },
     "execution_count": 18,
     "metadata": {},
     "output_type": "execute_result"
    }
   ],
   "source": [
    "df.Restaurant_id.count() #ресторанов всего 40000\n",
    "df.groupby((df['City']=='Munich') | (df['City']=='Oporto') | (df['City']=='Milan') | \n",
    "           (df['City']=='Barcelona') | (df['City']=='Zurich') | (df['City']=='Lyon') | \n",
    "           (df['City']=='Hamburg') | (df['City']=='Geneva') | (df['City']=='Krakow')).Restaurant_id.count()"
   ]
  },
  {
   "cell_type": "markdown",
   "metadata": {},
   "source": [
    "### 1.3.3 Вопросы о кухнях\n",
    "#### Сколько типов кухонь представлено в наборе данных?\n",
    "#125"
   ]
  },
  {
   "cell_type": "code",
   "execution_count": 19,
   "metadata": {
    "scrolled": true
   },
   "outputs": [
    {
     "name": "stderr",
     "output_type": "stream",
     "text": [
      "C:\\Users\\OKiselev\\Miniconda3\\lib\\site-packages\\pandas\\core\\indexing.py:205: SettingWithCopyWarning: \n",
      "A value is trying to be set on a copy of a slice from a DataFrame\n",
      "\n",
      "See the caveats in the documentation: http://pandas.pydata.org/pandas-docs/stable/user_guide/indexing.html#returning-a-view-versus-a-copy\n",
      "  self._setitem_with_indexer(indexer, value)\n"
     ]
    }
   ],
   "source": [
    "#найдем уникальные вхождения\n",
    "ListCuisineStyle = []\n",
    "df['Qnty_CS'] = 0 #для нового признака\n",
    "idx = -1\n",
    "\n",
    "#ouf = open('data/CuisineStyle.csv', 'w')\n",
    "\n",
    "for v in df['Cuisine Style'].apply(lambda x: str(x).strip('[]')):\n",
    "    idx += 1\n",
    "    \n",
    "    if pd.isna(str(v)) or str(v).lower() == 'nan':\n",
    "        df['Qnty_CS'].iloc[idx] = 1\n",
    "    elif ',' not in v:\n",
    "        df['Qnty_CS'].iloc[idx] = 1\n",
    "        s = v.strip()\n",
    "        s = s.strip(\"'\")\n",
    "        #ouf.write(s+',1\\n')\n",
    "        if s not in ListCuisineStyle:\n",
    "            ListCuisineStyle += [s]\n",
    "    else:\n",
    "        for cs in v.split(','):\n",
    "            df['Qnty_CS'].iloc[idx] += 1\n",
    "            s = cs.strip()\n",
    "            s = s.strip(\"'\")\n",
    "            #ouf.write(s+',2\\n')\n",
    "            if s not in ListCuisineStyle:\n",
    "                ListCuisineStyle += [s]\n",
    "#     if idx > 5:\n",
    "#         break\n",
    "\n",
    "#ouf.close()\n",
    "\n",
    "ListCuisineStyle.sort()\n",
    "#ListCuisineStyle\n",
    "#df.head()"
   ]
  },
  {
   "cell_type": "code",
   "execution_count": 20,
   "metadata": {},
   "outputs": [
    {
     "data": {
      "text/plain": [
       "125"
      ]
     },
     "execution_count": 20,
     "metadata": {},
     "output_type": "execute_result"
    }
   ],
   "source": [
    "len(ListCuisineStyle)\n",
    "#125\n",
    "#ListCuisineStyle"
   ]
  },
  {
   "cell_type": "code",
   "execution_count": 21,
   "metadata": {
    "scrolled": true
   },
   "outputs": [
    {
     "name": "stdout",
     "output_type": "stream",
     "text": [
      "<class 'pandas.core.frame.DataFrame'>\n",
      "RangeIndex: 40000 entries, 0 to 39999\n",
      "Data columns (total 11 columns):\n",
      "Restaurant_id        40000 non-null object\n",
      "City                 40000 non-null object\n",
      "Cuisine Style        30717 non-null object\n",
      "Ranking              40000 non-null float64\n",
      "Rating               40000 non-null float64\n",
      "Price Range          26114 non-null object\n",
      "Number of Reviews    37457 non-null float64\n",
      "Reviews              40000 non-null object\n",
      "URL_TA               40000 non-null object\n",
      "ID_TA                40000 non-null object\n",
      "Qnty_CS              40000 non-null int64\n",
      "dtypes: float64(3), int64(1), object(7)\n",
      "memory usage: 3.4+ MB\n"
     ]
    },
    {
     "data": {
      "text/plain": [
       "9007"
      ]
     },
     "execution_count": 21,
     "metadata": {},
     "output_type": "execute_result"
    }
   ],
   "source": [
    "df.info() #30717\n",
    "df['Cuisine Style'].nunique() #9007"
   ]
  },
  {
   "cell_type": "markdown",
   "metadata": {},
   "source": [
    "#### Какая кухня представлена в наибольшем количестве ресторанов? Введите название кухни без кавычек или апострофов\n",
    "#Vegetarian Friendly"
   ]
  },
  {
   "cell_type": "code",
   "execution_count": 22,
   "metadata": {
    "scrolled": true
   },
   "outputs": [],
   "source": [
    "d = {}\n",
    "cnt = 0\n",
    "for key in ListCuisineStyle:\n",
    "    d[key] = 0\n",
    "    #print('key =',key)\n",
    "    for s in df['Cuisine Style']:\n",
    "        cnt += 1\n",
    "        if key in str(s):\n",
    "            d[key] +=1"
   ]
  },
  {
   "cell_type": "code",
   "execution_count": 23,
   "metadata": {},
   "outputs": [
    {
     "data": {
      "text/html": [
       "<div>\n",
       "<style scoped>\n",
       "    .dataframe tbody tr th:only-of-type {\n",
       "        vertical-align: middle;\n",
       "    }\n",
       "\n",
       "    .dataframe tbody tr th {\n",
       "        vertical-align: top;\n",
       "    }\n",
       "\n",
       "    .dataframe thead th {\n",
       "        text-align: right;\n",
       "    }\n",
       "</style>\n",
       "<table border=\"1\" class=\"dataframe\">\n",
       "  <thead>\n",
       "    <tr style=\"text-align: right;\">\n",
       "      <th></th>\n",
       "      <th>cnt</th>\n",
       "    </tr>\n",
       "  </thead>\n",
       "  <tbody>\n",
       "    <tr>\n",
       "      <th>Vegetarian Friendly</th>\n",
       "      <td>11189</td>\n",
       "    </tr>\n",
       "  </tbody>\n",
       "</table>\n",
       "</div>"
      ],
      "text/plain": [
       "                       cnt\n",
       "Vegetarian Friendly  11189"
      ]
     },
     "execution_count": 23,
     "metadata": {},
     "output_type": "execute_result"
    }
   ],
   "source": [
    "df1 = pd.DataFrame([d], columns=d.keys()).T\n",
    "df1.columns = ['cnt']\n",
    "df1.loc[df1.cnt == df1.cnt.max()]\n",
    "#Vegetarian Friendly"
   ]
  },
  {
   "cell_type": "markdown",
   "metadata": {},
   "source": [
    "#### Сколько типов кухонь предлагается только в одном ресторане? Введите ответ в виде целого числа\n",
    "#5 - не уверен, что решение я нашел правильно"
   ]
  },
  {
   "cell_type": "code",
   "execution_count": 24,
   "metadata": {},
   "outputs": [
    {
     "data": {
      "text/html": [
       "<div>\n",
       "<style scoped>\n",
       "    .dataframe tbody tr th:only-of-type {\n",
       "        vertical-align: middle;\n",
       "    }\n",
       "\n",
       "    .dataframe tbody tr th {\n",
       "        vertical-align: top;\n",
       "    }\n",
       "\n",
       "    .dataframe thead th {\n",
       "        text-align: right;\n",
       "    }\n",
       "</style>\n",
       "<table border=\"1\" class=\"dataframe\">\n",
       "  <thead>\n",
       "    <tr style=\"text-align: right;\">\n",
       "      <th></th>\n",
       "      <th>cnt</th>\n",
       "    </tr>\n",
       "  </thead>\n",
       "  <tbody>\n",
       "    <tr>\n",
       "      <th>Burmese</th>\n",
       "      <td>1</td>\n",
       "    </tr>\n",
       "    <tr>\n",
       "      <th>Latvian</th>\n",
       "      <td>1</td>\n",
       "    </tr>\n",
       "    <tr>\n",
       "      <th>Salvadoran</th>\n",
       "      <td>1</td>\n",
       "    </tr>\n",
       "    <tr>\n",
       "      <th>Xinjiang</th>\n",
       "      <td>1</td>\n",
       "    </tr>\n",
       "    <tr>\n",
       "      <th>Yunnan</th>\n",
       "      <td>1</td>\n",
       "    </tr>\n",
       "  </tbody>\n",
       "</table>\n",
       "</div>"
      ],
      "text/plain": [
       "            cnt\n",
       "Burmese       1\n",
       "Latvian       1\n",
       "Salvadoran    1\n",
       "Xinjiang      1\n",
       "Yunnan        1"
      ]
     },
     "execution_count": 24,
     "metadata": {},
     "output_type": "execute_result"
    }
   ],
   "source": [
    "df1.loc[df1.cnt == 1]"
   ]
  },
  {
   "cell_type": "code",
   "execution_count": 25,
   "metadata": {},
   "outputs": [
    {
     "name": "stdout",
     "output_type": "stream",
     "text": [
      "['Mexican', 'Latin', 'Salvadoran', 'Central American', 'Spanish']\n",
      "['Asian', 'Thai', 'Yunnan', 'Vegetarian Friendly', 'Vegan Options']\n",
      "['Chinese', 'Xinjiang']\n",
      "['Chinese', 'Asian', 'Thai', 'Burmese']\n",
      "['Mexican', 'American', 'European', 'Latvian', 'Eastern European', 'Hungarian']\n"
     ]
    }
   ],
   "source": [
    "cnt = 0\n",
    "for v in df.loc[df['Cuisine Style'].notna()]['Cuisine Style']:\n",
    "    s = str(v)\n",
    "    if s.find('Salvadoran') > 0 or s.find('Yunnan') > 0 or s.find('Xinjiang') > 0 or s.find('Burmese') > 0 or s.find('Latvian') > 0:\n",
    "        print(s)\n",
    "    cnt += 1\n",
    "#     if cnt > 15:\n",
    "#         break"
   ]
  },
  {
   "cell_type": "markdown",
   "metadata": {},
   "source": [
    "#### Какое среднее количество кухонь предлагается в одном ресторане? Если в данных отсутствует информация о типах кухонь, то считайте, что в этом ресторане предлагается только один тип кухни. Ответ округлите до одного знака после запятой\n",
    "#2.6"
   ]
  },
  {
   "cell_type": "code",
   "execution_count": 26,
   "metadata": {},
   "outputs": [
    {
     "data": {
      "text/plain": [
       "2.6224"
      ]
     },
     "execution_count": 26,
     "metadata": {},
     "output_type": "execute_result"
    }
   ],
   "source": [
    "df.Qnty_CS.mean()\n",
    "#2.6"
   ]
  },
  {
   "cell_type": "markdown",
   "metadata": {},
   "source": [
    "### 1.3.4 Вопросы об отзывах\n",
    "#### Когда был оставлен самый свежий отзыв? Введите ответ в формате yyyy-mm-dd\n",
    "#2018-02-26"
   ]
  },
  {
   "cell_type": "code",
   "execution_count": 27,
   "metadata": {},
   "outputs": [],
   "source": [
    "import re\n",
    "import datetime as dt"
   ]
  },
  {
   "cell_type": "code",
   "execution_count": 28,
   "metadata": {},
   "outputs": [
    {
     "name": "stdout",
     "output_type": "stream",
     "text": [
      "2018-02-26 00:00:00\n"
     ]
    }
   ],
   "source": [
    "cnt = 0\n",
    "t = pd.to_datetime('1900-01-01')\n",
    "for r in df.loc[df.Reviews != '[[], []]'].Reviews:\n",
    "    cnt += 1\n",
    "    lst = re.findall(r'\\d\\d\\/\\d\\d\\/\\d{4}', r)\n",
    "    for d in lst:\n",
    "        tmp = pd.to_datetime(d)\n",
    "        if t < tmp:\n",
    "            t = tmp\n",
    "#     if cnt > 5:\n",
    "#         break\n",
    "print(t)\n",
    "#2018-02-26"
   ]
  },
  {
   "cell_type": "markdown",
   "metadata": {},
   "source": [
    "#### Какое максимальное количество дней отделяет даты публикации отзывов, размещённых на сайте ресторана? Введите количество дней в виде целого числа\n",
    "#3207"
   ]
  },
  {
   "cell_type": "code",
   "execution_count": 29,
   "metadata": {},
   "outputs": [
    {
     "name": "stdout",
     "output_type": "stream",
     "text": [
      "3207 days 00:00:00\n"
     ]
    }
   ],
   "source": [
    "cnt = 0\n",
    "#Tinf = pd.to_datetime('1900-01-01')\n",
    "Tdiff = dt.timedelta(days=0)\n",
    "for r in df.loc[df.Reviews != '[[], []]'].Reviews:\n",
    "    cnt += 1\n",
    "    lst = re.findall(r'\\d\\d\\/\\d\\d\\/\\d{4}', r)\n",
    "    if len(lst) == 2:\n",
    "        t1 = pd.to_datetime(lst[0])\n",
    "        t2 = pd.to_datetime(lst[1])\n",
    "        if t1>t2:\n",
    "            tmp = t1 - t2\n",
    "        else:\n",
    "            tmp = t2 - t1\n",
    "        if Tdiff < tmp:\n",
    "            Tdiff = tmp\n",
    "        #print('***',pd.to_datetime(lst[0]),pd.to_datetime(lst[1]))\n",
    "        #print(tmp,Tdiff)\n",
    "#     if cnt > 5:\n",
    "#         break\n",
    "print(Tdiff)\n",
    "#3207"
   ]
  },
  {
   "cell_type": "code",
   "execution_count": 30,
   "metadata": {},
   "outputs": [],
   "source": [
    "# Время выполнения раздела 1.3\n",
    "#02.02.2020 - 2 ч.\n",
    "#03.02.2020 - 3 ч.\n",
    "#04.02.2020 - 3 ч.\n",
    "#05.02.2020 - 0.5 ч.\n",
    "#07.02.2020 - 0.5 ч.\n",
    "#08.02.2020 - 5 ч.\n",
    "#09.02.2020 - 3 ч.\n",
    "\n",
    "#Сложности: \n",
    "# 1. В целом алгоритм поиска кол-ва типов кухонь был правильный, но закралась ошибка\n",
    "# 2. Пока сложности с пониманием как решать \"Сколько типов кухонь предлагается только в одном ресторане\". \n",
    "#    Задачу решил, но не уверен, что решение правильное. Возможно просто угадал\n"
   ]
  },
  {
   "cell_type": "markdown",
   "metadata": {},
   "source": [
    "## 1.4. И снова о чайниках"
   ]
  },
  {
   "cell_type": "markdown",
   "metadata": {},
   "source": [
    "### Организационная информация\n",
    "#### Что нужно сделать на этом шаге?\n",
    "Добавить в датафрейм несколько столбцов, содержащих данные особого типа — dummy variables, или фиктивные переменные. Подобрать такую комбинацию столбцов, которая повысит точность прогноза, сделанного моделью.\n",
    "#### Сколько времени мы рекомендуем потратить на этот шаг?\n",
    "4 дня."
   ]
  },
  {
   "cell_type": "markdown",
   "metadata": {},
   "source": [
    "В этом блоке мы рассмотрим один из приёмов, который часто используется в машинном обучении для перевода категориальных значений в числовые. Под категориальным значением мы будем понимать признак, значения которого означают принадлежность объекта к одной или нескольким категориям. Например, марка автомобиля (одна категория), цвет или цвета (одна или несколько категорий).\n",
    "\n",
    "Начинающие исследователи данных при работе с такими признаками часто совершают ошибку, просто заменяя определённые строковые значения признака числовыми показателями. Например, присваивают красному цвету код \"1\", зелёному — \"2\", жёлтому — \"3\" и т.д. Такой подход неверен, так как он предполагает, что объекты красного цвета обладают меньшим значением признака \"цвет\" по сравнению с зелёными и особенно — жёлтыми, что неверно по сути.\n",
    "\n",
    "Вторая проблема возникает в ситуации, когда в объекте встречается несколько цветов, например, красный и жёлтый. Какое число может выразить цвет такого объекта? Среднее арифметическое между «красным» и «жёлтым»? То есть объекты, в которых присутствуют красный и жёлтый цвета, на самом деле зелёные :)? Конечно же это не так."
   ]
  },
  {
   "cell_type": "markdown",
   "metadata": {},
   "source": [
    "### А что делать?\n",
    "Для перевода категориальных признаков в числовые в машинном обучении довольно часто используется концепция, называемая dummy variables. Суть концепции заключается в том, что для каждой категории признака (в нашем примере — для каждого цвета) создаётся отдельная переменная, которая может быть равна единице, если объект содержит данный цвет и нулю — если нет. Датафрейм с данными о цветах в этом случае нужно было бы преобразовать следующим образом:"
   ]
  },
  {
   "cell_type": "markdown",
   "metadata": {},
   "source": [
    "![alt_image](pic/DST_th1_dummy.png)"
   ]
  },
  {
   "cell_type": "markdown",
   "metadata": {},
   "source": [
    "Как вы думаете, есть ли в нашем наборе данных показатели, на основе которых можно было бы создать dummy variables?\n",
    "\n",
    "#### Попробуйте поэкспериментировать с этой концепцией и оценить, как ваши эсперименты повлияют на итоговый результат."
   ]
  },
  {
   "cell_type": "markdown",
   "metadata": {},
   "source": [
    "### Вторая попытка\n",
    "Итак, теперь у вас в руках есть немало полезных инструментов и ценных знаний, и настало время экспериментов. Попробуйте \"поиграть\" с имеющимися в вашем распоряжении данными:\n",
    "- добавляйте и удаляйте столбцы с признаками;\n",
    "- попробуйте использовать разные способы представления информации об одном и том же признаке (да-да, такое тоже возможно!);\n",
    "- используйте дополнительные источники информации о городах и странах, в которых расположены рестораны, чтобы лучше охарактеризовать среду, в которой находится ресторан.\n",
    "\n",
    "#### Помните, ваша главная задача — добиться максимальной точности модели, которая предсказывает рейтинг ресторана. После завершения экспериментов свяжитесь с вашим ментором и предоставьте свой код для проверки и обратной связи.\n",
    "\n",
    "Удачи вам! Вы отлично поработали на этом этапе!"
   ]
  },
  {
   "cell_type": "code",
   "execution_count": 31,
   "metadata": {},
   "outputs": [],
   "source": [
    "# Время выполнения раздела 1.4\n",
    "#10.02.2020 - 1 ч.\n",
    "#11.02.2020 - 2 ч.\n",
    "#12.02.2020 - 2 ч.\n",
    "#16.02.2020 - 4 ч.\n",
    "#17.02.2020 - 4 ч."
   ]
  },
  {
   "cell_type": "markdown",
   "metadata": {},
   "source": [
    "## 1.5. Kaggle. Начало"
   ]
  },
  {
   "cell_type": "markdown",
   "metadata": {},
   "source": [
    "### Организационная информация\n",
    "Что нужно будет сделать на этом шаге?\n",
    "- Очистить ещё один (вот этот) датасет с помощью ранее созданного вами кода.\n",
    "- Предсказать рейтинги ресторанов, описанных в полученном вами датафрейме, с помощью модели, которую вы обучили на предыдущем этапе.\n",
    "- Загрузить предсказанные рейтинги на Kaggle.com и победить в соревновании.\n",
    "\n",
    "Сколько времени мы рекомендуем потратить на этот шаг?\n",
    "\n",
    "1 неделя."
   ]
  },
  {
   "cell_type": "markdown",
   "metadata": {},
   "source": [
    "### Что такое Kaggle и нужен ли он мне?\n",
    "Kaggle — это платформа для соревнований по машинному обучению. Часть соревнований, представленных на платформе, рассчитаны на новичков, часть — на очень серьёзных профессионалов. Соревнования для профессионалов часто имеют очень существенный призовой фонд (несколько десятков тысяч долларов), и этим они привлекают большое количество участников. В июне 2017 года количество зарегистрированных на платформе участников превысило 1 000 000 человек, и в настоящее время kaggle.com является самым большим в мире сообществом специалистов в области Data Science\n",
    "\n",
    "Официальный слоган платформы — «Ваш дом для Data Science». Помимо соревнований, вы можете найти здесь более 19 000 датасетов на самые разные темы и более 200 000 ноутбуков с кодами по очистке данных и созданию моделей. Это очень ценный ресурс, с помощью которого можно углублять свои знания, знакомиться с лучшими практиками обработки данных и расширять сеть профессиональных контактов. Также на платформе есть раздел, содержащий учебные материалы по Data Science (Courses), площадка для обсуждений (Discussion), раздел с объявлениями о работе (Jobs).\n",
    "\n",
    "Ещё один очень интересный раздел — Notebooks (другое название — Kaggle Kernels). Это своеобразная онлайн-среда для программирования, работающая на серверах Kaggle. В данном разделе можно писать собственные скрипты на Python (или другом языке для работы с данными, R), что очень удобно для тестирования кода: не нужно настраивать среду у себя на компьютере. имеется возможность скопировать или изменить уже существующий ноутбук другого пользователя, а также поделиться своим, чтобы его смогли оценить остальные.\n",
    "\n",
    "Наличие портфолио и определённого рейтинга на Kaggle часто является дополнительным плюсом в глазах работодателей, т.к. показывает, что вы имеете опыт решения задач по анализу данных и машинному обучению, общаетесь с профессионалами и стараетесь быть в курсе актуальной информации, касающейся развития науки о данных."
   ]
  },
  {
   "cell_type": "markdown",
   "metadata": {},
   "source": [
    "### Что мы будем делать на Kaggle?\n",
    "В нашем курсе (да и во всей специализации) мы будем использовать площадку Kaggle для проведения соревнований по машинному обучению. Да-да, мы помним, что вы ещё не начали изучение машинного обучения. Но ведь код для создания модели у вас уже есть? Значит, вы вполне можете представить свою первую модель на конкурс.\n",
    "\n",
    "Итак, давайте рассмотрим последовательность действий, которые вам предстоит совершить:\n",
    "\n",
    "1. Прежде всего, вам необходимо зарегистрироваться на платформе. Для этого пройдите по ссылке https://www.kaggle.com, выберите подходящий для вас способ регистрации и введите необходимые данные.\n",
    "2. Теперь вы можете принимать участие во всех соревнованиях, которые проводятся на платформе, скачивать датасеты, смотреть публикации участников сообщества и делать много других интересных вещей, составляющих досуг стандартного представителя славной профессии Data Science. \n",
    "3. Настало время для участия в вашем первом соревновании. Вам необходимо пройти по этой ссылке, ознакомиться с правилами и принять их (вкладка Rules).\n",
    "4. Теперь можно скачать данные (вкладка Data), если вы ещё не успели воспользоваться ссылками (этой и этой) на учебной платформе. Файл main_task.csv содержит данные, с которыми вы уже успели поработать. Теперь вы можете не делить этот файл на тестовый и тренировочный сеты, а использовать его для обучения модели целиком. Файл kaggle_task.csv содержит данные о 10 000 новых ресторанах, но в этом файле нет информации о том, у какого ресторана какой рейтинг. Предсказание этих рейтингов и будет вашим заданием в соревновании на Kaggle."
   ]
  },
  {
   "cell_type": "markdown",
   "metadata": {},
   "source": [
    "### Формат ответа\n",
    "Вам необходимо выполнить очистку данных, содержащихся в файле kaggle_task.csv, используя код, который вы уже разработали на предыдущем этапе работы. Обратите внимание, что структура файла, полученного при очистке  main_task.csv должна быть в точности такой же, как и структура нового файла (за исключением столбца с рейтингом ресторана). Также обратите внимание, что по правилам соревнования вы не можете удалять строки из файла kaggle_task.csv. Вы должны предсказать рейтинг всех 10 000 ресторанов, включенных в набор данных. \n",
    "\n",
    "После выполнения очистки данных вам нужно обучить модель, используя все данные из основного файла. Подумайте самостоятельно, что в этом случае нужно поместить в структуры X_train и y_train. После обучения модели вы должны предсказать рейтинги ресторанов, данные о которых содержатся в файле kaggle_task.csv.\n",
    "\n",
    "Теперь наступает самый ответственный момент: загрузка вашего решения на Kaggle. Вам нужно создать отдельный датафрейм, содержащий только два столбца: 'Restaurant_id' и 'Rating'. Этот датафрейм нужно сохранить в отдельном csv-файле и загрузить на платформу, воспользовавшись кнопкой \"Submit Predictions\" и разделом \"My Submissions\". Для сохранения файла вы можете воспользоваться следующим кодом (предполагается, что датафрейм с данными называется df, а файл с решением будет носить имя solution.csv):\n",
    "\n",
    "df.to_csv('solution.csv', index = False)\n",
    "\n",
    "Если полученный результат  вас не устраивает, вы можете совершить ещё несколько попыток. При достижении более высокого результата ваше место в рейтинге повысится. Однако помните, что при получении несколькими участниками одинаковых результатов выше в рейтинговой таблице будет тот, кому для достижения этого результата потребовалось меньше попыток.\n",
    "\n",
    "Итак, мы почти завершили работу. Осталось только загрузить ваше решение в раздел \"Notebooks\", чтобы с ним могли ознакомиться остальные участники и ментор. Теперь вы стали полноправным членом сообщества Data Scientist'ов! Поздравляем!"
   ]
  },
  {
   "cell_type": "code",
   "execution_count": 2,
   "metadata": {},
   "outputs": [],
   "source": [
    "#19.02.2020 2 ч.\n",
    "#20.02.2020 4 ч.\n",
    "#22.02.2020 2 ч.\n",
    "#24.02.2020 8 ч.\n",
    "#25.02.2020 1 ч."
   ]
  },
  {
   "cell_type": "markdown",
   "metadata": {},
   "source": [
    "## 1.6. Что это было?"
   ]
  },
  {
   "cell_type": "code",
   "execution_count": null,
   "metadata": {},
   "outputs": [],
   "source": []
  }
 ],
 "metadata": {
  "kernelspec": {
   "display_name": "Python 3",
   "language": "python",
   "name": "python3"
  },
  "language_info": {
   "codemirror_mode": {
    "name": "ipython",
    "version": 3
   },
   "file_extension": ".py",
   "mimetype": "text/x-python",
   "name": "python",
   "nbconvert_exporter": "python",
   "pygments_lexer": "ipython3",
   "version": "3.7.4"
  }
 },
 "nbformat": 4,
 "nbformat_minor": 2
}
