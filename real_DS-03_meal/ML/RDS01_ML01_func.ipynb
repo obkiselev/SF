{
 "cells": [
  {
   "cell_type": "code",
   "execution_count": 1,
   "metadata": {},
   "outputs": [],
   "source": [
    "# Импорт необходимых библиотек\n",
    "import pandas as pd\n",
    "import re\n",
    "import datetime as dt"
   ]
  },
  {
   "cell_type": "code",
   "execution_count": 2,
   "metadata": {},
   "outputs": [],
   "source": [
    "# Функция отображения вспомогательной информации\n",
    "def prn_info(p_df, p_col=None):\n",
    "#     print('    *** value_counts of ['+p_col+']:')\n",
    "#     print(p_df[p_col].value_counts())\n",
    "#     print('    ***    non-null rows qnty of ['+p_col+']:',p_df[p_col].value_counts().sum())\n",
    "    print(p_df.info())"
   ]
  },
  {
   "cell_type": "code",
   "execution_count": 3,
   "metadata": {},
   "outputs": [],
   "source": [
    "# !!! Вместо этой функции используется to_csv() !!!\n",
    "\n",
    "# Функция записи колонки с новой фичей в файл\n",
    "# Для последующего merge используется колонка ID_TA\n",
    "# def write_to_csv(p_df, p_col):\n",
    "#     idxLst = p_df.index.to_list()\n",
    "#     header = 'ID_TA,'+p_col+'\\n'\n",
    "\n",
    "#     ouf = open('new_cols/'+p_col+'.csv', 'w')\n",
    "#     ouf.write(header)\n",
    "#     for idx in idxLst:\n",
    "#         s = str(p_df['ID_TA'].iloc[idx])+','+str(p_df[p_col].iloc[idx])+'\\n'\n",
    "#         ouf.write(s)\n",
    "#     ouf.close()"
   ]
  },
  {
   "cell_type": "code",
   "execution_count": null,
   "metadata": {},
   "outputs": [],
   "source": []
  },
  {
   "cell_type": "markdown",
   "metadata": {},
   "source": [
    "## //--> ===== Заполнение пропусков ====="
   ]
  },
  {
   "cell_type": "markdown",
   "metadata": {},
   "source": [
    "### ['Cuisine Style']"
   ]
  },
  {
   "cell_type": "code",
   "execution_count": 4,
   "metadata": {},
   "outputs": [],
   "source": [
    "def fill_CuisineStyle(p_df_in):\n",
    "    p_df_in['Cuisine Style'] = p_df_in['Cuisine Style'].fillna('noname')\n",
    "    return p_df_in"
   ]
  },
  {
   "cell_type": "markdown",
   "metadata": {},
   "source": [
    "### ['Number of Reviews']\n",
    "Определить ['Number of Reviews']=NaN по кол-ву ['Reviews'] ('[[], []]' = 0/1/2)"
   ]
  },
  {
   "cell_type": "code",
   "execution_count": 5,
   "metadata": {},
   "outputs": [],
   "source": [
    "def fill_NumberOfReviews(p_df_in, p_df_out):\n",
    "    cnt=0\n",
    "    idxList = p_df_in.index[p_df_in['Number of Reviews'].isna()].to_list()\n",
    "    \n",
    "    for idx in idxList:\n",
    "        cnt += 1\n",
    "#         if cnt>5:\n",
    "#             break\n",
    "        if p_df_in.loc[idx, 'Reviews'] == '[[], []]':\n",
    "            p_df_in.loc[idx, 'Number of Reviews'] = 0\n",
    "        else:\n",
    "            lst = re.findall(r'\\d\\d\\/\\d\\d\\/\\d{4}', p_df_in['Reviews'].iloc[idx])\n",
    "            p_df_in.loc[idx, 'Number of Reviews'] = len(lst)\n",
    "\n",
    "    p_df_out = pd.read_csv('../data/all_cols.csv') #инициализация\n",
    "    p_df_out['Number of Reviews'] = p_df_in['Number of Reviews'] #копируем\n",
    "    p_df_out.to_csv('../data/all_cols.csv', index=False) #скидываем в файл\n",
    "    prn_info(p_df_out)\n",
    "    return p_df_out"
   ]
  },
  {
   "cell_type": "markdown",
   "metadata": {},
   "source": [
    "### ['newPriceLevel']\n",
    "Среднее знач-е при фиксированных City, Rating, 'Number of Reviews', newQntyCS\n",
    "# !!! Пока не используется"
   ]
  },
  {
   "cell_type": "code",
   "execution_count": 6,
   "metadata": {},
   "outputs": [],
   "source": [
    "# cnt=0\n",
    "# d = {}\n",
    "# idxList = df.index[df['Price Range'].isna()].to_list()\n",
    "\n",
    "# for idx in idxList:\n",
    "#     cnt += 1\n",
    "#     #print(idx)\n",
    "#     if cnt>5:\n",
    "#         break\n",
    "#     #print(df['newPriceLevel'].iloc[idx])\n",
    "#     city = df['City'].iloc[idx]\n",
    "#     rating = df['Rating'].iloc[idx]\n",
    "#     NofRev = df['Number of Reviews'].iloc[idx]\n",
    "#     QntyCS = df['newQntyCS'].iloc[idx]\n",
    "#     key = city+'#'+rating+'#'+str(NofRev)#+'#'+to_string(QntyCS)\n",
    "    \n",
    "#     if key not in d.keys():\n",
    "#         mean_val = df.loc[(df['City'] == city) & (df['Rating']==rating) &\n",
    "#              (df['Number of Reviews']==NofRev) & (df['newQntyCS']==QntyCS) & \n",
    "#              (df['newPriceLevel'] != -1)\n",
    "#         ].newPriceLevel.mean()\n",
    "#         if pd.isna(mean_val):\n",
    "#             #расширяем границы - убираем условие (df['Number of Reviews']==df['Number of Reviews'].iloc[idx])\n",
    "#             mean_val = df.loc[(df['City'] == df['City'].iloc[idx]) & \n",
    "#                                  (df['Rating']==df['Rating'].iloc[idx]) &\n",
    "#                                  (df['newQntyCS']==df['newQntyCS'].iloc[idx]) & \n",
    "#                                  (df['newPriceLevel'] != -1)\n",
    "#                             ].newPriceLevel.mean()\n",
    "#             if pd.isna(mean_val):\n",
    "#                 #расширяем границы - убираем условие (df['Rating']==df['Rating'].iloc[idx])\n",
    "#                 mean_val = df.loc[(df['City'] == df['City'].iloc[idx]) & \n",
    "#                                      (df['newQntyCS']==df['newQntyCS'].iloc[idx]) & \n",
    "#                                      (df['newPriceLevel'] != -1)\n",
    "#                                 ].newPriceLevel.mean()\n",
    "        \n",
    "#     d[key] = round(mean_val)\n",
    "#     df['newPriceLevel'].iloc[idx] = d[key]\n",
    "#     #print(idx,':',df['newPriceLevel'].iloc[idx])\n",
    "\n",
    "# prn_info('newIsPriceLevMin')\n",
    "# prn_info('newIsPriceLevMdl')\n",
    "# prn_info('newIsPriceLevMax')"
   ]
  },
  {
   "cell_type": "markdown",
   "metadata": {},
   "source": [
    "## ===== <--//"
   ]
  },
  {
   "cell_type": "code",
   "execution_count": null,
   "metadata": {},
   "outputs": [],
   "source": []
  },
  {
   "cell_type": "markdown",
   "metadata": {},
   "source": [
    "## ===== Генерация новых признаков"
   ]
  },
  {
   "cell_type": "markdown",
   "metadata": {},
   "source": [
    "## //--> *** Цены"
   ]
  },
  {
   "cell_type": "markdown",
   "metadata": {},
   "source": [
    "### Признаки попадания уровня цен в ресторане в определенный диапазон:\n",
    "- ['newIsPriceLevMin'] - min (Да/Нет)\n",
    "- ['newIsPriceLevMdl'] - middle (Да/Нет)\n",
    "- ['newIsPriceLevMax'] - max (Да/Нет)"
   ]
  },
  {
   "cell_type": "code",
   "execution_count": 7,
   "metadata": {},
   "outputs": [],
   "source": [
    "def create_IsPriceLev(p_df_in, p_df_out):\n",
    "    p_df_in['newIsPriceLevMin'] = 0\n",
    "    p_df_in['newIsPriceLevMdl'] = 0\n",
    "    p_df_in['newIsPriceLevMax'] = 0\n",
    "\n",
    "    #пропущенные знач-я определены как мин. уровень цен\n",
    "    p_df_in.loc[p_df_in['Price Range'].isna(), ['newIsPriceLevMin']] = 1\n",
    "    \n",
    "    p_df_in.loc[p_df_in['Price Range'] == '$', ['newIsPriceLevMin']] = 1\n",
    "    p_df_in.loc[p_df_in['Price Range'] == '$$ - $$$', ['newIsPriceLevMdl']] = 1\n",
    "    p_df_in.loc[p_df_in['Price Range'] == '$$$$', ['newIsPriceLevMax']] = 1\n",
    "\n",
    "    p_df_out = pd.read_csv('../data/all_cols.csv') #инициализация\n",
    "    p_df_out['newIsPriceLevMin'] = p_df_in['newIsPriceLevMin'] #копируем\n",
    "    p_df_out['newIsPriceLevMdl'] = p_df_in['newIsPriceLevMdl'] #копируем\n",
    "    p_df_out['newIsPriceLevMax'] = p_df_in['newIsPriceLevMax'] #копируем\n",
    "    p_df_out.to_csv('../data/all_cols.csv', index=False) #скидываем в файл\n",
    "    prn_info(p_df_out)\n",
    "    return p_df_out"
   ]
  },
  {
   "cell_type": "markdown",
   "metadata": {},
   "source": [
    "## Цены *** <--//"
   ]
  },
  {
   "cell_type": "markdown",
   "metadata": {},
   "source": [
    "## //--> *** Города"
   ]
  },
  {
   "cell_type": "markdown",
   "metadata": {},
   "source": [
    "### Новый признак ['newIsCapital'] - является ли город нахождения ресторана столицей (1=Да / 0=Нет)"
   ]
  },
  {
   "cell_type": "code",
   "execution_count": 8,
   "metadata": {},
   "outputs": [],
   "source": [
    "def create_IsCapital(p_df_in, p_df_out):\n",
    "    p_df_in['newIsCapital'] = 1 #сначала записываем везде 1\n",
    "    #теперь определяем НЕстолицы:\n",
    "    p_df_in.loc[(p_df_in['City']=='Munich') | (p_df_in['City']=='Oporto') | \n",
    "                (p_df_in['City']=='Milan') | (p_df_in['City']=='Barcelona') | \n",
    "                (p_df_in['City']=='Zurich') | (p_df_in['City']=='Lyon') | \n",
    "                (p_df_in['City']=='Hamburg') | (p_df_in['City']=='Geneva') | \n",
    "                (p_df_in['City']=='Krakow'), 'newIsCapital'] = 0\n",
    "\n",
    "    p_df_out = pd.read_csv('../data/all_cols.csv') #инициализация\n",
    "    p_df_out['newIsCapital'] = p_df_in['newIsCapital'] #копируем\n",
    "    p_df_out.to_csv('../data/all_cols.csv', index=False) #скидываем в файл\n",
    "    prn_info(p_df_out)\n",
    "    return p_df_out"
   ]
  },
  {
   "cell_type": "markdown",
   "metadata": {},
   "source": [
    "### Новые признаки ['newIsRankRangeQ1-Q4'] - диапазон попадания Ranking для каждого города"
   ]
  },
  {
   "cell_type": "code",
   "execution_count": 9,
   "metadata": {},
   "outputs": [],
   "source": [
    "def create_IsRankRange(p_df_in, p_df_out):\n",
    "    p_df_in['newIsRankRangeQ1'] = 0\n",
    "    p_df_in['newIsRankRangeQ2'] = 0\n",
    "    p_df_in['newIsRankRangeQ3'] = 0\n",
    "    p_df_in['newIsRankRangeQ4'] = 0\n",
    "\n",
    "    for city in p_df_in.City.unique():\n",
    "        rr = p_df_in.loc[p_df_in.City==city].Ranking.value_counts(bins=4)\n",
    "        rr = pd.DataFrame(rr)\n",
    "\n",
    "        lst_rr = []\n",
    "        for i in range(4):\n",
    "            lst = []\n",
    "            intrv = str(rr.index[i])\n",
    "            for s in intrv.strip('( )[ ]').split(', '):\n",
    "                lst.append(float(s))\n",
    "            lst_rr += [lst]\n",
    "        lst_rr.sort()\n",
    "\n",
    "        idxList = p_df_in.index[p_df_in.City == city].to_list()\n",
    "        for idx in idxList:\n",
    "            r = p_df_in.loc[idx, 'Ranking']\n",
    "            if lst_rr[0][0] < r <= lst_rr[0][1]:\n",
    "                p_df_in.loc[idx, 'newIsRankRangeQ1'] = 1\n",
    "            elif lst_rr[1][0] < r <= lst_rr[1][1]:\n",
    "                p_df_in.loc[idx, 'newIsRankRangeQ2'] = 1\n",
    "            elif lst_rr[2][0] < r <= lst_rr[2][1]:\n",
    "                p_df_in.loc[idx, 'newIsRankRangeQ3'] = 1\n",
    "            elif lst_rr[3][0] < r <= lst_rr[3][1]:\n",
    "                p_df_in.loc[idx, 'newIsRankRangeQ4'] = 1\n",
    "        #break\n",
    "\n",
    "    p_df_out = pd.read_csv('../data/all_cols.csv') #инициализация\n",
    "    p_df_out['newIsRankRangeQ1'] = p_df_in['newIsRankRangeQ1']\n",
    "    p_df_out['newIsRankRangeQ2'] = p_df_in['newIsRankRangeQ2']\n",
    "    p_df_out['newIsRankRangeQ3'] = p_df_in['newIsRankRangeQ3']\n",
    "    p_df_out['newIsRankRangeQ4'] = p_df_in['newIsRankRangeQ4']\n",
    "    p_df_out.to_csv('../data/all_cols.csv', index=False) #скидываем в файл\n",
    "    prn_info(p_df_out)\n",
    "    return p_df_out"
   ]
  },
  {
   "cell_type": "markdown",
   "metadata": {},
   "source": [
    "## *** <--//"
   ]
  },
  {
   "cell_type": "markdown",
   "metadata": {},
   "source": [
    "## //--> *** Кухни"
   ]
  },
  {
   "cell_type": "code",
   "execution_count": null,
   "metadata": {},
   "outputs": [],
   "source": []
  },
  {
   "cell_type": "markdown",
   "metadata": {},
   "source": [
    "### Новый признак ['newQntyCS'] - кол-во представленных в ресторане кухонь\n",
    "# ---\n",
    "### Новые признаки ['newQntyCSeql01'], ['newQntyCS02-05'], ['newQntyCSgrt05']:\n",
    " - для каждого ресторана кол-во представленных в нем кухонь разбить по колонкам \"Кол-во кухонь = 1\", \"Кол-во кухонь от 2 до 5\", \"Кол-во кухонь более 5\""
   ]
  },
  {
   "cell_type": "code",
   "execution_count": 10,
   "metadata": {},
   "outputs": [],
   "source": [
    "def create_CS_info(p_df_in, p_df_out):\n",
    "    p_df_in['newQntyCS'] = 0\n",
    "    p_df_in['newIsQntyCSeql01'] = 0\n",
    "    p_df_in['newIsQntyCS02-05'] = 0\n",
    "    p_df_in['newIsQntyCSgrt05'] = 0\n",
    "    idx = -1\n",
    "    cuisines = set()  # создаём пустое множество для хранения уникальных значений кухонь\n",
    "\n",
    "    for v in p_df_in['Cuisine Style'].apply(lambda x: str(x).strip('[]')):\n",
    "        idx += 1\n",
    "#         if idx>5:\n",
    "#             break\n",
    "        QntyCS = 0\n",
    "\n",
    "        if pd.isna(str(v)) or str(v).lower() == 'nan':\n",
    "            QntyCS = 1\n",
    "            p_df_in.loc[idx, 'newQntyCS'] = 1\n",
    "        elif ',' not in v:\n",
    "            QntyCS = 1\n",
    "            p_df_in.loc[idx, 'newQntyCS'] = 1\n",
    "            cuisines.add(v.strip())\n",
    "        else:\n",
    "            for cs in v.split(','):\n",
    "                QntyCS += 1\n",
    "                p_df_in.loc[idx, 'newQntyCS'] += 1\n",
    "                cuisines.add(cs.strip())\n",
    "\n",
    "        if QntyCS == 1:\n",
    "            p_df_in.loc[idx, 'newIsQntyCSeql01'] = 1\n",
    "        if 2 <= QntyCS <= 5:\n",
    "            p_df_in.loc[idx, 'newIsQntyCS02-05'] = 1\n",
    "        elif 5 < QntyCS:\n",
    "            p_df_in.loc[idx, 'newIsQntyCSgrt05'] = 1\n",
    "\n",
    "    p_df_out = pd.read_csv('../data/all_cols.csv') #инициализация\n",
    "    p_df_out['newQntyCS'] = p_df_in['newQntyCS'] #копируем\n",
    "    p_df_out['newIsQntyCSeql01'] = p_df_in['newIsQntyCSeql01'] #копируем\n",
    "    p_df_out['newIsQntyCS02-05'] = p_df_in['newIsQntyCS02-05'] #копируем\n",
    "    p_df_out['newIsQntyCSgrt05'] = p_df_in['newIsQntyCSgrt05'] #копируем\n",
    "    p_df_out.to_csv('../data/all_cols.csv', index=False) #скидываем в файл\n",
    "    prn_info(p_df_out)\n",
    "    \n",
    "    cs = pd.DataFrame()\n",
    "    idx = -1\n",
    "    for s in cuisines:\n",
    "        #print(s)\n",
    "        idx += 1\n",
    "        cs.loc[idx, 'cuisine'] = s.strip(\"'\")\n",
    "    cs.to_csv('../data/cuisines.csv', index=False) #скидываем в файл\n",
    "        \n",
    "    return p_df_out"
   ]
  },
  {
   "cell_type": "markdown",
   "metadata": {},
   "source": [
    "### Новые признаки: наименование колонки по названию стиля кухни\n",
    "Колонки заполняются значениями: 1 - в ресторане есть эта кухня / 0 - нет такой кухни"
   ]
  },
  {
   "cell_type": "code",
   "execution_count": 11,
   "metadata": {},
   "outputs": [],
   "source": [
    "def create_CS_cols(p_df_in, p_df_out):\n",
    "    p_df_out = pd.read_csv('../data/all_cols.csv') #инициализация\n",
    "    p_df_out['Cuisine Style'] = p_df_in['Cuisine Style']\n",
    "    p_df_out['Cuisine Style'] = p_df_out['Cuisine Style'].fillna('noname')\n",
    "\n",
    "    cuisines = pd.read_csv('../data/cuisines.csv')\n",
    "    for item in cuisines.cuisine:\n",
    "        p_df_out[item] = p_df_out['Cuisine Style'].apply(lambda x: 1 if item in x else 0)\n",
    "\n",
    "    p_df_out = p_df_out.drop(['Cuisine Style'], axis=1)\n",
    "    p_df_out.to_csv('../data/all_cols.csv', index=False) #скидываем в файл\n",
    "    prn_info(p_df_out)\n",
    "    return p_df_out"
   ]
  },
  {
   "cell_type": "markdown",
   "metadata": {},
   "source": [
    "### Новый признак ['newIsUniqueCS'] - присутствует ли в ресторане тип кухни в единственном экземпляре среди всех ресторанов (1=Да / 0=Нет)\n",
    "# !!! Пока не используется"
   ]
  },
  {
   "cell_type": "code",
   "execution_count": 12,
   "metadata": {},
   "outputs": [],
   "source": [
    "# df['newIsUniqueCS'] = 0 #для нового признака\n",
    "# #Ручное заполнение\n",
    "\n",
    "# #Список кухонь, встречающихся по 1 разу:\n",
    "# ['Mexican', 'Latin', 'Salvadoran', 'Central American', 'Spanish']\n",
    "# ['Asian', 'Thai', 'Yunnan', 'Vegetarian Friendly', 'Vegan Options']\n",
    "# ['Chinese', 'Xinjiang']\n",
    "# ['Chinese', 'Asian', 'Thai', 'Burmese']\n",
    "# ['Mexican', 'American', 'European', 'Latvian', 'Eastern European', 'Hungarian']\n",
    "\n",
    "# idxList = df.index[(df['Cuisine Style'] == \n",
    "#    \"['Mexican', 'Latin', 'Salvadoran', 'Central American', 'Spanish']\") |\n",
    "#    (df['Cuisine Style'] == \n",
    "#     \"['Asian', 'Thai', 'Yunnan', 'Vegetarian Friendly', 'Vegan Options']\") |\n",
    "#    (df['Cuisine Style'] == \"['Chinese', 'Xinjiang']\") |\n",
    "#    (df['Cuisine Style'] == \"['Chinese', 'Asian', 'Thai', 'Burmese']\") |\n",
    "#    (df['Cuisine Style'] == \n",
    "#     \"['Mexican', 'American', 'European', 'Latvian', 'Eastern European', 'Hungarian']\")\n",
    "#       ].to_list()\n",
    "# df.loc[idxList, 'newIsUniqueCS'] = 1\n",
    "\n",
    "# write_to_csv('newIsUniqueCS')\n",
    "\n",
    "# prn_info('newIsUniqueCS')"
   ]
  },
  {
   "cell_type": "markdown",
   "metadata": {},
   "source": [
    "## *** <--//"
   ]
  },
  {
   "cell_type": "markdown",
   "metadata": {},
   "source": [
    "## //--> *** Отзывы"
   ]
  },
  {
   "cell_type": "markdown",
   "metadata": {},
   "source": [
    "### Новый признак ['newQntyLastReview'] - кол-во свежих отзывов (0=Нет отзывов / 1 / 2)\n",
    "# !!! Пока не используется\n",
    "# ---\n",
    "### Новые признаки ['newLastRevYear'], ['newLastRevMonth'], ['newLastRevDofM'], ['newLastRevDofW']\n",
    " - самый свежий отзыв: год, месяц, день месяца, день недели, час суток, когда оставлен отзыв\n",
    "# !!! Пока не используется\n",
    "\n",
    "# ---\n",
    "### Новый признак ['newIsPositiveRev']\n",
    " - newIsPositiveRev - явно позитивный отзыв (1=Да / 0=Нет)"
   ]
  },
  {
   "cell_type": "code",
   "execution_count": 13,
   "metadata": {},
   "outputs": [],
   "source": [
    "def create_IsPositiveRev(p_df_in, p_df_out):\n",
    "    # df['newQntyLastReview'] = 0\n",
    "    # df['newLastRevYear'] = 1900\n",
    "    # df['newLastRevMonth'] = 1\n",
    "    # df['newLastRevDofM'] = 1\n",
    "    # df['newLastRevDofW'] = 1\n",
    "#     df['newIsPositiveRev'] = 0\n",
    "\n",
    "#     cnt = 0\n",
    "#     idxList = df.index[df['Reviews'] != '[[], []]'].to_list()\n",
    "#     for idx in idxList:\n",
    "#         cnt += 1\n",
    "    #     if cnt>5:\n",
    "    #         break\n",
    "\n",
    "        #newQntyLastReview\n",
    "    #     lst = re.findall(r'\\d\\d\\/\\d\\d\\/\\d{4}', df['Reviews'].iloc[idx])\n",
    "    #     df.loc[idx, 'newQntyLastReview'] = len(lst)\n",
    "\n",
    "        #newLastRevYear, newLastRevMonth, newLastRevDofM, newLastRevDofW\n",
    "    #     t = None\n",
    "    #     if len(lst) == 1:\n",
    "    #         t = pd.to_datetime(lst[0])\n",
    "    #     elif len(lst) == 2:\n",
    "    #         t1 = pd.to_datetime(lst[0])\n",
    "    #         t2 = pd.to_datetime(lst[1])\n",
    "    #         if t1>t2:\n",
    "    #             t = t1\n",
    "    #         else:\n",
    "    #             t = t2\n",
    "    #     if not pd.isnull(t):\n",
    "    #         #print(t, ',', t.hour)\n",
    "    #         df.loc[idx, 'newLastRevYear'] = t.year\n",
    "    #         df.loc[idx, 'newLastRevMonth'] = t.month\n",
    "    #         df.loc[idx, 'newLastRevDofM'] = t.day\n",
    "    #         df.loc[idx, 'newLastRevDofW'] = t.weekday()\n",
    "\n",
    "        #newIsPositiveRev\n",
    "#         lst = re.findall(r'good|delic|lovin|wonderf|awesom|best|great|fantast|pleasan', \n",
    "#                          str(df['Reviews'].iloc[idx]).lower())\n",
    "#         if len(lst) > 0:\n",
    "#              df.loc[idx, 'newIsPositiveRev'] = 1\n",
    "\n",
    "    p_df_in['newIsPositiveRev'] = p_df_in['Reviews'].apply(\n",
    "        lambda x: 1 if len(re.findall(r'good|delic|lovin|wonderf|awesom|best|great|fantast|pleasan', \n",
    "                         str(x.lower()))) > 0 else 0)\n",
    "                \n",
    "    p_df_out = pd.read_csv('../data/all_cols.csv') #инициализация\n",
    "    p_df_out['newIsPositiveRev'] = p_df_in['newIsPositiveRev']\n",
    "    p_df_out.to_csv('../data/all_cols.csv', index=False) #скидываем в файл\n",
    "    prn_info(p_df_out)\n",
    "    return p_df_out"
   ]
  },
  {
   "cell_type": "markdown",
   "metadata": {},
   "source": [
    "### Новый признак ['newQntyDaysBetwRev'] - кол-во дней между двумя последними отзывами (365x200=73000 - нет ни одного отзыва /  365x100=36500 - есть только 1 отзыв / N - кол-во дней между двумя последними отзывами)\n",
    "\n",
    "# Пока не придумал, как лучше заполнить - пока пропуск"
   ]
  },
  {
   "cell_type": "code",
   "execution_count": 14,
   "metadata": {},
   "outputs": [],
   "source": [
    "# df['newQntyDaysBetwRev'] = 365 * 200\n",
    "# cnt = 0\n",
    "    \n",
    "# idxList = df.index[df['Reviews'] != '[[], []]'].to_list()\n",
    "# for idx in idxList:\n",
    "#     cnt += 1\n",
    "# #     if cnt>5:\n",
    "# #         break\n",
    "#     Tdiff = dt.timedelta(days=0)\n",
    "#     lst = re.findall(r'\\d\\d\\/\\d\\d\\/\\d{4}', df['Reviews'].iloc[idx])\n",
    "#     if len(lst) == 1:\n",
    "#         df.loc[idx, 'newQntyDaysBetwRev'] = 365 * 100\n",
    "#     else:\n",
    "#         t1 = pd.to_datetime(lst[0])\n",
    "#         t2 = pd.to_datetime(lst[1])\n",
    "#         if t1 > t2:\n",
    "#             Tdiff = t1 - t2\n",
    "#         else:\n",
    "#             Tdiff = t2 - t1\n",
    "#         df.loc[idx, 'newQntyDaysBetwRev'] = Tdiff.days\n",
    "#         #print(Tdiff, Tdiff.days)\n",
    "\n",
    "# write_to_csv('newQntyDaysBetwRev')\n",
    "\n",
    "# prn_info('Reviews')\n",
    "# prn_info('newQntyDaysBetwRev')"
   ]
  },
  {
   "cell_type": "markdown",
   "metadata": {},
   "source": [
    "## *** <--//"
   ]
  },
  {
   "cell_type": "markdown",
   "metadata": {},
   "source": [
    "## //--> *** Рестораны"
   ]
  },
  {
   "cell_type": "markdown",
   "metadata": {},
   "source": [
    "### Новый признак ['newIsChain'] - сетевой ресторан (1=Да / 0=Нет)"
   ]
  },
  {
   "cell_type": "code",
   "execution_count": 15,
   "metadata": {},
   "outputs": [],
   "source": [
    "def create_IsChain(p_df_in, p_df_out):\n",
    "    p_df_in['newIsChain'] = 1\n",
    "    df_chain = pd.DataFrame(p_df_in.groupby(p_df_in['Restaurant_id']).newIsChain.count())\n",
    "    df_chain.columns = ['cnt']\n",
    "    idxList = df_chain.index[df_chain['cnt'] == 1].to_list() #это НЕсетевые рестораны\n",
    "\n",
    "    p_df_in['newIsChain'] = p_df_in['Restaurant_id'].apply(lambda x: 0 if x in idxList else 1)\n",
    "\n",
    "    p_df_out = pd.read_csv('../data/all_cols.csv') #инициализация\n",
    "    p_df_out['newIsChain'] = p_df_in['newIsChain']\n",
    "    p_df_out.to_csv('../data/all_cols.csv', index=False) #скидываем в файл\n",
    "    prn_info(p_df_out)\n",
    "    return p_df_out"
   ]
  },
  {
   "cell_type": "markdown",
   "metadata": {},
   "source": [
    "### Новый признак ['RankingInverse'] - обратная величина Ranking"
   ]
  },
  {
   "cell_type": "code",
   "execution_count": 16,
   "metadata": {},
   "outputs": [],
   "source": [
    "def create_RankingInverse(p_df_in, p_df_out):\n",
    "    p_df_out = pd.read_csv('../data/all_cols.csv') #инициализация\n",
    "    p_df_out['RankingInverse'] = 1 / p_df_out['Ranking']\n",
    "    p_df_out.to_csv('../data/all_cols.csv', index=False) #скидываем в файл\n",
    "    prn_info(p_df_out)\n",
    "    return p_df_out    "
   ]
  },
  {
   "cell_type": "markdown",
   "metadata": {},
   "source": [
    "## *** <--//"
   ]
  },
  {
   "cell_type": "code",
   "execution_count": 17,
   "metadata": {},
   "outputs": [
    {
     "name": "stdout",
     "output_type": "stream",
     "text": [
      "Wall time: 0 ns\n"
     ]
    }
   ],
   "source": [
    "%%time\n",
    "##### Тестирование\n",
    "# df = pd.read_csv('../data/main_task.csv')\n",
    "# X_all_cols = pd.read_csv('../data/all_cols.csv')\n",
    "\n",
    "# X_all_cols = create_IsChain(df, X_all_cols)\n",
    "# X_all_cols.head()"
   ]
  },
  {
   "cell_type": "code",
   "execution_count": 18,
   "metadata": {},
   "outputs": [],
   "source": [
    "# X_all_cols.newIsChain.value_counts()"
   ]
  },
  {
   "cell_type": "code",
   "execution_count": 19,
   "metadata": {},
   "outputs": [],
   "source": [
    "# p_df_in = pd.read_csv('../data/main_task.csv')"
   ]
  },
  {
   "cell_type": "code",
   "execution_count": 20,
   "metadata": {},
   "outputs": [],
   "source": [
    "# for city in p_df_in.City.unique():\n",
    "#     print(city)\n",
    "#     rr = p_df_in.loc[p_df_in.City==city].Ranking.value_counts(bins=4)\n",
    "#     rr = pd.DataFrame(rr)\n",
    "\n",
    "#     lst_rr = []\n",
    "#     for i in range(4):\n",
    "#         lst = []\n",
    "#         intrv = str(rank_range.index[i])\n",
    "#         for s in intrv.strip('( )[ ]').split(', '):\n",
    "#             lst.append(float(s))\n",
    "#         lst_rr += [lst]\n",
    "#     lst_rr.sort()\n",
    "\n",
    "#     break\n",
    "\n",
    "# lst_rr"
   ]
  },
  {
   "cell_type": "code",
   "execution_count": null,
   "metadata": {},
   "outputs": [],
   "source": []
  },
  {
   "cell_type": "code",
   "execution_count": null,
   "metadata": {},
   "outputs": [],
   "source": []
  },
  {
   "cell_type": "code",
   "execution_count": null,
   "metadata": {},
   "outputs": [],
   "source": []
  },
  {
   "cell_type": "code",
   "execution_count": null,
   "metadata": {},
   "outputs": [],
   "source": []
  }
 ],
 "metadata": {
  "kernelspec": {
   "display_name": "Python 3",
   "language": "python",
   "name": "python3"
  },
  "language_info": {
   "codemirror_mode": {
    "name": "ipython",
    "version": 3
   },
   "file_extension": ".py",
   "mimetype": "text/x-python",
   "name": "python",
   "nbconvert_exporter": "python",
   "pygments_lexer": "ipython3",
   "version": "3.7.4"
  }
 },
 "nbformat": 4,
 "nbformat_minor": 2
}
