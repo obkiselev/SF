{
 "cells": [
  {
   "cell_type": "code",
   "execution_count": 12,
   "metadata": {},
   "outputs": [
    {
     "name": "stdout",
     "output_type": "stream",
     "text": [
      "Wall time: 290 ms\n"
     ]
    }
   ],
   "source": [
    "%%time\n",
    "%run RDS01_ML01_01loading.ipynb\n",
    "%run RDS01_ML01_02clean_beg.ipynb\n",
    "%run RDS01_ML01_03features.ipynb\n",
    "%run RDS01_ML01_04clean_end.ipynb"
   ]
  },
  {
   "cell_type": "code",
   "execution_count": 13,
   "metadata": {},
   "outputs": [
    {
     "name": "stdout",
     "output_type": "stream",
     "text": [
      "Collecting nbimporter\n",
      "  Downloading https://files.pythonhosted.org/packages/39/a1/9771984f60c4ea6d0c36215b44a5c1537cfda845c08e7ee5cf748c43d7cf/nbimporter-0.3.1.tar.gz\n",
      "Building wheels for collected packages: nbimporter\n",
      "  Building wheel for nbimporter (setup.py): started\n",
      "  Building wheel for nbimporter (setup.py): finished with status 'done'\n",
      "  Created wheel for nbimporter: filename=nbimporter-0.3.1-cp37-none-any.whl size=3797 sha256=6e1f927d8e268d6ff0ddf638a3678aeec8266817154267805a576d8d13bfce8a\n",
      "  Stored in directory: C:\\Users\\OKiselev\\AppData\\Local\\pip\\Cache\\wheels\\44\\7d\\40\\f48fe3f0995a282d582ca73a6807b9bb23c8cc3f1525e62429\n",
      "Successfully built nbimporter\n",
      "Installing collected packages: nbimporter\n",
      "Successfully installed nbimporter-0.3.1\n"
     ]
    }
   ],
   "source": [
    "#!pip install nbimporter"
   ]
  },
  {
   "cell_type": "code",
   "execution_count": null,
   "metadata": {},
   "outputs": [],
   "source": []
  }
 ],
 "metadata": {
  "kernelspec": {
   "display_name": "Python 3",
   "language": "python",
   "name": "python3"
  },
  "language_info": {
   "codemirror_mode": {
    "name": "ipython",
    "version": 3
   },
   "file_extension": ".py",
   "mimetype": "text/x-python",
   "name": "python",
   "nbconvert_exporter": "python",
   "pygments_lexer": "ipython3",
   "version": "3.7.4"
  }
 },
 "nbformat": 4,
 "nbformat_minor": 2
}
